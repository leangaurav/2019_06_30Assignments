{
 "cells": [
  {
   "cell_type": "code",
   "execution_count": 1,
   "metadata": {},
   "outputs": [],
   "source": [
    "# don't use BaseException while creating custom exception classes \n",
    "# create one class from which all exceptions will inherit\n",
    "\n",
    "class MyException(Exception):\n",
    "    pass\n",
    "\n",
    "class Exception1(MyException):\n",
    "    pass\n",
    "\n",
    "class Exception2(MyException):\n",
    "    pass"
   ]
  },
  {
   "cell_type": "code",
   "execution_count": 6,
   "metadata": {},
   "outputs": [
    {
     "name": "stdout",
     "output_type": "stream",
     "text": [
      "Raising  <class '__main__.MyException'>\n"
     ]
    },
    {
     "ename": "TypeError",
     "evalue": "catching classes that do not inherit from BaseException is not allowed",
     "output_type": "error",
     "traceback": [
      "\u001b[1;31m---------------------------------------------------------------------------\u001b[0m",
      "\u001b[1;31mTypeError\u001b[0m                                 Traceback (most recent call last)",
      "\u001b[1;32m<ipython-input-6-58539d4d8442>\u001b[0m in \u001b[0;36m<module>\u001b[1;34m\u001b[0m\n\u001b[0;32m     15\u001b[0m         \u001b[0mprint\u001b[0m\u001b[1;33m(\u001b[0m\u001b[1;34m'Raising '\u001b[0m\u001b[1;33m,\u001b[0m \u001b[0me\u001b[0m\u001b[1;33m)\u001b[0m\u001b[1;33m\u001b[0m\u001b[1;33m\u001b[0m\u001b[0m\n\u001b[1;32m---> 16\u001b[1;33m         \u001b[1;32mraise\u001b[0m \u001b[0me\u001b[0m\u001b[1;33m\u001b[0m\u001b[1;33m\u001b[0m\u001b[0m\n\u001b[0m\u001b[0;32m     17\u001b[0m     \u001b[1;32mexcept\u001b[0m \u001b[0mException2\u001b[0m\u001b[1;33m:\u001b[0m\u001b[1;33m\u001b[0m\u001b[1;33m\u001b[0m\u001b[0m\n",
      "\u001b[1;31mTypeError\u001b[0m: exceptions must derive from BaseException",
      "\nDuring handling of the above exception, another exception occurred:\n",
      "\u001b[1;31mTypeError\u001b[0m                                 Traceback (most recent call last)",
      "\u001b[1;32m<ipython-input-6-58539d4d8442>\u001b[0m in \u001b[0;36m<module>\u001b[1;34m\u001b[0m\n\u001b[0;32m     15\u001b[0m         \u001b[0mprint\u001b[0m\u001b[1;33m(\u001b[0m\u001b[1;34m'Raising '\u001b[0m\u001b[1;33m,\u001b[0m \u001b[0me\u001b[0m\u001b[1;33m)\u001b[0m\u001b[1;33m\u001b[0m\u001b[1;33m\u001b[0m\u001b[0m\n\u001b[0;32m     16\u001b[0m         \u001b[1;32mraise\u001b[0m \u001b[0me\u001b[0m\u001b[1;33m\u001b[0m\u001b[1;33m\u001b[0m\u001b[0m\n\u001b[1;32m---> 17\u001b[1;33m     \u001b[1;32mexcept\u001b[0m \u001b[0mException2\u001b[0m\u001b[1;33m:\u001b[0m\u001b[1;33m\u001b[0m\u001b[1;33m\u001b[0m\u001b[0m\n\u001b[0m\u001b[0;32m     18\u001b[0m         \u001b[0mprint\u001b[0m\u001b[1;33m(\u001b[0m\u001b[1;34m'Got Exception2'\u001b[0m\u001b[1;33m)\u001b[0m\u001b[1;33m\u001b[0m\u001b[1;33m\u001b[0m\u001b[0m\n\u001b[0;32m     19\u001b[0m     \u001b[1;32mexcept\u001b[0m \u001b[0mMyException\u001b[0m\u001b[1;33m:\u001b[0m \u001b[1;31m# always keep the generic ones on bottom\u001b[0m\u001b[1;33m\u001b[0m\u001b[1;33m\u001b[0m\u001b[0m\n",
      "\u001b[1;31mTypeError\u001b[0m: catching classes that do not inherit from BaseException is not allowed"
     ]
    }
   ],
   "source": [
    "class MyException(Exception):\n",
    "    pass\n",
    "\n",
    "class Exception1(MyException):\n",
    "    pass\n",
    "\n",
    "class Exception2(MyException):\n",
    "    pass\n",
    "\n",
    "a = [MyException, Exception1, Exception2]\n",
    "\n",
    "for e in a:\n",
    "    try:\n",
    "        print('Raising ', e)\n",
    "        raise e\n",
    "    except Exception2:\n",
    "        print('Got Exception2')\n",
    "    except MyException: # always keep the generic ones on bottom\n",
    "        print('Got MyException')"
   ]
  },
  {
   "cell_type": "code",
   "execution_count": 8,
   "metadata": {},
   "outputs": [
    {
     "name": "stdout",
     "output_type": "stream",
     "text": [
      "Pizza 100\n"
     ]
    }
   ],
   "source": [
    "class Pizza:\n",
    "    def __init__(self):\n",
    "        self.price = 100\n",
    "    \n",
    "    def __str__(self):\n",
    "        return \"Pizza {}\".format(self.get_price())\n",
    "    \n",
    "    def get_price(self):\n",
    "        return self.price\n",
    "    \n",
    "p1 = Pizza()\n",
    "print(p1)"
   ]
  },
  {
   "cell_type": "code",
   "execution_count": 19,
   "metadata": {},
   "outputs": [
    {
     "name": "stdout",
     "output_type": "stream",
     "text": [
      "CheezeMPizza 150\n",
      "CheezeVeggiePizza 160\n"
     ]
    }
   ],
   "source": [
    "class Pizza:\n",
    "    def __init__(self, price = 100):\n",
    "        self.price = price\n",
    "    \n",
    "    def __str__(self):\n",
    "        return \"{} {}\".format(self.__class__.__name__, self.get_price())\n",
    "    \n",
    "    def get_price(self):\n",
    "        return self.price\n",
    "\n",
    "class MPizza(Pizza):\n",
    "    def __init__(self):\n",
    "        super().__init__(120)\n",
    "\n",
    "class VeggiePizza(Pizza):\n",
    "    def __init__(self):\n",
    "        super().__init__(130)\n",
    "        \n",
    "class CheezeMPizza(MPizza):\n",
    "    def __init__(self):\n",
    "        super().__init__()\n",
    "    \n",
    "    def get_price(self):\n",
    "        return super().get_price() + 40\n",
    "    \n",
    "class CheezeVeggiePizza(VeggiePizza):\n",
    "    def __init__(self):\n",
    "        super().__init__()\n",
    "    \n",
    "    def get_price(self):\n",
    "        return super().get_price() + 30\n",
    "\n",
    "p1 = CheezeMPizza()\n",
    "print(p1)\n",
    "p2 = CheezeVeggiePizza()\n",
    "print(p2)"
   ]
  },
  {
   "cell_type": "code",
   "execution_count": 28,
   "metadata": {},
   "outputs": [
    {
     "name": "stdout",
     "output_type": "stream",
     "text": [
      "MPizza 170\n",
      "VeggiePizza 130\n",
      "MPizza 40200\n"
     ]
    }
   ],
   "source": [
    "class Pizza:\n",
    "    def __init__(self, price, toppings):\n",
    "        self.price = price\n",
    "        self.toppings = toppings # should be a list\n",
    "    \n",
    "    def __str__(self):\n",
    "        return \"{} {}\".format(self.__class__.__name__, self.get_price())\n",
    "    \n",
    "    def get_price(self):\n",
    "        return self.price + sum([ t.price() for t in self.toppings])\n",
    "\n",
    "class Cheeze:\n",
    "    def price(self):\n",
    "        return 40\n",
    "    \n",
    "class Tomato:\n",
    "    def price(self):\n",
    "        return 10\n",
    "\n",
    "class Onion:\n",
    "    def price(self):\n",
    "        return 15\n",
    "    \n",
    "class Laptop:\n",
    "    def price(self):\n",
    "        return 40000\n",
    "\n",
    "class MPizza(Pizza):\n",
    "    def __init__(self, toppings=[]):\n",
    "        super().__init__(120, toppings)\n",
    "\n",
    "class VeggiePizza(Pizza):\n",
    "    def __init__(self, toppings=[]):\n",
    "        super().__init__(130, toppings)\n",
    "        \n",
    "p1 = MPizza([Cheeze(), Tomato()])\n",
    "print(p1)\n",
    "p2 = VeggiePizza()\n",
    "print(p2)\n",
    "p3 = MPizza([Cheeze(), Cheeze(), Laptop()])\n",
    "print(p3)"
   ]
  },
  {
   "cell_type": "code",
   "execution_count": 30,
   "metadata": {},
   "outputs": [
    {
     "name": "stdout",
     "output_type": "stream",
     "text": [
      "MPizza 170\n",
      "VeggiePizza 130\n",
      "MPizza 200\n"
     ]
    }
   ],
   "source": [
    "class Pizza:\n",
    "    def __init__(self, price, toppings):\n",
    "        self.price = price\n",
    "        self.toppings = [t for t in toppings if isinstance(t, Topping) ] # should be a list\n",
    "\n",
    "    def __str__(self):\n",
    "        return \"{} {}\".format(self.__class__.__name__, self.get_price())\n",
    "\n",
    "    def get_price(self):\n",
    "        return self.price + sum([ t.price() for t in self.toppings])\n",
    "\n",
    "class Topping:\n",
    "    def price(self):\n",
    "        raise Exception(\"Not Implemented\")\n",
    "\n",
    "class Cheeze(Topping):\n",
    "    def price(self):\n",
    "        return 40\n",
    "\n",
    "class Tomato(Topping):\n",
    "    def price(self):\n",
    "        return 10\n",
    "\n",
    "class Onion(Topping):\n",
    "    def price(self):\n",
    "        return 15\n",
    "    \n",
    "class Laptop:\n",
    "    def price(self):\n",
    "        return 40000\n",
    "\n",
    "class MPizza(Pizza):\n",
    "    def __init__(self, toppings=[]):\n",
    "        super().__init__(120, toppings)\n",
    "\n",
    "class VeggiePizza(Pizza):\n",
    "    def __init__(self, toppings=[]):\n",
    "        super().__init__(130, toppings)\n",
    "        \n",
    "p1 = MPizza([Cheeze(), Tomato()])\n",
    "print(p1)\n",
    "p2 = VeggiePizza()\n",
    "print(p2)\n",
    "p3 = MPizza([Cheeze(), Cheeze(), Laptop()])\n",
    "print(p3)"
   ]
  },
  {
   "cell_type": "code",
   "execution_count": 33,
   "metadata": {},
   "outputs": [
    {
     "name": "stdout",
     "output_type": "stream",
     "text": [
      "{}\n",
      "{'x': 100}\n",
      "{'x': 100}\n",
      "{'y': 'abcd'}\n",
      "2463443209096 2463442846056\n"
     ]
    }
   ],
   "source": [
    "class ABC:\n",
    "    pass\n",
    "\n",
    "a1 = ABC()\n",
    "print(a1.__dict__)\n",
    "a1.x = 100\n",
    "print(a1.__dict__)\n",
    "a2 = ABC()\n",
    "a2.y = 'abcd'\n",
    "print(a1.__dict__)\n",
    "print(a2.__dict__)\n",
    "print(id(a1.__dict__), id(a2.__dict__))"
   ]
  },
  {
   "cell_type": "code",
   "execution_count": null,
   "metadata": {},
   "outputs": [],
   "source": []
  },
  {
   "cell_type": "code",
   "execution_count": null,
   "metadata": {},
   "outputs": [],
   "source": []
  },
  {
   "cell_type": "code",
   "execution_count": null,
   "metadata": {},
   "outputs": [],
   "source": []
  }
 ],
 "metadata": {
  "kernelspec": {
   "display_name": "Python 3",
   "language": "python",
   "name": "python3"
  },
  "language_info": {
   "codemirror_mode": {
    "name": "ipython",
    "version": 3
   },
   "file_extension": ".py",
   "mimetype": "text/x-python",
   "name": "python",
   "nbconvert_exporter": "python",
   "pygments_lexer": "ipython3",
   "version": "3.7.3"
  }
 },
 "nbformat": 4,
 "nbformat_minor": 2
}
