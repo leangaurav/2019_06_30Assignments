{
 "cells": [
  {
   "cell_type": "markdown",
   "metadata": {},
   "source": [
    "## Dictionary\n",
    "- Dictionary is a mutable DS.\n",
    "- Data is in form of key:Value\n",
    "- key is always a immutable data type\n",
    "- value can be any data type\n",
    "- {}\n",
    "- hash map\n",
    "- keys are unique\n",
    "- values need not be unique"
   ]
  },
  {
   "cell_type": "code",
   "execution_count": null,
   "metadata": {},
   "outputs": [],
   "source": []
  },
  {
   "cell_type": "code",
   "execution_count": 24,
   "metadata": {},
   "outputs": [
    {
     "ename": "IndentationError",
     "evalue": "unexpected indent (<ipython-input-24-df43d2ef54b6>, line 2)",
     "output_type": "error",
     "traceback": [
      "\u001b[1;36m  File \u001b[1;32m\"<ipython-input-24-df43d2ef54b6>\"\u001b[1;36m, line \u001b[1;32m2\u001b[0m\n\u001b[1;33m    1000 1004  1008\u001b[0m\n\u001b[1;37m    ^\u001b[0m\n\u001b[1;31mIndentationError\u001b[0m\u001b[1;31m:\u001b[0m unexpected indent\n"
     ]
    }
   ],
   "source": [
    "l = [1,   ,    [10,20,30]] # array\n",
    "     1000 1004  1008\n",
    "l[4]\n",
    "O(1)\n",
    "\n",
    "add : 1000\n",
    "# linked list\n",
    "1000 : 1  -> 3500\n",
    "3500 : 3  -> 3000\n",
    "3000 : 4  -> 1005\n",
    "1005 : 5  -> 5000\n",
    "5000 : 10 -> X\n",
    "    \n",
    "    O(n)\n",
    "- addition\n",
    "- access\n",
    "- deletion\n",
    "- how data is arranged"
   ]
  },
  {
   "cell_type": "code",
   "execution_count": 25,
   "metadata": {},
   "outputs": [
    {
     "name": "stdout",
     "output_type": "stream",
     "text": [
      "10\n"
     ]
    }
   ],
   "source": [
    "l = [10,20, 'True']\n",
    "print(l[0])"
   ]
  },
  {
   "cell_type": "code",
   "execution_count": 30,
   "metadata": {},
   "outputs": [
    {
     "name": "stdout",
     "output_type": "stream",
     "text": [
      "{} <class 'dict'>\n",
      "{} <class 'dict'>\n",
      "0\n",
      "False\n"
     ]
    }
   ],
   "source": [
    "d = {}\n",
    "print(d, type(d))\n",
    "d = dict()\n",
    "print(d, type(d))\n",
    "print(len(d))\n",
    "print(bool(d))"
   ]
  },
  {
   "cell_type": "code",
   "execution_count": 34,
   "metadata": {},
   "outputs": [
    {
     "name": "stdout",
     "output_type": "stream",
     "text": [
      "{10: 'abc', 'A': 100, 'b': [10, 20, 30]}\n"
     ]
    }
   ],
   "source": [
    "d = {10:'abc', 'A':100, 'b':[10,20,30]}\n",
    "print(d)\n",
    "# d = {10:'abc', 'A':100, [10,20,30]: 'ABC'} # key is always immutable"
   ]
  },
  {
   "cell_type": "code",
   "execution_count": 40,
   "metadata": {},
   "outputs": [
    {
     "name": "stdout",
     "output_type": "stream",
     "text": [
      "10\n",
      "(10, 20)\n",
      "20\n"
     ]
    },
    {
     "ename": "KeyError",
     "evalue": "3",
     "output_type": "error",
     "traceback": [
      "\u001b[1;31m---------------------------------------------------------------------------\u001b[0m",
      "\u001b[1;31mKeyError\u001b[0m                                  Traceback (most recent call last)",
      "\u001b[1;32m<ipython-input-40-c8002c5b65d2>\u001b[0m in \u001b[0;36m<module>\u001b[1;34m\u001b[0m\n\u001b[0;32m      3\u001b[0m \u001b[0mprint\u001b[0m\u001b[1;33m(\u001b[0m\u001b[0md\u001b[0m\u001b[1;33m[\u001b[0m\u001b[1;34m'abc'\u001b[0m\u001b[1;33m]\u001b[0m\u001b[1;33m)\u001b[0m\u001b[1;33m\u001b[0m\u001b[1;33m\u001b[0m\u001b[0m\n\u001b[0;32m      4\u001b[0m \u001b[0mprint\u001b[0m\u001b[1;33m(\u001b[0m\u001b[0md\u001b[0m\u001b[1;33m[\u001b[0m\u001b[1;34m'abc'\u001b[0m\u001b[1;33m]\u001b[0m\u001b[1;33m[\u001b[0m\u001b[1;36m1\u001b[0m\u001b[1;33m]\u001b[0m\u001b[1;33m)\u001b[0m\u001b[1;33m\u001b[0m\u001b[1;33m\u001b[0m\u001b[0m\n\u001b[1;32m----> 5\u001b[1;33m \u001b[0mprint\u001b[0m\u001b[1;33m(\u001b[0m\u001b[0md\u001b[0m\u001b[1;33m[\u001b[0m\u001b[1;36m3\u001b[0m\u001b[1;33m]\u001b[0m\u001b[1;33m)\u001b[0m\u001b[1;33m\u001b[0m\u001b[1;33m\u001b[0m\u001b[0m\n\u001b[0m",
      "\u001b[1;31mKeyError\u001b[0m: 3"
     ]
    }
   ],
   "source": [
    "d = {1:10, 2:20, 4:40, 'abc': (10,20)}\n",
    "print(d[1]) # access the data\n",
    "print(d['abc'])\n",
    "print(d['abc'][1])\n",
    "print(d[3])"
   ]
  },
  {
   "cell_type": "code",
   "execution_count": 48,
   "metadata": {},
   "outputs": [
    {
     "name": "stdout",
     "output_type": "stream",
     "text": [
      "{}\n",
      "{1: 100}\n",
      "{1: 100, 2: 100}\n",
      "{1: 100, 2: 100, 'abc': 1000}\n",
      "{1: -100, 2: 100, 'abc': 1000}\n",
      "{1: -80, 2: 100, 'abc': 1000}\n",
      "{1: -79, 2: 100, 'abc': 1000}\n"
     ]
    }
   ],
   "source": [
    "d = {}\n",
    "print(d)\n",
    "d[1] = 100# key gets created\n",
    "print(d)\n",
    "d[2] = 100\n",
    "print(d)\n",
    "d['abc'] = 1000\n",
    "print(d)\n",
    "d[1] = -100 # value for the key gets updated\n",
    "print(d)\n",
    "d[1] = d[1] + 20\n",
    "print(d)\n",
    "d[1] += 1\n",
    "print(d)"
   ]
  },
  {
   "cell_type": "code",
   "execution_count": 50,
   "metadata": {},
   "outputs": [
    {
     "name": "stdout",
     "output_type": "stream",
     "text": [
      "True\n",
      "True\n",
      "False\n",
      "True\n",
      "False\n"
     ]
    }
   ],
   "source": [
    "# membership check for key\n",
    "d = {1:10,2:20, 'a':'abc'}\n",
    "print(1 in d)\n",
    "print(2 in d)\n",
    "print('abc' in d)\n",
    "print('a' in d)\n",
    "print(10 in d)"
   ]
  },
  {
   "cell_type": "code",
   "execution_count": null,
   "metadata": {},
   "outputs": [],
   "source": [
    "## Dictionary\n",
    "- Dictionary is a mutable DS.\n",
    "- Data is in form of key:Value\n",
    "- key is always a immutable data type\n",
    "- value can be any data type\n",
    "- {}\n",
    "- hash map\n",
    "- keys are unique\n",
    "- values need not be unique\n",
    "\n",
    "\n",
    "\n",
    "l = [1,   ,    [10,20,30]] # array\n",
    "     1000 1004  1008\n",
    "l[4]\n",
    "O(1)\n",
    "\n",
    "add : 1000\n",
    "# linked list\n",
    "1000 : 1  -> 3500\n",
    "3500 : 3  -> 3000\n",
    "3000 : 4  -> 1005\n",
    "1005 : 5  -> 5000\n",
    "5000 : 10 -> X\n",
    "    \n",
    "    O(n)\n",
    "- addition\n",
    "- access\n",
    "- deletion\n",
    "- how data is arranged\n",
    "\n",
    "l = [10,20, 'True']\n",
    "print(l[0])\n",
    "\n",
    "d = {}\n",
    "print(d, type(d))\n",
    "d = dict()\n",
    "print(d, type(d))\n",
    "print(len(d))\n",
    "print(bool(d))\n",
    "\n",
    "d = {10:'abc', 'A':100, 'b':[10,20,30]}\n",
    "print(d)\n",
    "# d = {10:'abc', 'A':100, [10,20,30]: 'ABC'} # key is always immutable\n",
    "\n",
    "d = {1:10, 2:20, 4:40, 'abc': (10,20)}\n",
    "print(d[1]) # access the data\n",
    "print(d['abc'])\n",
    "print(d['abc'][1])\n",
    "print(d[3])\n",
    "\n",
    "d = {}\n",
    "print(d)\n",
    "d[1] = 100# key gets created\n",
    "print(d)\n",
    "d[2] = 100\n",
    "print(d)\n",
    "d['abc'] = 1000\n",
    "print(d)\n",
    "d[1] = -100 # value for the key gets updated\n",
    "print(d)\n",
    "d[1] = d[1] + 20\n",
    "print(d)\n",
    "d[1] += 1\n",
    "print(d)\n",
    "\n",
    "# membership check for key\n",
    "d = {1:10,2:20, 'a':'abc'}\n",
    "print(1 in d)\n",
    "print(2 in d)\n",
    "print('abc' in d)\n",
    "print('a' in d)\n",
    "print(10 in d)"
   ]
  },
  {
   "cell_type": "code",
   "execution_count": 12,
   "metadata": {},
   "outputs": [
    {
     "name": "stdout",
     "output_type": "stream",
     "text": [
      "Enter a string: abcdabca123##$\n",
      "{'a': 3, 'b': 2, 'c': 2, 'd': 1, '1': 1, '2': 1, '3': 1, '#': 2, '$': 1}\n"
     ]
    }
   ],
   "source": [
    "s = input('Enter a string: ')\n",
    "d = {}\n",
    "for c in s:\n",
    "    if c in d:\n",
    "        d[c] = d[c] + 1\n",
    "    else:\n",
    "        d[c] = 1\n",
    "\n",
    "print(d)\n",
    "#s =  ab caba\n",
    "# d  {} {a:1} {a:1,b:1} {a:1,b:1,' ':1} {a:1,b:1,' ':1,c:1} {a:2,b:1,' ':1,c:1} {a:2,b:2,' ':1,c:1} {a:3,b:2,' ':1,c:1}\n",
    "# c     a     b         ' '             c                   a                   b                   a\n"
   ]
  },
  {
   "cell_type": "code",
   "execution_count": 17,
   "metadata": {},
   "outputs": [
    {
     "name": "stdout",
     "output_type": "stream",
     "text": [
      "10\n",
      "None\n",
      "ABC\n",
      "10\n"
     ]
    }
   ],
   "source": [
    "d = {1:10,2:20}\n",
    "print(d.get(1))\n",
    "print(d.get(3))\n",
    "print(d.get(3, 'ABC')) # default value\n",
    "print(d.get(1, 'ABC')) #get value for key 1\n",
    "print(d.get())"
   ]
  },
  {
   "cell_type": "code",
   "execution_count": 18,
   "metadata": {},
   "outputs": [
    {
     "name": "stdout",
     "output_type": "stream",
     "text": [
      "Enter a string: abcabA\n",
      "{'a': 2, 'b': 2, 'c': 1, 'A': 1}\n"
     ]
    }
   ],
   "source": [
    "s = input('Enter a string: ')\n",
    "d = {}\n",
    "for c in s:\n",
    "    d[c] = d.get(c, 0) + 1\n",
    "\n",
    "print(d)"
   ]
  },
  {
   "cell_type": "code",
   "execution_count": null,
   "metadata": {},
   "outputs": [],
   "source": [
    "s = 'this is.a,string' #\n",
    "l_words = []\n",
    "l_chars = []"
   ]
  },
  {
   "cell_type": "code",
   "execution_count": 25,
   "metadata": {},
   "outputs": [
    {
     "name": "stdout",
     "output_type": "stream",
     "text": [
      "{2: 20, 3: 30}\n",
      "{3: 30} 20\n",
      "{3: 30} 200\n"
     ]
    },
    {
     "ename": "TypeError",
     "evalue": "pop expected at least 1 arguments, got 0",
     "output_type": "error",
     "traceback": [
      "\u001b[1;31m---------------------------------------------------------------------------\u001b[0m",
      "\u001b[1;31mTypeError\u001b[0m                                 Traceback (most recent call last)",
      "\u001b[1;32m<ipython-input-25-9e451f581ec1>\u001b[0m in \u001b[0;36m<module>\u001b[1;34m\u001b[0m\n\u001b[0;32m      8\u001b[0m \u001b[0mr\u001b[0m \u001b[1;33m=\u001b[0m \u001b[0md\u001b[0m\u001b[1;33m.\u001b[0m\u001b[0mpop\u001b[0m\u001b[1;33m(\u001b[0m\u001b[1;36m2\u001b[0m\u001b[1;33m,\u001b[0m\u001b[1;36m200\u001b[0m\u001b[1;33m)\u001b[0m\u001b[1;31m# with default returns default value if key is not there\u001b[0m\u001b[1;33m\u001b[0m\u001b[1;33m\u001b[0m\u001b[0m\n\u001b[0;32m      9\u001b[0m \u001b[0mprint\u001b[0m\u001b[1;33m(\u001b[0m\u001b[0md\u001b[0m\u001b[1;33m,\u001b[0m \u001b[0mr\u001b[0m\u001b[1;33m)\u001b[0m\u001b[1;33m\u001b[0m\u001b[1;33m\u001b[0m\u001b[0m\n\u001b[1;32m---> 10\u001b[1;33m \u001b[0md\u001b[0m\u001b[1;33m.\u001b[0m\u001b[0mpop\u001b[0m\u001b[1;33m(\u001b[0m\u001b[1;33m)\u001b[0m\u001b[1;33m\u001b[0m\u001b[1;33m\u001b[0m\u001b[0m\n\u001b[0m",
      "\u001b[1;31mTypeError\u001b[0m: pop expected at least 1 arguments, got 0"
     ]
    }
   ],
   "source": [
    "d = {1:10,2:20,3:30}\n",
    "del d[1]\n",
    "print(d)\n",
    "r = d.pop(2)\n",
    "print(d, r)\n",
    "\n",
    "#r = d.pop(2)# without default exception\n",
    "r = d.pop(2,200)# with default returns default value if key is not there\n",
    "print(d, r)"
   ]
  },
  {
   "cell_type": "code",
   "execution_count": 36,
   "metadata": {},
   "outputs": [
    {
     "name": "stdout",
     "output_type": "stream",
     "text": [
      "dict_keys([1, 2, 3, 4])\n",
      "dict_values([10, 20, 40, 40])\n",
      "dict_items([(1, 10), (2, 20), (3, 40), (4, 40)])\n",
      "{10: 20, 20: 2000}\n",
      "{'a': 10, 'b': 'abcd'}\n",
      "a\n",
      "b\n"
     ]
    }
   ],
   "source": [
    "d = {1:10,2:20,3:40,4:40}\n",
    "print(d.keys())\n",
    "print(d.values())\n",
    "print(d.items())\n",
    "\n",
    "d = dict( [(10,20), (20,2000) ] )\n",
    "print(d)\n",
    "d = dict(a = 10, b = 'abcd') # you can use only names as the key\n",
    "print(d)\n",
    "\n",
    "for x in d:\n",
    "    print(x)"
   ]
  },
  {
   "cell_type": "code",
   "execution_count": null,
   "metadata": {},
   "outputs": [],
   "source": []
  },
  {
   "cell_type": "code",
   "execution_count": 38,
   "metadata": {},
   "outputs": [
    {
     "name": "stdout",
     "output_type": "stream",
     "text": [
      "Enter a string: abaaaabccccde\n",
      "a : 5\n",
      "b : 2\n",
      "c : 4\n",
      "d : 1\n",
      "e : 1\n",
      "\n",
      "('a', 5)\n",
      "('b', 2)\n",
      "('c', 4)\n",
      "('d', 1)\n",
      "('e', 1)\n"
     ]
    }
   ],
   "source": [
    "s = input('Enter a string: ')\n",
    "d = {}\n",
    "for c in s:\n",
    "    d[c] = d.get(c, 0) + 1\n",
    "\n",
    "for k in d:\n",
    "    print(k, ':', d[k])\n",
    "print()\n",
    "for data in d.items():\n",
    "    print(data)"
   ]
  },
  {
   "cell_type": "code",
   "execution_count": null,
   "metadata": {},
   "outputs": [],
   "source": []
  }
 ],
 "metadata": {
  "kernelspec": {
   "display_name": "Python 3",
   "language": "python",
   "name": "python3"
  },
  "language_info": {
   "codemirror_mode": {
    "name": "ipython",
    "version": 3
   },
   "file_extension": ".py",
   "mimetype": "text/x-python",
   "name": "python",
   "nbconvert_exporter": "python",
   "pygments_lexer": "ipython3",
   "version": "3.7.3"
  }
 },
 "nbformat": 4,
 "nbformat_minor": 2
}
