{
 "cells": [
  {
   "cell_type": "code",
   "execution_count": 4,
   "metadata": {},
   "outputs": [
    {
     "name": "stdout",
     "output_type": "stream",
     "text": [
      "[10, 10, 9, 8, 7]\n",
      "[100, 100, 81, 64, 49]\n"
     ]
    }
   ],
   "source": [
    "def funct(f, data): # higher order functions\n",
    "    a = []\n",
    "    for d in data:\n",
    "        a.append( f(d) )\n",
    "    return a\n",
    "\n",
    "\n",
    "r = funct( abs , [10,-10,-9,8,7] )\n",
    "print(r)\n",
    "\n",
    "def square(x):\n",
    "    return x*x\n",
    "\n",
    "r = funct( square , [10,-10,-9,8,7] )\n",
    "print(r)\n"
   ]
  },
  {
   "cell_type": "code",
   "execution_count": 5,
   "metadata": {},
   "outputs": [
    {
     "ename": "TypeError",
     "evalue": "pow expected at least 2 arguments, got 1",
     "output_type": "error",
     "traceback": [
      "\u001b[1;31m---------------------------------------------------------------------------\u001b[0m",
      "\u001b[1;31mTypeError\u001b[0m                                 Traceback (most recent call last)",
      "\u001b[1;32m<ipython-input-5-f1954eaed404>\u001b[0m in \u001b[0;36m<module>\u001b[1;34m\u001b[0m\n\u001b[1;32m----> 1\u001b[1;33m \u001b[0mr\u001b[0m \u001b[1;33m=\u001b[0m \u001b[0mfunct\u001b[0m\u001b[1;33m(\u001b[0m\u001b[0mpow\u001b[0m \u001b[1;33m,\u001b[0m \u001b[1;33m[\u001b[0m\u001b[1;36m10\u001b[0m\u001b[1;33m,\u001b[0m\u001b[1;36m20\u001b[0m\u001b[1;33m,\u001b[0m\u001b[1;36m30\u001b[0m\u001b[1;33m]\u001b[0m\u001b[1;33m)\u001b[0m\u001b[1;33m\u001b[0m\u001b[1;33m\u001b[0m\u001b[0m\n\u001b[0m",
      "\u001b[1;32m<ipython-input-4-b8699237379f>\u001b[0m in \u001b[0;36mfunct\u001b[1;34m(f, data)\u001b[0m\n\u001b[0;32m      2\u001b[0m     \u001b[0ma\u001b[0m \u001b[1;33m=\u001b[0m \u001b[1;33m[\u001b[0m\u001b[1;33m]\u001b[0m\u001b[1;33m\u001b[0m\u001b[1;33m\u001b[0m\u001b[0m\n\u001b[0;32m      3\u001b[0m     \u001b[1;32mfor\u001b[0m \u001b[0md\u001b[0m \u001b[1;32min\u001b[0m \u001b[0mdata\u001b[0m\u001b[1;33m:\u001b[0m\u001b[1;33m\u001b[0m\u001b[1;33m\u001b[0m\u001b[0m\n\u001b[1;32m----> 4\u001b[1;33m         \u001b[0ma\u001b[0m\u001b[1;33m.\u001b[0m\u001b[0mappend\u001b[0m\u001b[1;33m(\u001b[0m \u001b[0mf\u001b[0m\u001b[1;33m(\u001b[0m\u001b[0md\u001b[0m\u001b[1;33m)\u001b[0m \u001b[1;33m)\u001b[0m\u001b[1;33m\u001b[0m\u001b[1;33m\u001b[0m\u001b[0m\n\u001b[0m\u001b[0;32m      5\u001b[0m     \u001b[1;32mreturn\u001b[0m \u001b[0ma\u001b[0m\u001b[1;33m\u001b[0m\u001b[1;33m\u001b[0m\u001b[0m\n\u001b[0;32m      6\u001b[0m \u001b[1;33m\u001b[0m\u001b[0m\n",
      "\u001b[1;31mTypeError\u001b[0m: pow expected at least 2 arguments, got 1"
     ]
    }
   ],
   "source": [
    "r = funct(pow , [10,20,30] )"
   ]
  },
  {
   "cell_type": "code",
   "execution_count": 8,
   "metadata": {},
   "outputs": [
    {
     "name": "stdout",
     "output_type": "stream",
     "text": [
      "<map object at 0x00000204FEB65B00>\n",
      "[10, 4, 50, 60, 71]\n",
      "[]\n"
     ]
    }
   ],
   "source": [
    "a = [10,4,-50,-60,71]\n",
    "r = map( abs, a)\n",
    "print(r)\n",
    "\n",
    "print(list(r))\n",
    "print(list(r))"
   ]
  },
  {
   "cell_type": "code",
   "execution_count": 13,
   "metadata": {},
   "outputs": [
    {
     "name": "stdout",
     "output_type": "stream",
     "text": [
      "10\n",
      "4\n",
      "50\n",
      "60\n",
      "71\n",
      "abcd\n"
     ]
    }
   ],
   "source": [
    "a = [10,4,-50,-60,71]\n",
    "\n",
    "r = map( abs, a)\n",
    "for data in  r:\n",
    "    print(data)\n",
    "    \n",
    "print('abcd')\n",
    "\n",
    "for data in  r:\n",
    "    print(data)"
   ]
  },
  {
   "cell_type": "code",
   "execution_count": 19,
   "metadata": {},
   "outputs": [
    {
     "name": "stdout",
     "output_type": "stream",
     "text": [
      "Input numbers separated by space : 10 20 30\n",
      "[10, 20, 30]\n"
     ]
    }
   ],
   "source": [
    "s = input('Input numbers separated by space : ')\n",
    "\n",
    "m = map(int, s.split() )\n",
    "data = list( m )\n",
    "print(data)"
   ]
  },
  {
   "cell_type": "code",
   "execution_count": 20,
   "metadata": {},
   "outputs": [
    {
     "name": "stdout",
     "output_type": "stream",
     "text": [
      "<filter object at 0x00000204FEB6C358>\n",
      "[]\n"
     ]
    }
   ],
   "source": [
    "def f(x):\n",
    "    return x % 2 == 0\n",
    "\n",
    "a = [1,2,33,44,55,66]\n",
    "\n",
    "f = filter(f, a)\n",
    "print(f)\n",
    "print(list(f))"
   ]
  },
  {
   "cell_type": "code",
   "execution_count": 22,
   "metadata": {},
   "outputs": [
    {
     "ename": "TypeError",
     "evalue": "'int' object is not callable",
     "output_type": "error",
     "traceback": [
      "\u001b[1;31m---------------------------------------------------------------------------\u001b[0m",
      "\u001b[1;31mTypeError\u001b[0m                                 Traceback (most recent call last)",
      "\u001b[1;32m<ipython-input-22-11d7b00c8ee5>\u001b[0m in \u001b[0;36m<module>\u001b[1;34m\u001b[0m\n\u001b[0;32m      1\u001b[0m \u001b[0ms\u001b[0m \u001b[1;33m=\u001b[0m \u001b[1;34m'abcd'\u001b[0m\u001b[1;33m\u001b[0m\u001b[1;33m\u001b[0m\u001b[0m\n\u001b[0;32m      2\u001b[0m \u001b[1;33m\u001b[0m\u001b[0m\n\u001b[1;32m----> 3\u001b[1;33m \u001b[0mprint\u001b[0m\u001b[1;33m(\u001b[0m \u001b[0msum\u001b[0m\u001b[1;33m(\u001b[0m \u001b[0mmap\u001b[0m\u001b[1;33m(\u001b[0m \u001b[1;36m10\u001b[0m\u001b[1;33m,\u001b[0m \u001b[0ms\u001b[0m\u001b[1;33m)\u001b[0m \u001b[1;33m)\u001b[0m \u001b[1;33m)\u001b[0m\u001b[1;33m\u001b[0m\u001b[1;33m\u001b[0m\u001b[0m\n\u001b[0m",
      "\u001b[1;31mTypeError\u001b[0m: 'int' object is not callable"
     ]
    }
   ],
   "source": [
    "s = 'abcd'\n",
    "\n",
    "print( sum( map(ord, s) ) )"
   ]
  },
  {
   "cell_type": "code",
   "execution_count": 24,
   "metadata": {},
   "outputs": [
    {
     "name": "stdout",
     "output_type": "stream",
     "text": [
      "150\n"
     ]
    }
   ],
   "source": [
    "# reduce\n",
    "# function with 2 args and one result\n",
    "\n",
    "def add(x,y):\n",
    "    return x + y\n",
    "    \n",
    "from functools import reduce\n",
    "r = reduce(add, [10,20,30,40,50])\n",
    "print(r)\n",
    "\n",
    "#  add (10,20)\n",
    "#           30   add(30, 30)\n",
    "#                    60            add(60,40)\n",
    "#                                    100        add(100,50)\n",
    "#                                                  150\n"
   ]
  },
  {
   "cell_type": "code",
   "execution_count": 27,
   "metadata": {},
   "outputs": [
    {
     "name": "stdout",
     "output_type": "stream",
     "text": [
      "3\n"
     ]
    }
   ],
   "source": [
    "from functools import reduce\n",
    "\n",
    "def small(x,y):\n",
    "    if x < y:\n",
    "        return x\n",
    "    return y\n",
    "r = reduce(small, [10,20,3,40,50])\n",
    "print(r)"
   ]
  },
  {
   "cell_type": "code",
   "execution_count": 35,
   "metadata": {},
   "outputs": [
    {
     "name": "stdout",
     "output_type": "stream",
     "text": [
      "25\n",
      "125\n",
      "625\n",
      "\n",
      "25\n",
      "25\n"
     ]
    },
    {
     "ename": "TypeError",
     "evalue": "my_pow() takes 2 positional arguments but 3 were given",
     "output_type": "error",
     "traceback": [
      "\u001b[1;31m---------------------------------------------------------------------------\u001b[0m",
      "\u001b[1;31mTypeError\u001b[0m                                 Traceback (most recent call last)",
      "\u001b[1;32m<ipython-input-35-e9839100e126>\u001b[0m in \u001b[0;36m<module>\u001b[1;34m\u001b[0m\n\u001b[0;32m     17\u001b[0m \u001b[1;33m\u001b[0m\u001b[0m\n\u001b[0;32m     18\u001b[0m \u001b[0mp3\u001b[0m \u001b[1;33m=\u001b[0m \u001b[0mpartial\u001b[0m\u001b[1;33m(\u001b[0m\u001b[0mmy_pow\u001b[0m\u001b[1;33m,\u001b[0m \u001b[1;33m...\u001b[0m\u001b[1;33m,\u001b[0m \u001b[1;36m2\u001b[0m\u001b[1;33m)\u001b[0m\u001b[1;33m\u001b[0m\u001b[1;33m\u001b[0m\u001b[0m\n\u001b[1;32m---> 19\u001b[1;33m \u001b[0mp3\u001b[0m\u001b[1;33m(\u001b[0m\u001b[1;36m10\u001b[0m\u001b[1;33m)\u001b[0m\u001b[1;33m\u001b[0m\u001b[1;33m\u001b[0m\u001b[0m\n\u001b[0m",
      "\u001b[1;31mTypeError\u001b[0m: my_pow() takes 2 positional arguments but 3 were given"
     ]
    }
   ],
   "source": [
    "from functools import partial\n",
    "\n",
    "p1 = partial(pow,5)\n",
    "\n",
    "\n",
    "print(p1(2) )\n",
    "print(p1(3) )\n",
    "print(p1(4) )\n",
    "\n",
    "print()\n",
    "p2 = partial(pow, 5, 2)\n",
    "print(p2())\n",
    "print(p2())\n",
    "\n",
    "def my_pow(x,y):\n",
    "    return x**y\n",
    "\n",
    "p3 = partial(my_pow, ..., 2)\n",
    "p3(10)"
   ]
  },
  {
   "cell_type": "markdown",
   "metadata": {},
   "source": [
    "### lambda"
   ]
  },
  {
   "cell_type": "code",
   "execution_count": 37,
   "metadata": {},
   "outputs": [
    {
     "data": {
      "text/plain": [
       "30"
      ]
     },
     "execution_count": 37,
     "metadata": {},
     "output_type": "execute_result"
    }
   ],
   "source": [
    "#lambda <some args>  : <expression>\n",
    "\n",
    "f = lambda x,y : x + y\n",
    "f(10,20)"
   ]
  },
  {
   "cell_type": "code",
   "execution_count": 38,
   "metadata": {},
   "outputs": [
    {
     "name": "stdout",
     "output_type": "stream",
     "text": [
      "Enter numbers by space: 10 20 30 40\n",
      "100\n"
     ]
    }
   ],
   "source": [
    "s = input('Enter numbers by space: ')\n",
    "#           |--------lambda-----------|\n",
    "r = reduce( lambda x,y: int(x) + int(y), s.split())\n",
    "print( r )"
   ]
  },
  {
   "cell_type": "code",
   "execution_count": null,
   "metadata": {},
   "outputs": [],
   "source": [
    "map( int, input('Enter numbers by space: ').split())"
   ]
  },
  {
   "cell_type": "code",
   "execution_count": 44,
   "metadata": {},
   "outputs": [
    {
     "name": "stdout",
     "output_type": "stream",
     "text": [
      "(30, 10)\n",
      "(<function <lambda> at 0x00000204FEB5DB70>, <function <lambda> at 0x00000204FEB5DD08>)\n",
      "17\n"
     ]
    }
   ],
   "source": [
    "f = lambda x,y : (x+y,x-y)\n",
    "\n",
    "print ( f(20,10) )\n",
    "\n",
    "\n",
    "f = lambda x,y : x+y, lambda x : x**2\n",
    "print(f)\n",
    "print(f[0](9,8))"
   ]
  },
  {
   "cell_type": "code",
   "execution_count": 46,
   "metadata": {},
   "outputs": [
    {
     "name": "stdout",
     "output_type": "stream",
     "text": [
      "30\n",
      "-10\n",
      "200\n",
      "0.5\n",
      "(<function <lambda> at 0x00000204FEB5D158>, <function <lambda> at 0x00000204FEB5D9D8>, <function <lambda> at 0x00000204FEB5DD90>, <function <lambda> at 0x00000204FEB5DC80>)\n"
     ]
    }
   ],
   "source": [
    "a = lambda x,y: x + y, lambda x,y: x - y, lambda x,y: x * y, lambda x,y: x / y\n",
    "\n",
    "x = 10\n",
    "y = 20\n",
    "for f in a:\n",
    "    print(f(x,y))\n",
    "    \n",
    "print(a)"
   ]
  },
  {
   "cell_type": "code",
   "execution_count": 55,
   "metadata": {},
   "outputs": [
    {
     "name": "stdout",
     "output_type": "stream",
     "text": [
      "['Abhishek', 'Abhishek2', 'Gaurav', 'Krishna', 'aba']\n",
      "['aba', 'Gaurav', 'Krishna', 'Abhishek', 'Abhishek2']\n",
      "['Abhishek2', 'aba', 'Krishna', 'Abhishek', 'Gaurav']\n"
     ]
    }
   ],
   "source": [
    "a = ['Gaurav', 'Abhishek', 'Krishna', 'Abhishek2', 'aba']\n",
    " #      \n",
    "\n",
    "a.sort()\n",
    "print(a)\n",
    "\n",
    "a.sort(key = lambda x : len(x) )\n",
    "print(a)\n",
    "\n",
    "#['Gaurav', 'Abhishek', 'Krishna', 'Abhishek2','aba']\n",
    "#      v          k           a           2      a\n",
    "a.sort(key = lambda x : x[-1] )\n",
    "print(a)"
   ]
  },
  {
   "cell_type": "markdown",
   "metadata": {},
   "source": [
    "### Gnerator"
   ]
  },
  {
   "cell_type": "code",
   "execution_count": 56,
   "metadata": {},
   "outputs": [
    {
     "name": "stdout",
     "output_type": "stream",
     "text": [
      "1\n",
      "1\n"
     ]
    }
   ],
   "source": [
    "def funct():\n",
    "    return 1\n",
    "    return 2\n",
    "\n",
    "print(funct())\n",
    "print(funct())"
   ]
  },
  {
   "cell_type": "code",
   "execution_count": 59,
   "metadata": {},
   "outputs": [
    {
     "name": "stdout",
     "output_type": "stream",
     "text": [
      "<generator object funct at 0x00000204FEB7F5E8>\n",
      "<generator object funct at 0x00000204FEB7F5E8>\n",
      "1\n",
      "2\n"
     ]
    },
    {
     "ename": "StopIteration",
     "evalue": "",
     "output_type": "error",
     "traceback": [
      "\u001b[1;31m---------------------------------------------------------------------------\u001b[0m",
      "\u001b[1;31mStopIteration\u001b[0m                             Traceback (most recent call last)",
      "\u001b[1;32m<ipython-input-59-31713166de50>\u001b[0m in \u001b[0;36m<module>\u001b[1;34m\u001b[0m\n\u001b[0;32m      9\u001b[0m \u001b[0mprint\u001b[0m\u001b[1;33m(\u001b[0m\u001b[0mnext\u001b[0m\u001b[1;33m(\u001b[0m\u001b[0mg\u001b[0m\u001b[1;33m)\u001b[0m\u001b[1;33m)\u001b[0m\u001b[1;33m\u001b[0m\u001b[1;33m\u001b[0m\u001b[0m\n\u001b[0;32m     10\u001b[0m \u001b[0mprint\u001b[0m\u001b[1;33m(\u001b[0m\u001b[0mnext\u001b[0m\u001b[1;33m(\u001b[0m\u001b[0mg\u001b[0m\u001b[1;33m)\u001b[0m\u001b[1;33m)\u001b[0m\u001b[1;33m\u001b[0m\u001b[1;33m\u001b[0m\u001b[0m\n\u001b[1;32m---> 11\u001b[1;33m \u001b[0mprint\u001b[0m\u001b[1;33m(\u001b[0m\u001b[0mnext\u001b[0m\u001b[1;33m(\u001b[0m\u001b[0mg\u001b[0m\u001b[1;33m)\u001b[0m\u001b[1;33m)\u001b[0m\u001b[1;33m\u001b[0m\u001b[1;33m\u001b[0m\u001b[0m\n\u001b[0m",
      "\u001b[1;31mStopIteration\u001b[0m: "
     ]
    }
   ],
   "source": [
    "def funct():\n",
    "    yield 1\n",
    "    yield 2\n",
    "\n",
    "print(funct())\n",
    "print(funct())\n",
    "g = funct()\n",
    "\n",
    "print(next(g))\n",
    "print(next(g))\n",
    "print(next(g))"
   ]
  },
  {
   "cell_type": "code",
   "execution_count": 61,
   "metadata": {},
   "outputs": [
    {
     "name": "stdout",
     "output_type": "stream",
     "text": [
      "0\n",
      "1\n",
      "2\n",
      "3\n",
      "4\n",
      "5\n",
      "6\n",
      "7\n",
      "8\n",
      "9\n",
      "<generator object funct at 0x00000204FEB7F4F8>\n",
      "0\n",
      "1\n",
      "2\n",
      "3\n",
      "4\n",
      "['__class__', '__del__', '__delattr__', '__dir__', '__doc__', '__eq__', '__format__', '__ge__', '__getattribute__', '__gt__', '__hash__', '__init__', '__init_subclass__', '__iter__', '__le__', '__lt__', '__name__', '__ne__', '__new__', '__next__', '__qualname__', '__reduce__', '__reduce_ex__', '__repr__', '__setattr__', '__sizeof__', '__str__', '__subclasshook__', 'close', 'gi_code', 'gi_frame', 'gi_running', 'gi_yieldfrom', 'send', 'throw']\n"
     ]
    }
   ],
   "source": [
    "def funct(x):\n",
    "    i = 0\n",
    "    while i < x:\n",
    "        yield i\n",
    "        i += 1\n",
    "\n",
    "for data in funct(10):\n",
    "    print(data)\n",
    "    \n",
    "f = funct(10)\n",
    "print(f)\n",
    "print(next(f))\n",
    "print(next(f))\n",
    "print(next(f))\n",
    "print(next(f))\n",
    "print(next(f))\n",
    "        \n",
    "    \n",
    "print(dir(f))"
   ]
  },
  {
   "cell_type": "code",
   "execution_count": 78,
   "metadata": {},
   "outputs": [
    {
     "name": "stdout",
     "output_type": "stream",
     "text": [
      "[Rep (Name: a, Phone : 2323), Rep (Name: g, Phone : 88888), Rep (Name: h, Phone : 99999), Rep (Name: n, Phone : 43244)]\n",
      "[Rep (Name: a, Phone : 2323), Rep (Name: n, Phone : 43244), Rep (Name: g, Phone : 88888), Rep (Name: h, Phone : 99999)]\n"
     ]
    }
   ],
   "source": [
    "class Contact:\n",
    "    def __init__(self, name , phone):\n",
    "        self.name = name\n",
    "        self.phone  = phone\n",
    "    \n",
    "    def __str__(self):\n",
    "        return \" (Name: {}, Phone : {})\".format(self.name, self.phone)\n",
    "    \n",
    "    def __repr__(self):\n",
    "        return 'Rep' + self.__str__()\n",
    "    \n",
    "    def __lt__(self, other):\n",
    "        return self.phone < other.phone\n",
    "        \n",
    "a = [Contact('a', 2323), Contact('n', 43244), Contact('h', 99999), Contact('g', 88888)]\n",
    "a.sort(key = lambda c: c.name)\n",
    "print(a)\n",
    "\n",
    "\n",
    "a.sort()\n",
    "print(a)"
   ]
  },
  {
   "cell_type": "code",
   "execution_count": null,
   "metadata": {},
   "outputs": [],
   "source": [
    "print(str( Contact('a', 2323)  ))\n",
    "print(Contact('a', 2323))"
   ]
  }
 ],
 "metadata": {
  "kernelspec": {
   "display_name": "Python 3",
   "language": "python",
   "name": "python3"
  },
  "language_info": {
   "codemirror_mode": {
    "name": "ipython",
    "version": 3
   },
   "file_extension": ".py",
   "mimetype": "text/x-python",
   "name": "python",
   "nbconvert_exporter": "python",
   "pygments_lexer": "ipython3",
   "version": "3.7.3"
  }
 },
 "nbformat": 4,
 "nbformat_minor": 2
}
