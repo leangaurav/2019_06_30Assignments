{
 "cells": [
  {
   "cell_type": "markdown",
   "metadata": {},
   "source": [
    "## Strings\n",
    "- there is no char type in python\n",
    "- can be single double or triple quoted\n",
    "- triple quoted strings are multiline strings\n",
    "- strings are immutable sequences"
   ]
  },
  {
   "cell_type": "code",
   "execution_count": 2,
   "metadata": {},
   "outputs": [
    {
     "name": "stdout",
     "output_type": "stream",
     "text": [
      "abcd abcd abcd abcd\n"
     ]
    }
   ],
   "source": [
    "s1 = 'abcd'\n",
    "s2 = \"abcd\"\n",
    "s3 = \"\"\"abcd\"\"\"\n",
    "s4 = '''abcd'''\n",
    "print(s1,s2,s3,s4)"
   ]
  },
  {
   "cell_type": "code",
   "execution_count": 8,
   "metadata": {},
   "outputs": [
    {
     "name": "stdout",
     "output_type": "stream",
     "text": [
      "ab\n",
      "cd\n",
      "ab\tcd\n"
     ]
    }
   ],
   "source": [
    "# \\n means new line\n",
    "s = 'ab\\ncd'\n",
    "print(s)\n",
    "# \\t means tab\n",
    "s = 'ab\\tcd'\n",
    "print(s)"
   ]
  },
  {
   "cell_type": "code",
   "execution_count": 9,
   "metadata": {},
   "outputs": [
    {
     "name": "stdout",
     "output_type": "stream",
     "text": [
      "ab'cd\n",
      "ab\\cd\n"
     ]
    }
   ],
   "source": [
    "s = 'ab\\'cd'\n",
    "print(s)\n",
    "s = 'ab\\\\cd'\n",
    "print(s)"
   ]
  },
  {
   "cell_type": "code",
   "execution_count": 14,
   "metadata": {},
   "outputs": [
    {
     "name": "stdout",
     "output_type": "stream",
     "text": [
      "gaurav'sfsdf\n",
      "ab\"cd\n",
      " ab \" c ' d \n",
      " ab \" c ' d \n"
     ]
    }
   ],
   "source": [
    "s = \"gaurav'sfsdf\"\n",
    "print(s)\n",
    "s = 'ab\"cd'\n",
    "print(s)\n",
    "s = ''' ab \" c ' d '''\n",
    "print(s)\n",
    "s = \"\"\" ab \" c ' d \"\"\"\n",
    "print(s)"
   ]
  },
  {
   "cell_type": "code",
   "execution_count": 15,
   "metadata": {},
   "outputs": [
    {
     "name": "stdout",
     "output_type": "stream",
     "text": [
      "python session.\n",
      "Maybe are boring\n"
     ]
    }
   ],
   "source": [
    "s = \"python session.\\nMaybe are boring\"\n",
    "print(s)"
   ]
  },
  {
   "cell_type": "code",
   "execution_count": 18,
   "metadata": {},
   "outputs": [
    {
     "name": "stdout",
     "output_type": "stream",
     "text": [
      "python session.\n",
      "Maybe are boring\n",
      "    But python has multiline strings....\n"
     ]
    }
   ],
   "source": [
    "s = \"\"\"python session.\n",
    "Maybe are boring\n",
    "    But python has multiline strings....\"\"\"\n",
    "print(s)"
   ]
  },
  {
   "cell_type": "code",
   "execution_count": 20,
   "metadata": {},
   "outputs": [
    {
     "name": "stdout",
     "output_type": "stream",
     "text": [
      "abcdABCD\n",
      "abcd ABCD\n"
     ]
    }
   ],
   "source": [
    "s1 = 'abcd'\n",
    "s2 = 'ABCD'\n",
    "s3 = s1 + s2\n",
    "print(s3)\n",
    "print(s1, s2)"
   ]
  },
  {
   "cell_type": "code",
   "execution_count": 23,
   "metadata": {},
   "outputs": [
    {
     "name": "stdout",
     "output_type": "stream",
     "text": [
      "abcd abcd abcd abcd abcd abcd abcd abcd abcd abcd abcd abcd abcd abcd abcd abcd abcd abcd abcd abcd \n",
      "abcd \n"
     ]
    }
   ],
   "source": [
    "s1 = 'abcd'\n",
    "s3 = s1 * 20\n",
    "print(s3)\n",
    "print(s1)"
   ]
  },
  {
   "cell_type": "code",
   "execution_count": 1,
   "metadata": {},
   "outputs": [
    {
     "name": "stdout",
     "output_type": "stream",
     "text": [
      "abcd\n",
      "abcd\n",
      "abcd\n",
      "abcd\n",
      "\n",
      "abcd\n",
      "\n",
      "\n",
      "\n",
      "\n"
     ]
    }
   ],
   "source": [
    "s1 = 'abcd'\n",
    "s2 = s1 + '\\n' * 4\n",
    "s3 = (s1 + '\\n') * 4\n",
    "print(s3)\n",
    "print(s2)\n",
    "#print(s1)"
   ]
  },
  {
   "cell_type": "code",
   "execution_count": null,
   "metadata": {},
   "outputs": [],
   "source": []
  },
  {
   "cell_type": "code",
   "execution_count": null,
   "metadata": {},
   "outputs": [],
   "source": []
  },
  {
   "cell_type": "code",
   "execution_count": null,
   "metadata": {},
   "outputs": [],
   "source": []
  },
  {
   "cell_type": "code",
   "execution_count": null,
   "metadata": {},
   "outputs": [],
   "source": []
  },
  {
   "cell_type": "code",
   "execution_count": null,
   "metadata": {},
   "outputs": [],
   "source": []
  },
  {
   "cell_type": "code",
   "execution_count": null,
   "metadata": {},
   "outputs": [],
   "source": []
  },
  {
   "cell_type": "code",
   "execution_count": null,
   "metadata": {},
   "outputs": [],
   "source": []
  }
 ],
 "metadata": {
  "kernelspec": {
   "display_name": "Python 3",
   "language": "python",
   "name": "python3"
  },
  "language_info": {
   "codemirror_mode": {
    "name": "ipython",
    "version": 3
   },
   "file_extension": ".py",
   "mimetype": "text/x-python",
   "name": "python",
   "nbconvert_exporter": "python",
   "pygments_lexer": "ipython3",
   "version": "3.7.3"
  }
 },
 "nbformat": 4,
 "nbformat_minor": 2
}
