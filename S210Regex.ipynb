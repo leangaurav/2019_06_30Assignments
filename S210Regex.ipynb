{
 "cells": [
  {
   "cell_type": "code",
   "execution_count": 2,
   "metadata": {},
   "outputs": [
    {
     "name": "stdout",
     "output_type": "stream",
     "text": [
      "10\n",
      "1\n",
      "11\n",
      "5\n",
      "12\n"
     ]
    }
   ],
   "source": [
    "itr1 = iter(range(10,20))\n",
    "itr2 = iter(range(1,10,4))\n",
    "print(next(itr1))\n",
    "print(next(itr2))\n",
    "itr3 = iter(itr1)\n",
    "print(next(itr3))\n",
    "print(next(itr2))\n",
    "print(next(itr1))"
   ]
  },
  {
   "cell_type": "code",
   "execution_count": 4,
   "metadata": {},
   "outputs": [
    {
     "name": "stdout",
     "output_type": "stream",
     "text": [
      "['A', 'ASCII', 'DEBUG', 'DOTALL', 'I', 'IGNORECASE', 'L', 'LOCALE', 'M', 'MULTILINE', 'Match', 'Pattern', 'RegexFlag', 'S', 'Scanner', 'T', 'TEMPLATE', 'U', 'UNICODE', 'VERBOSE', 'X', '_MAXCACHE', '__all__', '__builtins__', '__cached__', '__doc__', '__file__', '__loader__', '__name__', '__package__', '__spec__', '__version__', '_cache', '_compile', '_compile_repl', '_expand', '_locale', '_pickle', '_special_chars_map', '_subx', 'compile', 'copyreg', 'enum', 'error', 'escape', 'findall', 'finditer', 'fullmatch', 'functools', 'match', 'purge', 'search', 'split', 'sre_compile', 'sre_parse', 'sub', 'subn', 'template']\n"
     ]
    }
   ],
   "source": [
    "# Regular Expressions\n",
    "import re\n",
    "print(dir(re))"
   ]
  },
  {
   "cell_type": "markdown",
   "metadata": {},
   "source": [
    "- match  : first match in the beginning\n",
    "- search : first match\n",
    "- finditer : all matches\n",
    "- findall"
   ]
  },
  {
   "cell_type": "code",
   "execution_count": 9,
   "metadata": {},
   "outputs": [
    {
     "name": "stdout",
     "output_type": "stream",
     "text": [
      "<re.Match object; span=(0, 4), match='this'>\n",
      "this\n",
      "\n",
      "None\n",
      "\n",
      "<re.Match object; span=(0, 4), match='this'>\n"
     ]
    }
   ],
   "source": [
    "s = 'this is a string'\n",
    "\n",
    "r = re.search('this', s)\n",
    "print(r)\n",
    "print(r.group())\n",
    "\n",
    "print()\n",
    "r = re.search('This', s)\n",
    "print(r)\n",
    "\n",
    "print()\n",
    "r = re.search('This', s, re.IGNORECASE)\n",
    "print(r)"
   ]
  },
  {
   "cell_type": "code",
   "execution_count": 17,
   "metadata": {},
   "outputs": [
    {
     "name": "stdout",
     "output_type": "stream",
     "text": [
      "<re.Match object; span=(5, 7), match='is'>\n",
      "is\n"
     ]
    }
   ],
   "source": [
    "s = 'this is a string'\n",
    "# \\b : \\n\\t.!? ' ',\n",
    "r = re.search(r'\\bis\\b', s)\n",
    "print(r)\n",
    "if r:\n",
    "    print(r.group())\n"
   ]
  },
  {
   "cell_type": "code",
   "execution_count": 13,
   "metadata": {},
   "outputs": [
    {
     "name": "stdout",
     "output_type": "stream",
     "text": [
      "\\n\n"
     ]
    }
   ],
   "source": [
    "s = r'\\n'\n",
    "print(s)"
   ]
  },
  {
   "cell_type": "code",
   "execution_count": null,
   "metadata": {},
   "outputs": [],
   "source": [
    "s = 'this is a string'\n",
    "# \\b : \\n\\t.!? ' ',\n",
    "# word boundary\n",
    "r = re.search(r'\\bis\\b', s)\n",
    "print(r)\n",
    "if r:\n",
    "    print(r.group())\n"
   ]
  },
  {
   "cell_type": "code",
   "execution_count": 24,
   "metadata": {},
   "outputs": [
    {
     "name": "stdout",
     "output_type": "stream",
     "text": [
      "<re.Match object; span=(0, 4), match='This'>\n",
      "<re.Match object; span=(0, 4), match='this'>\n",
      "None\n",
      "None\n",
      "\n",
      "<re.Match object; span=(0, 4), match='This'>\n",
      "<re.Match object; span=(0, 4), match='this'>\n",
      "None\n",
      "None\n",
      "\n",
      "None\n",
      "None\n",
      "None\n",
      "<re.Match object; span=(12, 13), match='.'>\n"
     ]
    }
   ],
   "source": [
    "strings = ['This is string', 'this also', 'that string','at end this .',]\n",
    "\n",
    "# anchor tags:\n",
    "# $ : end\n",
    "# ^ : beginning\n",
    "\n",
    "# start with 'this'\n",
    "for s in strings:\n",
    "    r = re.search('^this', s, re.IGNORECASE)\n",
    "    print(r)\n",
    "    \n",
    "print()\n",
    "for s in strings:\n",
    "    r = re.match('this', s, re.IGNORECASE)\n",
    "    print(r)\n",
    "    \n",
    "# end with '.'\n",
    "print()\n",
    "for s in strings:\n",
    "    r = re.search(r'\\.$', s, re.IGNORECASE)\n",
    "    print(r)"
   ]
  },
  {
   "cell_type": "code",
   "execution_count": 29,
   "metadata": {},
   "outputs": [
    {
     "name": "stdout",
     "output_type": "stream",
     "text": [
      "<re.Match object; span=(0, 9), match='This is .'>\n",
      "<re.Match object; span=(0, 10), match='this also.'>\n",
      "None\n",
      "None\n"
     ]
    }
   ],
   "source": [
    "# re to find/ match string starting with this and ending with .\n",
    "strings = ['This is .string', 'this also.', 'that string','at end this .',]\n",
    "\n",
    "# . : any one symbol except \\n\n",
    "# Repetition chars\n",
    "# + : 1-n repetition of whatever is present before it\n",
    "# * : 0-n repetition\n",
    "# ? : 0/1 repetition\n",
    "# +? : 1-n repetition non-greedy\n",
    "# *? : 0-n repetition non-greedy\n",
    "\n",
    "for s in strings:\n",
    "    r = re.search(r'^this.*\\.$', s, re.IGNORECASE)\n",
    "    print(r)"
   ]
  },
  {
   "cell_type": "code",
   "execution_count": 36,
   "metadata": {},
   "outputs": [
    {
     "name": "stdout",
     "output_type": "stream",
     "text": [
      "abc\\n 'abc\\\\n'\n",
      "abc\\n 'abc\\\\n'\n",
      "\\\\n\\\\r '\\\\\\\\n\\\\\\\\r'\n"
     ]
    }
   ],
   "source": [
    "r = 'abc\\\\n'\n",
    "print(r,  repr(r))\n",
    "r = r'abc\\n'\n",
    "print(r,  repr(r))\n",
    "r = r'\\\\n\\\\r'\n",
    "print(r, repr(r))"
   ]
  },
  {
   "cell_type": "code",
   "execution_count": 42,
   "metadata": {},
   "outputs": [
    {
     "name": "stdout",
     "output_type": "stream",
     "text": [
      "<re.Match object; span=(3, 6), match='999'>\n",
      "<re.Match object; span=(10, 13), match='123'>\n",
      "<re.Match object; span=(14, 17), match='123'>\n",
      "<re.Match object; span=(17, 20), match='456'>\n",
      "\n",
      "<re.Match object; span=(2, 7), match='i999r'>\n",
      "<re.Match object; span=(9, 14), match=' 123 '>\n",
      "\n",
      "['i999r', ' 123 ']\n"
     ]
    }
   ],
   "source": [
    "# WAR to match 3 digit numbers\n",
    "# \\d : digits\n",
    "# \\D : not-digit\n",
    "# \\s : white space : ' '\\n\\t\n",
    "# \\S : not white space\n",
    "# \\w : alphanumeric\n",
    "# \\W : not alphanumeric\n",
    "\n",
    "s = 'sti999rng 123 1234567'\n",
    "for r in re.finditer(r\"\\d\\d\\d\", s):\n",
    "    print(r)\n",
    "    \n",
    "print()\n",
    "for r in re.finditer(r\"\\D\\d\\d\\d\\D\", s):\n",
    "    print(r)\n",
    "    \n",
    "print()\n",
    "print(re.findall(r\"\\D\\d\\d\\d\\D\", s))"
   ]
  },
  {
   "cell_type": "code",
   "execution_count": 44,
   "metadata": {},
   "outputs": [
    {
     "name": "stdout",
     "output_type": "stream",
     "text": [
      "<re.Match object; span=(0, 15), match='abc 123 abc 123'>\n",
      "<re.Match object; span=(0, 5), match='abc 1'>\n"
     ]
    }
   ],
   "source": [
    "s = 'abc 123 abc 123'\n",
    "\n",
    "print( re.search(r'.*\\d' , s) )\n",
    "print( re.search(r'.*?\\d' , s) )"
   ]
  },
  {
   "cell_type": "code",
   "execution_count": 48,
   "metadata": {},
   "outputs": [
    {
     "name": "stdout",
     "output_type": "stream",
     "text": [
      "<re.Match object; span=(2, 3), match='i'>\n",
      "<re.Match object; span=(5, 6), match='i'>\n",
      "<re.Match object; span=(8, 9), match='a'>\n",
      "<re.Match object; span=(12, 13), match='I'>\n",
      "<re.Match object; span=(18, 19), match='i'>\n",
      "<re.Match object; span=(29, 30), match='O'>\n",
      "<re.Match object; span=(31, 32), match='E'>\n",
      "\n",
      "<re.Match object; span=(0, 4), match='this'>\n",
      "<re.Match object; span=(5, 7), match='is'>\n",
      "<re.Match object; span=(8, 9), match='a'>\n",
      "<re.Match object; span=(10, 15), match='SRING'>\n",
      "<re.Match object; span=(17, 21), match='with'>\n",
      "<re.Match object; span=(28, 34), match='VOWELS'>\n"
     ]
    }
   ],
   "source": [
    "# search set\n",
    "# [a-z]\n",
    "# [A-Z]\n",
    "# [A-Za-z]\n",
    "# [A-Za-z5-9]\n",
    "# [A-Za-z0-9]\n",
    "# [aeiouAEIOU.,]\n",
    "\n",
    "# Invert\n",
    "# [^aeiouAEIOU.,] : ^ in beginning of search set inverts it\n",
    "# [^a-zA-Z] : not alphabets\n",
    "\n",
    "s = 'this is a SRING, with 123  \"VOWELS\" '\n",
    "\n",
    "for r in re.finditer(r'[aeiou]', s, re.IGNORECASE):\n",
    "    print(r)\n",
    "    \n",
    "print()\n",
    "for r in re.finditer(r'[a-zA-Z]+', s, re.IGNORECASE):\n",
    "    print(r)"
   ]
  },
  {
   "cell_type": "code",
   "execution_count": 49,
   "metadata": {},
   "outputs": [
    {
     "name": "stdout",
     "output_type": "stream",
     "text": [
      "<re.Match object; span=(0, 1), match='t'>\n",
      "<re.Match object; span=(1, 2), match='h'>\n",
      "<re.Match object; span=(3, 4), match='s'>\n",
      "<re.Match object; span=(4, 5), match=' '>\n",
      "<re.Match object; span=(6, 7), match='s'>\n",
      "<re.Match object; span=(7, 8), match=' '>\n",
      "<re.Match object; span=(9, 10), match=' '>\n",
      "<re.Match object; span=(10, 11), match='S'>\n",
      "<re.Match object; span=(11, 12), match='R'>\n",
      "<re.Match object; span=(13, 14), match='N'>\n",
      "<re.Match object; span=(14, 15), match='G'>\n",
      "<re.Match object; span=(15, 16), match=','>\n",
      "<re.Match object; span=(16, 17), match=' '>\n",
      "<re.Match object; span=(17, 18), match='w'>\n",
      "<re.Match object; span=(19, 20), match='t'>\n",
      "<re.Match object; span=(20, 21), match='h'>\n",
      "<re.Match object; span=(21, 22), match=' '>\n",
      "<re.Match object; span=(22, 23), match='1'>\n",
      "<re.Match object; span=(23, 24), match='2'>\n",
      "<re.Match object; span=(24, 25), match='3'>\n",
      "<re.Match object; span=(25, 26), match=' '>\n",
      "<re.Match object; span=(26, 27), match=' '>\n",
      "<re.Match object; span=(27, 28), match='\"'>\n",
      "<re.Match object; span=(28, 29), match='V'>\n",
      "<re.Match object; span=(30, 31), match='W'>\n",
      "<re.Match object; span=(32, 33), match='L'>\n",
      "<re.Match object; span=(33, 34), match='S'>\n",
      "<re.Match object; span=(34, 35), match='\"'>\n",
      "<re.Match object; span=(35, 36), match=' '>\n"
     ]
    }
   ],
   "source": [
    "s = 'this is a SRING, with 123  \"VOWELS\" '\n",
    "\n",
    "for r in re.finditer(r'[^aeiou]', s, re.IGNORECASE):\n",
    "    print(r)"
   ]
  },
  {
   "cell_type": "code",
   "execution_count": 55,
   "metadata": {},
   "outputs": [
    {
     "name": "stdout",
     "output_type": "stream",
     "text": [
      "<re.Match object; span=(15, 18), match='333'>\n",
      "\n",
      "<re.Match object; span=(15, 18), match='333'>\n",
      "<re.Match object; span=(19, 23), match='4444'>\n",
      "<re.Match object; span=(24, 29), match='55555'>\n",
      "<re.Match object; span=(30, 37), match='7777777'>\n",
      "\n",
      "<re.Match object; span=(10, 11), match='1'>\n",
      "<re.Match object; span=(12, 14), match='22'>\n",
      "<re.Match object; span=(15, 18), match='333'>\n"
     ]
    }
   ],
   "source": [
    "\n",
    "s = 'sti333rng 1 22 333 4444 55555 7777777'\n",
    "for r in re.finditer(r\"\\b\\d{3}\\b\", s):\n",
    "    print(r)\n",
    "    \n",
    "print()\n",
    "# 3-n digits\n",
    "for r in re.finditer(r\"\\b\\d{3,}\\b\", s):\n",
    "    print(r)\n",
    "    \n",
    "print()\n",
    "# max 3 digits\n",
    "for r in re.finditer(r\"\\b\\d{1,3}\\b\", s):\n",
    "    print(r)"
   ]
  },
  {
   "cell_type": "code",
   "execution_count": null,
   "metadata": {},
   "outputs": [],
   "source": [
    "s = '1.2.3.4  '"
   ]
  },
  {
   "cell_type": "code",
   "execution_count": 60,
   "metadata": {},
   "outputs": [
    {
     "name": "stdout",
     "output_type": "stream",
     "text": [
      "172.24.255.255 <re.Match object; span=(0, 14), match='172.24.255.255'>\n",
      "172.24.255.255 ('172', '24', '255', '255')\n",
      "\n",
      "20.10.192.400 <re.Match object; span=(0, 13), match='20.10.192.400'>\n",
      "20.10.192.400 ('20', '10', '192', '400')\n",
      "\n",
      "224.00.251 None\n",
      "\n",
      "1.31.192.2.255 None\n",
      "\n",
      "abcd None\n",
      "\n"
     ]
    }
   ],
   "source": [
    "add = [\"172.24.255.255\",\"20.10.192.400\",\"224.00.251\",\"1.31.192.2.255\", \"abcd\"]\n",
    "\n",
    "# (): capture group\n",
    "# (?:) : non-capture group\n",
    "for s in add:\n",
    "    m = re.search(r'^(?:\\d{1,3})\\.(\\d{1,3})\\.(\\d{1,3})\\.(\\d{1,3})$',s)\n",
    "    print(s, m)\n",
    "    if m :\n",
    "        print(m.group(), m.groups())\n",
    "    print()"
   ]
  },
  {
   "cell_type": "code",
   "execution_count": 75,
   "metadata": {},
   "outputs": [
    {
     "name": "stdout",
     "output_type": "stream",
     "text": [
      "<abc> text <\\abc> <re.Match object; span=(0, 17), match='<abc> text <\\\\abc>'>\n",
      "<abc> text <\\pqr> None\n",
      "<abc> text<\\abc> <\\pqr> None\n",
      "<abc> text<\\pqr>  <\\abc> <re.Match object; span=(0, 24), match='<abc> text<\\\\pqr>  <\\\\abc>'>\n",
      " <abc> text<\\abc>  <\\abc> <re.Match object; span=(1, 25), match='<abc> text<\\\\abc>  <\\\\abc>'>\n"
     ]
    }
   ],
   "source": [
    "# backreference\n",
    "\n",
    "# <html>\n",
    "\n",
    "tags = [r\"<abc> text <\\abc>\",\n",
    "        r\"<abc> text <\\pqr>\", \n",
    "        r\"<abc> text<\\abc> <\\pqr>\", \n",
    "        r\"<abc> text<\\pqr>  <\\abc>\", \n",
    "        r\" <abc> text<\\abc>  <\\abc>\"]\n",
    "\n",
    "for tag in tags:\n",
    "    m = re.search(r'<([a-zA-Z]+)> .*?<\\\\\\1>$',  tag)\n",
    "    print(tag, m)"
   ]
  },
  {
   "cell_type": "code",
   "execution_count": 88,
   "metadata": {},
   "outputs": [
    {
     "name": "stdout",
     "output_type": "stream",
     "text": [
      "<re.Match object; span=(3, 9), match=' 12.3 '>\n",
      "\n",
      "<re.Match object; span=(0, 4), match='123 '>\n",
      "\n",
      "<re.Match object; span=(0, 4), match='123 '>\n"
     ]
    }
   ],
   "source": [
    "s = \"123 12.3  12.9.8\"\n",
    "\n",
    "for r in re.finditer(r'(\\s|^)\\d+\\.\\d+(\\s|$)', s):\n",
    "    print(r)\n",
    "    \n",
    "print()\n",
    "for r in re.finditer(r'(\\s|^)\\d+(\\s|$)', s):\n",
    "    print(r)\n",
    "    \n",
    "\n",
    "print()\n",
    "for r in re.finditer(r'(\\s|^)((\\d+\\.\\d+)|(\\d+))(\\s|^)', s):\n",
    "    print(r)"
   ]
  },
  {
   "cell_type": "code",
   "execution_count": null,
   "metadata": {},
   "outputs": [],
   "source": []
  }
 ],
 "metadata": {
  "kernelspec": {
   "display_name": "Python 3",
   "language": "python",
   "name": "python3"
  },
  "language_info": {
   "codemirror_mode": {
    "name": "ipython",
    "version": 3
   },
   "file_extension": ".py",
   "mimetype": "text/x-python",
   "name": "python",
   "nbconvert_exporter": "python",
   "pygments_lexer": "ipython3",
   "version": "3.7.3"
  }
 },
 "nbformat": 4,
 "nbformat_minor": 2
}
