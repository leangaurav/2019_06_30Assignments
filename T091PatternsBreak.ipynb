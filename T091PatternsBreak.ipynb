{
 "cells": [
  {
   "cell_type": "code",
   "execution_count": 1,
   "metadata": {},
   "outputs": [
    {
     "name": "stdout",
     "output_type": "stream",
     "text": [
      "\n",
      "A\n",
      "AB\n",
      "ABC\n",
      "ABCD\n",
      "ABCDE\n"
     ]
    }
   ],
   "source": [
    "for i in range(65,71):\n",
    "    for j in range(65,i):\n",
    "        print(chr(j),end='')\n",
    "    print()"
   ]
  },
  {
   "cell_type": "code",
   "execution_count": 23,
   "metadata": {},
   "outputs": [
    {
     "name": "stdout",
     "output_type": "stream",
     "text": [
      "     A\n",
      "    ABA\n",
      "   ABCBA\n",
      "  ABCDCBA\n",
      " ABCDEDCBA\n",
      "ABCDEFEDCBA\n"
     ]
    }
   ],
   "source": [
    "\n",
    "k=1\n",
    "for i in range(65,71):\n",
    "    for j in range(6-k,0,-1):\n",
    "        print(\" \",end='')\n",
    "    k+=1\n",
    "    for m in range(65,i+1):\n",
    "        print(chr(m),end='')\n",
    "        \n",
    "    for n in range(i-1,64,-1):\n",
    "        print(chr(n),end='')\n",
    "    print()"
   ]
  },
  {
   "cell_type": "code",
   "execution_count": 11,
   "metadata": {},
   "outputs": [
    {
     "name": "stdout",
     "output_type": "stream",
     "text": [
      "    A\n",
      "   ABA\n",
      "  ABCBA\n",
      " ABCDCBA\n",
      "ABCDEDCBA\n"
     ]
    }
   ],
   "source": [
    "for i in range(5):\n",
    "    for j in range(5 - i - 1):\n",
    "        print(' ', end = '')\n",
    "        \n",
    "    c = 65\n",
    "    for j in range(i+1):\n",
    "        print(chr(c), end = '')\n",
    "        c+=1\n",
    "\n",
    "    c-=1\n",
    "    for j in range(i):\n",
    "        c-=1\n",
    "        print(chr(c), end = '')\n",
    "    print()"
   ]
  },
  {
   "cell_type": "code",
   "execution_count": null,
   "metadata": {},
   "outputs": [],
   "source": [
    "def funct(x,y):\n",
    "    z = x+y\n",
    "    return z\n",
    "\n",
    "r = funct(10,20)\n",
    "\n",
    "funct()"
   ]
  },
  {
   "cell_type": "code",
   "execution_count": null,
   "metadata": {},
   "outputs": [],
   "source": []
  },
  {
   "cell_type": "code",
   "execution_count": null,
   "metadata": {},
   "outputs": [],
   "source": []
  },
  {
   "cell_type": "code",
   "execution_count": 56,
   "metadata": {},
   "outputs": [
    {
     "name": "stdout",
     "output_type": "stream",
     "text": [
      "[7, 6, 8, 6, 7, 5, 2, 1, 9, 3]\n"
     ]
    }
   ],
   "source": [
    "# WAP to generate a list of 20 random numbers between 1-10\n",
    "\n",
    "import random\n",
    "def rand_nums_10():\n",
    "    t=[]\n",
    "    for i in range(10):\n",
    "        t.append(random.randrange(1,11))\n",
    "    return t\n",
    "\n",
    "a = rand_nums_10()\n",
    "print(a)"
   ]
  },
  {
   "cell_type": "code",
   "execution_count": 57,
   "metadata": {},
   "outputs": [
    {
     "data": {
      "text/plain": [
       "[7, 6, 8, 6, 7, 5, 2, 1, 9, 3]"
      ]
     },
     "execution_count": 57,
     "metadata": {},
     "output_type": "execute_result"
    }
   ],
   "source": [
    "a = [7, 6, 8, 6, 7, 5, 2, 1, 9, 3]\n",
    "# Wap to input a number and check if it is in the list or not.\n",
    "n = int(input(\"Enter a number: \"))\n",
    "\n",
    "#???\n",
    "for data in a:\n",
    "    if data == n:\n",
    "        #???\n",
    "        break\n"
   ]
  },
  {
   "cell_type": "code",
   "execution_count": 60,
   "metadata": {},
   "outputs": [
    {
     "name": "stdout",
     "output_type": "stream",
     "text": [
      "1000\n",
      "number not found\n"
     ]
    }
   ],
   "source": [
    "a=[7,6,8,6,7,5,2,1,9,3]\n",
    "k=int(input())\n",
    "\n",
    "flag=False\n",
    "for i in a:\n",
    "    if i==k:\n",
    "        flag=True\n",
    "        break\n",
    "\n",
    "if flag:\n",
    "    print(\"number present\")\n",
    "else:\n",
    "    print(\"number not found\")"
   ]
  },
  {
   "cell_type": "code",
   "execution_count": 63,
   "metadata": {},
   "outputs": [
    {
     "name": "stdout",
     "output_type": "stream",
     "text": [
      "False\n",
      "True\n",
      "True\n"
     ]
    }
   ],
   "source": [
    "a=[7,6,8,6,7,5,2,1,9,3]\n",
    "\n",
    "def find(a, num):\n",
    "    flag=False\n",
    "    for i in a:\n",
    "        if i==num:\n",
    "            flag=True\n",
    "            break\n",
    "    return flag\n",
    "\n",
    "print(find(a, 10))\n",
    "print(find(a, 1))\n",
    "print(find(a, 1))"
   ]
  },
  {
   "cell_type": "code",
   "execution_count": 64,
   "metadata": {},
   "outputs": [
    {
     "name": "stdout",
     "output_type": "stream",
     "text": [
      "False\n",
      "True\n",
      "True\n"
     ]
    }
   ],
   "source": [
    "a=[7,6,8,6,7,5,2,1,9,3]\n",
    "\n",
    "def find(a, num):\n",
    "    \n",
    "    for i in a:\n",
    "        if i==num:\n",
    "            return True\n",
    "    return False\n",
    "\n",
    "print(find(a, 10))\n",
    "print(find(a, 1))\n",
    "print(find(a, 1))"
   ]
  },
  {
   "cell_type": "code",
   "execution_count": 67,
   "metadata": {},
   "outputs": [
    {
     "name": "stdout",
     "output_type": "stream",
     "text": [
      "-1\n",
      "7\n",
      "2\n"
     ]
    }
   ],
   "source": [
    "a=[7,6,8,6,7,5,2,1,9,3]\n",
    "\n",
    "def find(a, num):\n",
    "    \n",
    "    for i in range(len(a)):\n",
    "        if a[i] == num:\n",
    "            return i\n",
    "    return -1\n",
    "\n",
    "print(find(a, 10))\n",
    "print(find(a, 1))\n",
    "print(find(a, 8))"
   ]
  },
  {
   "cell_type": "markdown",
   "metadata": {},
   "source": [
    "# Break Continue"
   ]
  },
  {
   "cell_type": "code",
   "execution_count": 3,
   "metadata": {},
   "outputs": [
    {
     "name": "stdout",
     "output_type": "stream",
     "text": [
      "0\n",
      "1\n",
      "2\n",
      "3\n",
      "4\n"
     ]
    }
   ],
   "source": [
    "for i in range(10):\n",
    "    if i == 5:\n",
    "        break # stops the loop\n",
    "    print(i)"
   ]
  },
  {
   "cell_type": "code",
   "execution_count": 4,
   "metadata": {},
   "outputs": [
    {
     "name": "stdout",
     "output_type": "stream",
     "text": [
      "0\n",
      "1\n",
      "2\n",
      "3\n",
      "4\n",
      "5\n"
     ]
    }
   ],
   "source": [
    "for i in range(10):\n",
    "    print(i)\n",
    "    if i == 5:\n",
    "        break # stops the loop"
   ]
  },
  {
   "cell_type": "code",
   "execution_count": 5,
   "metadata": {},
   "outputs": [
    {
     "name": "stdout",
     "output_type": "stream",
     "text": [
      "012345\n",
      "012345\n",
      "012345\n",
      "012345\n",
      "012345\n"
     ]
    }
   ],
   "source": [
    "for k in range(5):\n",
    "    for i in range(10):\n",
    "        print(i, end = '')\n",
    "        if i == 5:\n",
    "            break # stops the loop\n",
    "    print()"
   ]
  },
  {
   "cell_type": "code",
   "execution_count": 6,
   "metadata": {},
   "outputs": [
    {
     "name": "stdout",
     "output_type": "stream",
     "text": [
      "0\n",
      "01\n",
      "012\n",
      "0123\n",
      "01234\n"
     ]
    }
   ],
   "source": [
    "for k in range(5):\n",
    "    for i in range(5):\n",
    "        print(i, end = '')\n",
    "        if i == k:\n",
    "            break # stops the loop\n",
    "    print()"
   ]
  },
  {
   "cell_type": "code",
   "execution_count": 7,
   "metadata": {},
   "outputs": [
    {
     "name": "stdout",
     "output_type": "stream",
     "text": [
      "0\n",
      "1\n",
      "2\n",
      "4\n"
     ]
    }
   ],
   "source": [
    "for i in range(5):\n",
    "    if i == 3:\n",
    "        continue\n",
    "    print(i)"
   ]
  },
  {
   "cell_type": "code",
   "execution_count": 9,
   "metadata": {},
   "outputs": [
    {
     "name": "stdout",
     "output_type": "stream",
     "text": [
      "0\n",
      "1\n",
      "2\n",
      "3\n",
      "4\n"
     ]
    }
   ],
   "source": [
    "for i in range(5):\n",
    "    print(i)\n",
    "    if i == 3:\n",
    "        continue # no effect"
   ]
  },
  {
   "cell_type": "code",
   "execution_count": null,
   "metadata": {},
   "outputs": [],
   "source": []
  },
  {
   "cell_type": "code",
   "execution_count": null,
   "metadata": {},
   "outputs": [],
   "source": []
  }
 ],
 "metadata": {
  "kernelspec": {
   "display_name": "Python 3",
   "language": "python",
   "name": "python3"
  },
  "language_info": {
   "codemirror_mode": {
    "name": "ipython",
    "version": 3
   },
   "file_extension": ".py",
   "mimetype": "text/x-python",
   "name": "python",
   "nbconvert_exporter": "python",
   "pygments_lexer": "ipython3",
   "version": "3.7.3"
  }
 },
 "nbformat": 4,
 "nbformat_minor": 2
}
