{
 "cells": [
  {
   "cell_type": "code",
   "execution_count": 2,
   "metadata": {},
   "outputs": [
    {
     "ename": "TypeError",
     "evalue": "'int' object is not callable",
     "output_type": "error",
     "traceback": [
      "\u001b[1;31m---------------------------------------------------------------------------\u001b[0m",
      "\u001b[1;31mTypeError\u001b[0m                                 Traceback (most recent call last)",
      "\u001b[1;32m<ipython-input-2-6727225227d5>\u001b[0m in \u001b[0;36m<module>\u001b[1;34m\u001b[0m\n\u001b[0;32m      1\u001b[0m \u001b[0mlist1\u001b[0m \u001b[1;33m=\u001b[0m \u001b[1;33m[\u001b[0m\u001b[1;36m10\u001b[0m\u001b[1;33m,\u001b[0m \u001b[1;36m20\u001b[0m\u001b[1;33m,\u001b[0m \u001b[1;36m4\u001b[0m\u001b[1;33m,\u001b[0m \u001b[1;36m45\u001b[0m\u001b[1;33m,\u001b[0m \u001b[1;36m99\u001b[0m\u001b[1;33m]\u001b[0m\u001b[1;33m\u001b[0m\u001b[1;33m\u001b[0m\u001b[0m\n\u001b[0;32m      2\u001b[0m \u001b[1;33m\u001b[0m\u001b[0m\n\u001b[1;32m----> 3\u001b[1;33m \u001b[0mmax\u001b[0m\u001b[1;33m=\u001b[0m\u001b[0mmax\u001b[0m\u001b[1;33m(\u001b[0m\u001b[0mlist1\u001b[0m\u001b[1;33m[\u001b[0m\u001b[1;36m0\u001b[0m\u001b[1;33m]\u001b[0m\u001b[1;33m,\u001b[0m\u001b[0mlist1\u001b[0m\u001b[1;33m[\u001b[0m\u001b[1;36m1\u001b[0m\u001b[1;33m]\u001b[0m\u001b[1;33m)\u001b[0m\u001b[1;33m\u001b[0m\u001b[1;33m\u001b[0m\u001b[0m\n\u001b[0m\u001b[0;32m      4\u001b[0m \u001b[0msecondmax\u001b[0m\u001b[1;33m=\u001b[0m\u001b[0mmin\u001b[0m\u001b[1;33m(\u001b[0m\u001b[0mlist1\u001b[0m\u001b[1;33m[\u001b[0m\u001b[1;36m0\u001b[0m\u001b[1;33m]\u001b[0m\u001b[1;33m,\u001b[0m\u001b[0mlist1\u001b[0m\u001b[1;33m[\u001b[0m\u001b[1;36m1\u001b[0m\u001b[1;33m]\u001b[0m\u001b[1;33m)\u001b[0m\u001b[1;33m\u001b[0m\u001b[1;33m\u001b[0m\u001b[0m\n\u001b[0;32m      5\u001b[0m \u001b[1;33m\u001b[0m\u001b[0m\n",
      "\u001b[1;31mTypeError\u001b[0m: 'int' object is not callable"
     ]
    }
   ],
   "source": [
    "list1 = [10, 20, 4, 45, 99] \n",
    "  \n",
    "max=max(list1[0],list1[1]) \n",
    "secondmax=min(list1[0],list1[1]) \n",
    "  \n",
    "for i in range(2,len(list1)): \n",
    "    if list1[i]>max: \n",
    "        secondmax=max\n",
    "        max=list1[i] \n",
    "    else: \n",
    "        if list1[i]>secondmax: \n",
    "            secondmax=list1[i] \n",
    "  \n",
    "print(\"Second highest number is : \",str(secondmax)) "
   ]
  },
  {
   "cell_type": "code",
   "execution_count": 9,
   "metadata": {},
   "outputs": [
    {
     "data": {
      "text/plain": [
       "(45, array([4, 5], dtype=int64))"
      ]
     },
     "execution_count": 9,
     "metadata": {},
     "output_type": "execute_result"
    }
   ],
   "source": [
    "import numpy as np\n",
    "\n",
    "def second_largest(numbers):\n",
    "    first, second = 0, 0\n",
    "    for n in numbers:\n",
    "        if n > first:\n",
    "            first, second = n, first\n",
    "        elif first > n > second:\n",
    "            second = n\n",
    "    values = np.array(numbers)\n",
    "    searchval = second\n",
    "    ii = np.where(values == searchval)[0]\n",
    "    return (second, ii)\n",
    "    \n",
    "list1 = [10, 20, 99, 4, 45, 45, 99]\n",
    "second_largest(list1)\n"
   ]
  },
  {
   "cell_type": "code",
   "execution_count": 11,
   "metadata": {},
   "outputs": [
    {
     "name": "stdout",
     "output_type": "stream",
     "text": [
      "45\n",
      "45\n"
     ]
    }
   ],
   "source": [
    "import numpy as np\n",
    "\n",
    "def second_largest(numbers):\n",
    "    first, second = 0, 0\n",
    "    for n in numbers:\n",
    "        if n > first:\n",
    "            first, second = n, first\n",
    "        elif first > n > second:\n",
    "            second = n\n",
    "    values = np.array(numbers)\n",
    "    searchval = second\n",
    "    ii = np.where(values == searchval)[0]\n",
    "    for i in range(0,len(ii)):\n",
    "\t    print (numbers[ii[i]])\n",
    "    \n",
    "list1 = [10, 20, 99, 4, 45, 45, 99]\n",
    "second_largest(list1)\n"
   ]
  },
  {
   "cell_type": "code",
   "execution_count": 14,
   "metadata": {},
   "outputs": [
    {
     "name": "stdout",
     "output_type": "stream",
     "text": [
      "5\n",
      "a\n",
      "23\n",
      "b\n",
      "45\n",
      "c\n",
      "23\n",
      "d\n",
      "1\n",
      "e\n",
      "3\n",
      "a\n",
      "c\n"
     ]
    }
   ],
   "source": [
    "\n",
    "if __name__ == '__main__':\n",
    "    python_student = []\n",
    "    n = []\n",
    "    s = []\n",
    "    for _ in range(int(input())):\n",
    "        python_student.append([])\n",
    "        name = input()\n",
    "        score = float(input())\n",
    "        python_student[_].append([name, score])\n",
    "        n.append(name)\n",
    "        s.append(score)\n",
    "    x = second_largest(s)\n",
    "    for i in range(0,len(x)):\n",
    "        print (n[x[i]])\n",
    "import numpy as np\n",
    "\n",
    "def second_largest(numbers):\n",
    "    first, second = 0, 0\n",
    "    for n in numbers:\n",
    "        if n > first:\n",
    "            first, second = n, first\n",
    "        elif first > n > second:\n",
    "            second = n\n",
    "    values = np.array(numbers)\n",
    "    searchval = second\n",
    "    ii = np.where(values == searchval)[0]\n",
    "    return (ii)   \n"
   ]
  },
  {
   "cell_type": "code",
   "execution_count": null,
   "metadata": {},
   "outputs": [],
   "source": [
    "if __name__ == '__main__':\n",
    "    N = int(input())\n",
    "    l = []\n",
    "    for i in range(0, N):\n",
    "        s = input()\n",
    "        \n",
    "        if s.startswith('insert'):\n",
    "            r = s.split(' ')\n",
    "            l.insert(r[1], r[2])\n",
    "        elif s.startswith('print'):\n",
    "            print(l)\n",
    "        elif s.startswith('remove'):\n",
    "            k = s.split(' ')\n",
    "            l.remove(k[1])\n",
    "        elif s.startswith('insert'):\n",
    "            pass\n",
    "        elif s.startswith('insert'):\n",
    "            pass\n",
    "        elif s.startswith('insert'):\n",
    "            pass\n",
    "        elif s.startswith('insert'):\n",
    "            pass\n",
    "        \n",
    "    \n",
    "    "
   ]
  },
  {
   "cell_type": "code",
   "execution_count": null,
   "metadata": {},
   "outputs": [],
   "source": [
    "if __name__ == '__main__':\n",
    "    N = int(input())\n",
    "    l = []\n",
    "    for i in range(0, N):\n",
    "        s = input()\n",
    "        \n",
    "        if s.startswith('insert'):\n",
    "            r = s.split(' ')\n",
    "            l.insert(r[1], r[2])\n",
    "        elif s.startswith('print'):\n",
    "            print(l)\n",
    "        elif s.startswith('remove'):\n",
    "            k = s.split(' ')\n",
    "            l.remove(k[1])\n",
    "        elif s.startswith('insert'):\n",
    "            pass\n",
    "        elif s.startswith('insert'):\n",
    "            pass\n",
    "        elif s.startswith('insert'):\n",
    "            pass\n",
    "        elif s.startswith('insert'):\n",
    "            pass"
   ]
  }
 ],
 "metadata": {
  "kernelspec": {
   "display_name": "Python 3",
   "language": "python",
   "name": "python3"
  },
  "language_info": {
   "codemirror_mode": {
    "name": "ipython",
    "version": 3
   },
   "file_extension": ".py",
   "mimetype": "text/x-python",
   "name": "python",
   "nbconvert_exporter": "python",
   "pygments_lexer": "ipython3",
   "version": "3.7.3"
  }
 },
 "nbformat": 4,
 "nbformat_minor": 2
}
