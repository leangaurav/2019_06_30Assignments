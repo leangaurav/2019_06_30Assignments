{
 "cells": [
  {
   "cell_type": "code",
   "execution_count": 6,
   "metadata": {},
   "outputs": [
    {
     "name": "stdout",
     "output_type": "stream",
     "text": [
      "Enter the temp in fahrenheit:41\n",
      "temp in celcius is: 5.0\n"
     ]
    }
   ],
   "source": [
    "F = int(input(\"Enter the temp in fahrenheit:\"))\n",
    "c = ((F - 32)*(5/9))\n",
    "print(\"temp in celcius is:\",c)\n"
   ]
  },
  {
   "cell_type": "code",
   "execution_count": null,
   "metadata": {},
   "outputs": [],
   "source": [
    "n = int(input(\"Enter the number:\"))\n",
    "print (\"Square of number is:\",(n**2))\n",
    "print(\"cube of number is:\",(n**3))"
   ]
  },
  {
   "cell_type": "code",
   "execution_count": null,
   "metadata": {},
   "outputs": [],
   "source": [
    "2**3\n"
   ]
  },
  {
   "cell_type": "code",
   "execution_count": null,
   "metadata": {},
   "outputs": [],
   "source": [
    "n = int(input(\"Enter the 1st number:\"))\n",
    "m = int(input(\"Enter the 2nd number:\"))\n",
    "print (\"Output of the number:\",(n**2 + m**2))\n"
   ]
  },
  {
   "cell_type": "code",
   "execution_count": null,
   "metadata": {},
   "outputs": [],
   "source": [
    "M = int(input(\"Enter the 1st number:\"))\n",
    "N = int(input(\"Enter the 2nd number:\"))\n",
    "print (\"Output of the number:\",(M**N))\n",
    "print (\"Output of the number:\", pow(M,N))"
   ]
  },
  {
   "cell_type": "code",
   "execution_count": 5,
   "metadata": {},
   "outputs": [
    {
     "name": "stdout",
     "output_type": "stream",
     "text": [
      "Enter the principal amount : 2\n",
      "Enter the number of years : 2\n",
      "Enter the rate of interest : 2\n",
      "Simple interest is: 0.08\n"
     ]
    }
   ],
   "source": [
    "P = float(input(\"Enter the principal amount : \"))\n",
    "N = float(input(\"Enter the number of years : \"))\n",
    "R = float(input(\"Enter the rate of interest : \"))\n",
    "SI = (P * N * R)/100\n",
    "print (\"Simple interest is:\", SI)\n"
   ]
  },
  {
   "cell_type": "code",
   "execution_count": null,
   "metadata": {},
   "outputs": [],
   "source": [
    "n = int(input(\"Enter the number:\"))\n",
    "print (\"Sum of natural number is :\", n*((n+1)/2))\n"
   ]
  },
  {
   "cell_type": "code",
   "execution_count": null,
   "metadata": {},
   "outputs": [],
   "source": [
    "M = int(input(\"Enter  M's value:\"))\n",
    "N = int(input(\"Enter  N's value:\"))\n",
    "temp = M\n",
    "M = N\n",
    "N = temp\n",
    "print (\"New value of M and N is \", M , N)"
   ]
  },
  {
   "cell_type": "code",
   "execution_count": null,
   "metadata": {},
   "outputs": [],
   "source": [
    "import math\n",
    "area = float(input(\"Enter the area of circle:\"))\n",
    "radius = math.sqrt(area/3.14)\n",
    "print (\"value of radius is :\", radius)\n",
    "print (\"value of circumference is :\", (2*3.14*radius))\n"
   ]
  },
  {
   "cell_type": "code",
   "execution_count": 3,
   "metadata": {},
   "outputs": [
    {
     "name": "stdout",
     "output_type": "stream",
     "text": [
      "Enter the 1st number:40\n",
      "Enter the 2nd number:40\n",
      "Enter the 3rd number:40\n",
      "Enter the 4th number:50\n",
      "Enter the 5th number:50\n",
      "Average of number is: 44.0\n",
      "Percentage is 44.0\n"
     ]
    }
   ],
   "source": [
    "a = int(input(\"Enter the 1st number:\"))\n",
    "b = int(input(\"Enter the 2nd number:\"))\n",
    "c = int(input(\"Enter the 3rd number:\"))\n",
    "d = int(input(\"Enter the 4th number:\"))\n",
    "e = int(input(\"Enter the 5th number:\"))\n",
    "Average = (a+b+c+d+e)/5\n",
    "print (\"Average of number is:\", Average)\n",
    "print (\"Percentage is\", (a+b+c+d+e)/500*100)"
   ]
  }
 ],
 "metadata": {
  "kernelspec": {
   "display_name": "Python 3",
   "language": "python",
   "name": "python3"
  },
  "language_info": {
   "codemirror_mode": {
    "name": "ipython",
    "version": 3
   },
   "file_extension": ".py",
   "mimetype": "text/x-python",
   "name": "python",
   "nbconvert_exporter": "python",
   "pygments_lexer": "ipython3",
   "version": "3.7.3"
  }
 },
 "nbformat": 4,
 "nbformat_minor": 2
}
