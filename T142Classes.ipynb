{
 "cells": [
  {
   "cell_type": "code",
   "execution_count": 3,
   "metadata": {},
   "outputs": [
    {
     "name": "stdout",
     "output_type": "stream",
     "text": [
      "10 20\n",
      "10 0\n",
      "0 0\n",
      "1000 0\n"
     ]
    }
   ],
   "source": [
    "# Attributes:\n",
    "# re\n",
    "# im\n",
    "# define constructor which takes re and im and initializes the object.\n",
    "# default value should be 0,0\n",
    "\n",
    "class Complex:\n",
    "    def __init__(self, r=0, i=0):\n",
    "        self.re = r\n",
    "        self.im = i\n",
    "    \n",
    "c1 = Complex(10,20)\n",
    "c2 = Complex(10)\n",
    "c3 = Complex()\n",
    "    \n",
    "print(c1.re, c1.im)\n",
    "print(c2.re, c2.im)\n",
    "print(c3.re, c3.im)\n",
    "c3.re = 1000\n",
    "print(c3.re, c3.im)"
   ]
  },
  {
   "cell_type": "markdown",
   "metadata": {},
   "source": [
    "### String conversion\n"
   ]
  },
  {
   "cell_type": "code",
   "execution_count": 16,
   "metadata": {},
   "outputs": [
    {
     "name": "stdout",
     "output_type": "stream",
     "text": [
      "Dummy 100 Dummy 1000 100\n",
      "[1, 2]\n",
      "Dummy 100 9\n"
     ]
    }
   ],
   "source": [
    "class Dummy:\n",
    "    def __init__(self, var):\n",
    "        self.var = var\n",
    "    def __str__(self):\n",
    "        return \"Dummy {}\". format(self.var)\n",
    "\n",
    "d1 = Dummy(100)\n",
    "d2 = Dummy(1000)\n",
    "\n",
    "d3 = Dummy(var  = 100)\n",
    "\n",
    "print(d1,d2, d1.var)\n",
    "\n",
    "a = [1,2]\n",
    "#print(str(d1 = 'abcd'))\n",
    "print(a)\n",
    "\n",
    "r = str(d1)\n",
    "print(r, len(r))\n"
   ]
  },
  {
   "cell_type": "code",
   "execution_count": 29,
   "metadata": {},
   "outputs": [
    {
     "name": "stdout",
     "output_type": "stream",
     "text": [
      "Dummy 30\n"
     ]
    }
   ],
   "source": [
    "class Dummy:\n",
    "    def __init__(self, var):\n",
    "        self.var = var\n",
    "    def __str__(self):\n",
    "        return \"Dummy {}\". format(self.var)\n",
    "    def __add__(self, gaurav):\n",
    "        r = self.var + gaurav.var\n",
    "        ob = Dummy(r)\n",
    "        return ob\n",
    "    \n",
    "d1 = Dummy(10)\n",
    "d2 = Dummy(20)\n",
    "\n",
    "d3 = d1 + d2 # d1.__add__(d2)\n",
    "print(d3)"
   ]
  },
  {
   "cell_type": "code",
   "execution_count": 19,
   "metadata": {},
   "outputs": [
    {
     "name": "stdout",
     "output_type": "stream",
     "text": [
      "10 - 20i\n",
      "10 + 0i\n",
      "0 + 0i\n"
     ]
    }
   ],
   "source": [
    "# Attributes:\n",
    "# re\n",
    "# im\n",
    "# define constructor which takes re and im and initializes the object.\n",
    "# default value should be 0,0\n",
    "\n",
    "class Complex:\n",
    "    def __init__(self, r=0, i=0):\n",
    "        self.re = r\n",
    "        self.im = i\n",
    "    def __str__(self):\n",
    "        return \"{} {} {}i\".format(self.re, '+' if self.im >=0 else '-' , abs(self.im))\n",
    "c1 = Complex(10,-20)\n",
    "c2 = Complex(10)\n",
    "c3 = Complex()\n",
    "\n",
    "print(c1)\n",
    "print(c2)\n",
    "print(c3)\n"
   ]
  },
  {
   "cell_type": "code",
   "execution_count": 40,
   "metadata": {},
   "outputs": [
    {
     "name": "stdout",
     "output_type": "stream",
     "text": [
      "20 - 20i\n",
      "0 - 20i\n",
      "-10 + 20i\n",
      "10 + 20i\n",
      "10 + 20i\n",
      "20 + 20i\n"
     ]
    }
   ],
   "source": [
    "\n",
    "class Complex:\n",
    "    def __init__(self, r=0, i=0):\n",
    "        self.re = r\n",
    "        self.im = i\n",
    "    \n",
    "    def __str__(self):\n",
    "        return \"{} {} {}i\".format(self.re, '+' if self.im >=0 else '-' , abs(self.im))\n",
    "    \n",
    "    def __add__(self, other):\n",
    "        if isinstance(other, (int, float)):\n",
    "            return Complex(self.re + other, self.im)\n",
    "        return Complex(self.re + other.re, self.im + other.im)\n",
    "    def __sub__(self, other):\n",
    "        return self + (-other)\n",
    "    def __neg__(self):\n",
    "        return Complex(-self.re, - self.im)\n",
    "    def __invert__(self):\n",
    "        return Complex(self.re, -self.im)\n",
    "\n",
    "c1 = Complex(10,-20)\n",
    "c2 = Complex(10)\n",
    "c3 = Complex()\n",
    "\n",
    "\n",
    "c4 = c1 + c2\n",
    "print(c4)\n",
    "c5 = c1 - c2\n",
    "print(c5)\n",
    "c6 = -c1\n",
    "print(c6)\n",
    "\n",
    "c7 = ~c1\n",
    "print(c7)\n",
    "print(c7)\n",
    "c8 = c7 + 10\n",
    "print(c8)"
   ]
  },
  {
   "cell_type": "markdown",
   "metadata": {},
   "source": [
    "### Name Mangling and Private Behavior"
   ]
  },
  {
   "cell_type": "code",
   "execution_count": 53,
   "metadata": {},
   "outputs": [
    {
     "name": "stdout",
     "output_type": "stream",
     "text": [
      "['_Complex__im', '__add__', '__class__', '__delattr__', '__dict__', '__dir__', '__doc__', '__eq__', '__format__', '__ge__', '__getattribute__', '__gt__', '__hash__', '__init__', '__init_subclass__', '__le__', '__lt__', '__module__', '__ne__', '__new__', '__re__', '__reduce__', '__reduce_ex__', '__repr__', '__setattr__', '__sizeof__', '__str__', '__subclasshook__', '__weakref__']\n"
     ]
    },
    {
     "ename": "AttributeError",
     "evalue": "'Complex' object has no attribute '_Complex__re'",
     "output_type": "error",
     "traceback": [
      "\u001b[1;31m---------------------------------------------------------------------------\u001b[0m",
      "\u001b[1;31mAttributeError\u001b[0m                            Traceback (most recent call last)",
      "\u001b[1;32m<ipython-input-53-ac721db9a8ae>\u001b[0m in \u001b[0;36m<module>\u001b[1;34m\u001b[0m\n\u001b[0;32m     17\u001b[0m \u001b[1;33m\u001b[0m\u001b[0m\n\u001b[0;32m     18\u001b[0m \u001b[0mprint\u001b[0m\u001b[1;33m(\u001b[0m\u001b[0mdir\u001b[0m\u001b[1;33m(\u001b[0m\u001b[0mc1\u001b[0m\u001b[1;33m)\u001b[0m\u001b[1;33m)\u001b[0m\u001b[1;33m\u001b[0m\u001b[1;33m\u001b[0m\u001b[0m\n\u001b[1;32m---> 19\u001b[1;33m \u001b[0mprint\u001b[0m\u001b[1;33m(\u001b[0m\u001b[0mc1\u001b[0m\u001b[1;33m.\u001b[0m\u001b[0m_Complex__re\u001b[0m\u001b[1;33m)\u001b[0m\u001b[1;33m\u001b[0m\u001b[1;33m\u001b[0m\u001b[0m\n\u001b[0m\u001b[0;32m     20\u001b[0m \u001b[0mprint\u001b[0m\u001b[1;33m(\u001b[0m\u001b[0mc1\u001b[0m\u001b[1;33m.\u001b[0m\u001b[0m__re\u001b[0m\u001b[1;33m)\u001b[0m\u001b[1;33m\u001b[0m\u001b[1;33m\u001b[0m\u001b[0m\n",
      "\u001b[1;31mAttributeError\u001b[0m: 'Complex' object has no attribute '_Complex__re'"
     ]
    }
   ],
   "source": [
    "\n",
    "class Complex:\n",
    "    def __init__(self, r=0, i=0):\n",
    "        self.__re__ = r\n",
    "        self.__im = i\n",
    "    \n",
    "    def __str__(self):\n",
    "        return \"{} {} {}i\".format(self.__re__, '+' if self.__im >=0 else '-' , abs(self.__im))\n",
    "    \n",
    "    def __add__(self, other):\n",
    "        return Complex(self.__re__ + other.__re__, self.__im + other.__im)\n",
    "c1 = Complex(10,-20)\n",
    "c2 = Complex(10)\n",
    "c3 = Complex()\n",
    "\n",
    "#print(c1 + c2)\n",
    "\n",
    "print(dir(c1))\n",
    "print(c1._Complex__re)\n",
    "print(c1.__re)\n"
   ]
  },
  {
   "cell_type": "code",
   "execution_count": 57,
   "metadata": {},
   "outputs": [
    {
     "name": "stdout",
     "output_type": "stream",
     "text": [
      "['__class__', '__delattr__', '__dict__', '__dir__', '__doc__', '__eq__', '__format__', '__ge__', '__getattribute__', '__gt__', '__hash__', '__init__', '__init_subclass__', '__le__', '__lt__', '__module__', '__ne__', '__new__', '__reduce__', '__reduce_ex__', '__repr__', '__setattr__', '__sizeof__', '__str__', '__subclasshook__', '__weakref__', 'abc']\n",
      "{'__module__': '__main__', 'abc': <function Test.abc at 0x000001DB4E5CAD90>, '__dict__': <attribute '__dict__' of 'Test' objects>, '__weakref__': <attribute '__weakref__' of 'Test' objects>, '__doc__': None}\n"
     ]
    }
   ],
   "source": [
    "class Test:\n",
    "    def __init__(self):\n",
    "        self.x = 100\n",
    "\n",
    "    def abc(self):\n",
    "        pass\n",
    "\n",
    "print(dir(Test))\n",
    "print(Test.__dict__)\n",
    "\n"
   ]
  },
  {
   "cell_type": "code",
   "execution_count": 61,
   "metadata": {},
   "outputs": [
    {
     "name": "stdout",
     "output_type": "stream",
     "text": [
      "['__class__', '__delattr__', '__dict__', '__dir__', '__doc__', '__eq__', '__format__', '__ge__', '__getattribute__', '__gt__', '__hash__', '__init__', '__init_subclass__', '__le__', '__lt__', '__module__', '__ne__', '__new__', '__reduce__', '__reduce_ex__', '__repr__', '__setattr__', '__sizeof__', '__str__', '__subclasshook__', '__weakref__', 'abc', 'x']\n",
      "{'x': 100}\n",
      "{'x': 100, 'y': 900}\n",
      "New Function\n"
     ]
    }
   ],
   "source": [
    "class Test:\n",
    "    def __init__(self):\n",
    "        self.x = 100\n",
    "\n",
    "    def abc(self):\n",
    "        pass\n",
    "\n",
    "t1 = Test()\n",
    "print(dir(t1))\n",
    "print(t1.__dict__)\n",
    "\n",
    "t1.y = 900\n",
    "print(t1.__dict__)\n",
    "\n",
    "\n",
    "def new_funct(self):\n",
    "    print('New Function')\n",
    "    \n",
    "Test.funct = new_funct\n",
    "\n",
    "t1.funct()"
   ]
  },
  {
   "cell_type": "code",
   "execution_count": 62,
   "metadata": {},
   "outputs": [
    {
     "name": "stdout",
     "output_type": "stream",
     "text": [
      "Help on class Test in module __main__:\n",
      "\n",
      "class Test(builtins.object)\n",
      " |  Methods defined here:\n",
      " |  \n",
      " |  __init__(self)\n",
      " |      Initialize self.  See help(type(self)) for accurate signature.\n",
      " |  \n",
      " |  abc(self)\n",
      " |  \n",
      " |  funct = new_funct(self)\n",
      " |  \n",
      " |  ----------------------------------------------------------------------\n",
      " |  Data descriptors defined here:\n",
      " |  \n",
      " |  __dict__\n",
      " |      dictionary for instance variables (if defined)\n",
      " |  \n",
      " |  __weakref__\n",
      " |      list of weak references to the object (if defined)\n",
      "\n"
     ]
    }
   ],
   "source": [
    "help(Test)"
   ]
  },
  {
   "cell_type": "code",
   "execution_count": 64,
   "metadata": {},
   "outputs": [
    {
     "name": "stdout",
     "output_type": "stream",
     "text": [
      "{'__module__': '__main__', '__doc__': '\\n    This is Test class\\n    THis is a Doc-string\\n    ', '__init__': <function Test.__init__ at 0x000001DB4E534B70>, 'abc': <function Test.abc at 0x000001DB4E534E18>, '__dict__': <attribute '__dict__' of 'Test' objects>, '__weakref__': <attribute '__weakref__' of 'Test' objects>}\n",
      "Help on class Test in module __main__:\n",
      "\n",
      "class Test(builtins.object)\n",
      " |  This is Test class\n",
      " |  THis is a Doc-string\n",
      " |  \n",
      " |  Methods defined here:\n",
      " |  \n",
      " |  __init__(self)\n",
      " |      Initialize self.  See help(type(self)) for accurate signature.\n",
      " |  \n",
      " |  abc(self)\n",
      " |  \n",
      " |  ----------------------------------------------------------------------\n",
      " |  Data descriptors defined here:\n",
      " |  \n",
      " |  __dict__\n",
      " |      dictionary for instance variables (if defined)\n",
      " |  \n",
      " |  __weakref__\n",
      " |      list of weak references to the object (if defined)\n",
      "\n"
     ]
    }
   ],
   "source": [
    "class Test:\n",
    "    \"\"\"\n",
    "    This is Test class\n",
    "    THis is a Doc-string\n",
    "    \"\"\"\n",
    "    def __init__(self):\n",
    "        self.x = 100\n",
    "\n",
    "    def abc(self):\n",
    "        pass\n",
    "\n",
    "print(Test.__dict__)\n",
    "help(Test)\n"
   ]
  },
  {
   "cell_type": "code",
   "execution_count": 68,
   "metadata": {},
   "outputs": [
    {
     "name": "stdout",
     "output_type": "stream",
     "text": [
      "\n",
      "    THis is functionDocumentation\n",
      "    \n",
      "Help on function test_funct in module __main__:\n",
      "\n",
      "test_funct()\n",
      "    THis is functionDocumentation\n",
      "\n",
      "['__annotations__', '__call__', '__class__', '__closure__', '__code__', '__defaults__', '__delattr__', '__dict__', '__dir__', '__doc__', '__eq__', '__format__', '__ge__', '__get__', '__getattribute__', '__globals__', '__gt__', '__hash__', '__init__', '__init_subclass__', '__kwdefaults__', '__le__', '__lt__', '__module__', '__name__', '__ne__', '__new__', '__qualname__', '__reduce__', '__reduce_ex__', '__repr__', '__setattr__', '__sizeof__', '__str__', '__subclasshook__']\n",
      "test_funct\n"
     ]
    }
   ],
   "source": [
    "def test_funct():\n",
    "    \"\"\"\n",
    "    THis is functionDocumentation\n",
    "    \"\"\"\n",
    "    pass\n",
    "\n",
    "\n",
    "print(test_funct.__doc__)\n",
    "help(test_funct)\n",
    "\n",
    "print(dir(test_funct))\n",
    "\n",
    "f = test_funct\n",
    "\n",
    "print(f.__name__)"
   ]
  },
  {
   "cell_type": "code",
   "execution_count": null,
   "metadata": {},
   "outputs": [],
   "source": []
  }
 ],
 "metadata": {
  "kernelspec": {
   "display_name": "Python 3",
   "language": "python",
   "name": "python3"
  },
  "language_info": {
   "codemirror_mode": {
    "name": "ipython",
    "version": 3
   },
   "file_extension": ".py",
   "mimetype": "text/x-python",
   "name": "python",
   "nbconvert_exporter": "python",
   "pygments_lexer": "ipython3",
   "version": "3.7.3"
  }
 },
 "nbformat": 4,
 "nbformat_minor": 2
}
