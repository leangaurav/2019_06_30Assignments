{
 "cells": [
  {
   "cell_type": "code",
   "execution_count": 7,
   "metadata": {},
   "outputs": [
    {
     "name": "stdout",
     "output_type": "stream",
     "text": [
      "1\n",
      "5\n",
      "-1\n"
     ]
    }
   ],
   "source": [
    "a = [10,20,30,31,21,22]\n",
    "\n",
    "def find_index(seq, value):\n",
    "    \"\"\"\n",
    "    finds the index of value in seq\n",
    "    returns -1 if not found\n",
    "    \"\"\"\n",
    "    \"\"\"\n",
    "    for i in range(len(seq)):\n",
    "        if seq[i] == value:\n",
    "            return i\n",
    "    \"\"\"\n",
    "    for i,data  in enumerate(seq):\n",
    "        if data == value:\n",
    "            return i\n",
    "    return -1\n",
    "\n",
    "print(find_index(a, 20))\n",
    "print(find_index(a, 22))\n",
    "print(find_index(a, 23))\n",
    "    "
   ]
  },
  {
   "cell_type": "code",
   "execution_count": 9,
   "metadata": {},
   "outputs": [
    {
     "name": "stdout",
     "output_type": "stream",
     "text": [
      "a P\n",
      "b Q\n",
      "c E\n",
      "d R\n",
      "A D\n",
      "B F\n"
     ]
    },
    {
     "ename": "IndexError",
     "evalue": "string index out of range",
     "output_type": "error",
     "traceback": [
      "\u001b[1;31m---------------------------------------------------------------------------\u001b[0m",
      "\u001b[1;31mIndexError\u001b[0m                                Traceback (most recent call last)",
      "\u001b[1;32m<ipython-input-9-b0d7249155eb>\u001b[0m in \u001b[0;36m<module>\u001b[1;34m\u001b[0m\n\u001b[0;32m      3\u001b[0m \u001b[1;33m\u001b[0m\u001b[0m\n\u001b[0;32m      4\u001b[0m \u001b[1;32mfor\u001b[0m \u001b[0mi\u001b[0m \u001b[1;32min\u001b[0m \u001b[0mrange\u001b[0m\u001b[1;33m(\u001b[0m\u001b[0mlen\u001b[0m\u001b[1;33m(\u001b[0m\u001b[0ms1\u001b[0m\u001b[1;33m)\u001b[0m\u001b[1;33m)\u001b[0m\u001b[1;33m:\u001b[0m\u001b[1;33m\u001b[0m\u001b[1;33m\u001b[0m\u001b[0m\n\u001b[1;32m----> 5\u001b[1;33m     \u001b[0mprint\u001b[0m\u001b[1;33m(\u001b[0m\u001b[0ms1\u001b[0m\u001b[1;33m[\u001b[0m\u001b[0mi\u001b[0m\u001b[1;33m]\u001b[0m\u001b[1;33m,\u001b[0m \u001b[0ms2\u001b[0m\u001b[1;33m[\u001b[0m\u001b[0mi\u001b[0m\u001b[1;33m]\u001b[0m\u001b[1;33m)\u001b[0m\u001b[1;33m\u001b[0m\u001b[1;33m\u001b[0m\u001b[0m\n\u001b[0m",
      "\u001b[1;31mIndexError\u001b[0m: string index out of range"
     ]
    }
   ],
   "source": [
    "s1 = 'abcdABq'\n",
    "s2 = 'PQERDF'\n",
    "\n",
    "for i in range(len(s1)):\n",
    "    print(s1[i], s2[i])"
   ]
  },
  {
   "cell_type": "code",
   "execution_count": 10,
   "metadata": {},
   "outputs": [
    {
     "name": "stdout",
     "output_type": "stream",
     "text": [
      "('a', 'P')\n",
      "('b', 'Q')\n",
      "('c', 'E')\n",
      "('d', 'R')\n",
      "('A', 'D')\n",
      "('B', 'F')\n"
     ]
    }
   ],
   "source": [
    "s1 = 'abcdABq'\n",
    "s2 = 'PQERDF'\n",
    "\n",
    "for i in zip(s1,s2):\n",
    "    print(i)"
   ]
  },
  {
   "cell_type": "code",
   "execution_count": 15,
   "metadata": {},
   "outputs": [
    {
     "name": "stdout",
     "output_type": "stream",
     "text": [
      "True\n",
      "False\n",
      "False\n",
      "False\n"
     ]
    }
   ],
   "source": [
    "def is_equal(seq1, seq2):\n",
    "    \n",
    "    if len(seq1) != len(seq2):\n",
    "        return False\n",
    "\n",
    "    for d1,d2 in zip(seq1, seq2):\n",
    "        if d1 != d2:\n",
    "            return False\n",
    "        \n",
    "    return True\n",
    "\n",
    "print(is_equal( [10,20], [10,20] ) )\n",
    "print(is_equal( [10,20], [10,30] ) )\n",
    "print(is_equal( [10,20], [10,20,30] ) )\n",
    "print(is_equal( [10,20], ['a','b'] ) )"
   ]
  },
  {
   "cell_type": "code",
   "execution_count": 18,
   "metadata": {},
   "outputs": [
    {
     "name": "stdout",
     "output_type": "stream",
     "text": [
      "False\n",
      "True\n",
      "False\n"
     ]
    }
   ],
   "source": [
    "\n",
    "def is_pallindrome(word):\n",
    "    for i in range(len(word)//2):\n",
    "        if word[i] != word[-(i + 1)]:\n",
    "            return False\n",
    "    return True\n",
    "\"\"\"\n",
    "with open(...) as f:\n",
    "    for line in f:\n",
    "        for word in line.split():\n",
    "            count+= is_pallindrome(word)\n",
    "\"\"\"\n",
    "print(is_pallindrome('abc'))\n",
    "print(is_pallindrome('abcba'))\n",
    "print(is_pallindrome('abcbaa'))"
   ]
  },
  {
   "cell_type": "code",
   "execution_count": 23,
   "metadata": {},
   "outputs": [
    {
     "name": "stdout",
     "output_type": "stream",
     "text": [
      "(40, 40)\n",
      "(40, 30)\n",
      "(40, 30)\n"
     ]
    }
   ],
   "source": [
    "def second_maximum(d1):\n",
    "    if(len(d1) > 2 ):\n",
    "        if d1[0] > d1[1]:\n",
    "            f_max = d1[0]\n",
    "            s_max = d1[1]\n",
    "        else:\n",
    "            f_max = d1[1]\n",
    "            s_max = d1[0]\n",
    "        for i in range(2,len(d1)):\n",
    "            if d1[i] > f_max:\n",
    "                s_max = f_max\n",
    "                f_max = d1[i]\n",
    "            \n",
    "            if d1[i] > s_max: \n",
    "                s_max = d1[i]\n",
    "        f_s = f_max,s_max\n",
    "        return f_s\n",
    "    else:\n",
    "        print(\"Enter list with atleast 3 numbers \")\n",
    "print(second_maximum([10,20,30,40]))   \n",
    "print(second_maximum([40,30,20,10]))    \n",
    "print(second_maximum([40,20,30,10]))           "
   ]
  },
  {
   "cell_type": "code",
   "execution_count": null,
   "metadata": {},
   "outputs": [],
   "source": [
    "def get_max(seq):\n",
    "    if len(seq) == 0:\n",
    "        return None\n",
    "    \n",
    "    m = seq[0]\n",
    "    for i in range(1, len(seq)):\n",
    "        if seq[i] > m:\n",
    "            m = seq[i]\n",
    "    return m"
   ]
  },
  {
   "cell_type": "code",
   "execution_count": null,
   "metadata": {},
   "outputs": [],
   "source": [
    "def is_leap_year(year):\n",
    "    if year > 999 and year < 10000:\n",
    "        # if year is not a multiple of 100 it can be muliple of 4\n",
    "        if (year % 100 != 0 and year%4 == 0):\n",
    "            return True\n",
    "        #\n",
    "        elif year % 400 == 0:\n",
    "            return True\n",
    "\n",
    "    return False\n",
    "\n",
    "def is_leap_year(year):\n",
    "    if year > 999 and year < 10000:\n",
    "        if (year % 100 != 0 and year%4 == 0) or year % 400 == 0:\n",
    "            return True\n",
    "\n",
    "    return False\n",
    "\n",
    "def is_leap_year(year):\n",
    "    if (year > 999 and year < 10000) and ((year % 100 != 0 and year%4 == 0) or year % 400 == 0):\n",
    "        return True\n",
    "\n",
    "    return False\n",
    "\n",
    "def is_leap_year(year):\n",
    "    return (year > 999 and year < 10000) and ((year % 100 != 0 and year%4 == 0) or year % 400 == 0):\n"
   ]
  },
  {
   "cell_type": "code",
   "execution_count": 25,
   "metadata": {},
   "outputs": [
    {
     "name": "stdout",
     "output_type": "stream",
     "text": [
      "[('hello', 100), ('world', 100), ('test', 100), ('this', 100), ('here', 100), ('now', 100)]\n"
     ]
    },
    {
     "data": {
      "text/plain": [
       "{'hello': 100, 'world': 100, 'test': 100, 'this': 100, 'here': 100, 'now': 100}"
      ]
     },
     "execution_count": 25,
     "metadata": {},
     "output_type": "execute_result"
    }
   ],
   "source": [
    "a = [\"hello\", \"world\" , \"test\" , \"this\" , \"here\" , \"now\" ]\n",
    "value = 100\n",
    "\n",
    "r = [(data, value) for data in a]\n",
    "print(r)\n",
    "\n",
    "dict(r)\n"
   ]
  },
  {
   "cell_type": "code",
   "execution_count": 35,
   "metadata": {},
   "outputs": [
    {
     "name": "stdout",
     "output_type": "stream",
     "text": [
      "[1.1 2.2 3.3 4.4 5.5 6.6 7.7 8.8 9.9]\n",
      "[ 1. 2. 3. 4. 5. 6. 7. 8. 9.]\n",
      "[ 2.  3.  4.  5.  6.  7.  8.  9. 10.]\n",
      "[ 1.  2.  3.  4.  6.  7.  8.  9. 10.]"
     ]
    }
   ],
   "source": [
    "import numpy as np\n",
    "a =  np.array([1.1, 2.2, 3.3, 4.4, 5.5, 6.6, 7.7, 8.8, 9.9])\n",
    "print(a)\n",
    "\n",
    "import numpy as np\n",
    "print(str(np.floor(a)).replace('[', '[ '))\n",
    "print(np.ceil(a))\n",
    "print(np.rint(a),end='')"
   ]
  }
 ],
 "metadata": {
  "kernelspec": {
   "display_name": "Python 3",
   "language": "python",
   "name": "python3"
  },
  "language_info": {
   "codemirror_mode": {
    "name": "ipython",
    "version": 3
   },
   "file_extension": ".py",
   "mimetype": "text/x-python",
   "name": "python",
   "nbconvert_exporter": "python",
   "pygments_lexer": "ipython3",
   "version": "3.7.3"
  }
 },
 "nbformat": 4,
 "nbformat_minor": 2
}
