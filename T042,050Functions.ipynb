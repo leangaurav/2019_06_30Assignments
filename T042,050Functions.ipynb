{
 "cells": [
  {
   "cell_type": "code",
   "execution_count": 12,
   "metadata": {},
   "outputs": [
    {
     "name": "stdout",
     "output_type": "stream",
     "text": [
      "['In', 'Out', '_', '_10', '_11', '__', '___', '__builtin__', '__builtins__', '__doc__', '__loader__', '__name__', '__package__', '__spec__', '_dh', '_i', '_i1', '_i10', '_i11', '_i12', '_i2', '_i3', '_i4', '_i5', '_i6', '_i7', '_i8', '_i9', '_ih', '_ii', '_iii', '_oh', 'exit', 'gaurav', 'get_ipython', 'quit']\n",
      "ABC\n",
      "PYthon\n",
      "Gaurav 100\n",
      "PYthon\n",
      "Gaurav 100\n",
      "PYthon\n",
      "Gaurav 100\n"
     ]
    }
   ],
   "source": [
    "def gaurav():\n",
    "    print(\"PYthon\")\n",
    "    x = 10**2\n",
    "    print(\"Gaurav\", x)\n",
    "\n",
    "print(dir())\n",
    "print(\"ABC\")\n",
    "gaurav()\n",
    "gaurav()\n",
    "gaurav()"
   ]
  },
  {
   "cell_type": "code",
   "execution_count": 21,
   "metadata": {},
   "outputs": [
    {
     "name": "stdout",
     "output_type": "stream",
     "text": [
      "Enter a number - 10\n",
      "Enter a number - 20\n",
      "30\n"
     ]
    }
   ],
   "source": [
    "def add():\n",
    "    x = int(input(\"Enter a number - \"))\n",
    "    y = int(input(\"Enter a number - \"))\n",
    "    s = x + y\n",
    "    print(s)\n",
    "    \n",
    "add()"
   ]
  },
  {
   "cell_type": "code",
   "execution_count": null,
   "metadata": {},
   "outputs": [],
   "source": [
    "x = 10\n",
    "y = 20\n",
    "z = pow(x,y) + pow(y,x)\n",
    "print(z)\n"
   ]
  },
  {
   "cell_type": "code",
   "execution_count": 22,
   "metadata": {},
   "outputs": [
    {
     "name": "stdout",
     "output_type": "stream",
     "text": [
      "Enter a number - 10\n",
      "Enter a number - 20\n",
      "30\n"
     ]
    }
   ],
   "source": [
    "def add(n1,n2):\n",
    "    s = n1 + n2\n",
    "    print(s)\n",
    "\n",
    "x = int(input(\"Enter a number - \"))\n",
    "y = int(input(\"Enter a number - \"))\n",
    "add(x,y)"
   ]
  },
  {
   "cell_type": "code",
   "execution_count": 24,
   "metadata": {},
   "outputs": [
    {
     "name": "stdout",
     "output_type": "stream",
     "text": [
      "30\n",
      "None\n"
     ]
    }
   ],
   "source": [
    "def add(n1,n2):\n",
    "    s = n1 + n2\n",
    "    print(s)\n",
    "\n",
    "r = add(10,20)\n",
    "print(r)"
   ]
  },
  {
   "cell_type": "code",
   "execution_count": 29,
   "metadata": {},
   "outputs": [
    {
     "name": "stdout",
     "output_type": "stream",
     "text": [
      "None\n"
     ]
    }
   ],
   "source": [
    "def funct():\n",
    "    pass\n",
    "\n",
    "r = funct()\n",
    "pass\n",
    "print(r)"
   ]
  },
  {
   "cell_type": "code",
   "execution_count": 31,
   "metadata": {},
   "outputs": [
    {
     "name": "stdout",
     "output_type": "stream",
     "text": [
      "Funct\n",
      "None\n"
     ]
    }
   ],
   "source": [
    "def funct(x):\n",
    "    pass\n",
    "    print(\"Funct\")\n",
    "\n",
    "r = funct(10)\n",
    "pass\n",
    "print(r)"
   ]
  },
  {
   "cell_type": "code",
   "execution_count": 34,
   "metadata": {},
   "outputs": [
    {
     "name": "stdout",
     "output_type": "stream",
     "text": [
      "<function funct at 0x00000201F542C730>\n",
      "None\n",
      "<function funct at 0x00000201F542C730>\n",
      "None\n"
     ]
    }
   ],
   "source": [
    "def funct():\n",
    "    pass\n",
    "\n",
    "print(funct)\n",
    "print(funct())\n",
    "r = funct\n",
    "print(r)\n",
    "r = funct()\n",
    "print(r)"
   ]
  },
  {
   "cell_type": "code",
   "execution_count": 37,
   "metadata": {},
   "outputs": [
    {
     "name": "stdout",
     "output_type": "stream",
     "text": [
      "abcd\n"
     ]
    }
   ],
   "source": [
    "def funct():\n",
    "    return 'abcd'\n",
    "\n",
    "r = funct()\n",
    "print(r)"
   ]
  },
  {
   "cell_type": "code",
   "execution_count": 40,
   "metadata": {},
   "outputs": [
    {
     "name": "stdout",
     "output_type": "stream",
     "text": [
      "30\n",
      "1040430\n"
     ]
    }
   ],
   "source": [
    "def add(n1,n2):\n",
    "    s = n1 + n2\n",
    "    return s\n",
    "\n",
    "r = add(10,20)\n",
    "print(r)\n",
    "\n",
    "r = add(10,20) + add(1000,20)**2\n",
    "print(r)"
   ]
  },
  {
   "cell_type": "code",
   "execution_count": 42,
   "metadata": {},
   "outputs": [
    {
     "name": "stdout",
     "output_type": "stream",
     "text": [
      "None\n"
     ]
    }
   ],
   "source": [
    "def add(n1,n2):\n",
    "    return\n",
    "    return 10\n",
    "\n",
    "r = add(10,20)\n",
    "print(r)\n"
   ]
  },
  {
   "cell_type": "code",
   "execution_count": 44,
   "metadata": {},
   "outputs": [
    {
     "name": "stdout",
     "output_type": "stream",
     "text": [
      "1000\n"
     ]
    }
   ],
   "source": [
    "def add(n1,n2):\n",
    "    return 1000\n",
    "    print(\"After first return\")\n",
    "    return 10\n",
    "    return 'abcd'\n",
    "    return None\n",
    "\n",
    "r = add(10,20)\n",
    "print(r)\n"
   ]
  },
  {
   "cell_type": "code",
   "execution_count": 2,
   "metadata": {},
   "outputs": [
    {
     "name": "stdout",
     "output_type": "stream",
     "text": [
      "50.0\n",
      "68.0\n"
     ]
    }
   ],
   "source": [
    "# WAF that takes temp in C and returns back in F.\n",
    "#F= (9/5)C + 32\n",
    "\n",
    "def c_to_f(c):\n",
    "    r = (9/5) * c + 32\n",
    "    return r\n",
    "\n",
    "print(c_to_f(10))\n",
    "f = c_to_f(20)\n",
    "print(f)"
   ]
  },
  {
   "cell_type": "code",
   "execution_count": 4,
   "metadata": {},
   "outputs": [
    {
     "ename": "NameError",
     "evalue": "name 'arg' is not defined",
     "output_type": "error",
     "traceback": [
      "\u001b[1;31m---------------------------------------------------------------------------\u001b[0m",
      "\u001b[1;31mNameError\u001b[0m                                 Traceback (most recent call last)",
      "\u001b[1;32m<ipython-input-4-7a39cd11cd13>\u001b[0m in \u001b[0;36m<module>\u001b[1;34m\u001b[0m\n\u001b[0;32m      3\u001b[0m \u001b[1;33m\u001b[0m\u001b[0m\n\u001b[0;32m      4\u001b[0m \u001b[0mfunct\u001b[0m\u001b[1;33m(\u001b[0m\u001b[1;36m100\u001b[0m\u001b[1;33m)\u001b[0m\u001b[1;33m\u001b[0m\u001b[1;33m\u001b[0m\u001b[0m\n\u001b[1;32m----> 5\u001b[1;33m \u001b[0mprint\u001b[0m\u001b[1;33m(\u001b[0m\u001b[0marg\u001b[0m\u001b[1;33m)\u001b[0m\u001b[1;33m\u001b[0m\u001b[1;33m\u001b[0m\u001b[0m\n\u001b[0m\u001b[0;32m      6\u001b[0m \u001b[0mprint\u001b[0m\u001b[1;33m(\u001b[0m\u001b[0mx\u001b[0m\u001b[1;33m)\u001b[0m\u001b[1;33m\u001b[0m\u001b[1;33m\u001b[0m\u001b[0m\n",
      "\u001b[1;31mNameError\u001b[0m: name 'arg' is not defined"
     ]
    }
   ],
   "source": [
    "def funct(arg):\n",
    "    x = 10\n",
    "    \n",
    "funct(100)\n",
    "print(arg) # local to the function\n",
    "print(x)   # local to the function"
   ]
  },
  {
   "cell_type": "code",
   "execution_count": 5,
   "metadata": {},
   "outputs": [
    {
     "name": "stdout",
     "output_type": "stream",
     "text": [
      "1000\n"
     ]
    }
   ],
   "source": [
    "x = 1000\n",
    "def funct():\n",
    "    print(x)\n",
    "    \n",
    "funct()"
   ]
  },
  {
   "cell_type": "code",
   "execution_count": 8,
   "metadata": {},
   "outputs": [
    {
     "name": "stdout",
     "output_type": "stream",
     "text": [
      "10\n"
     ]
    },
    {
     "ename": "TypeError",
     "evalue": "funct() takes 1 positional argument but 2 were given",
     "output_type": "error",
     "traceback": [
      "\u001b[1;31m---------------------------------------------------------------------------\u001b[0m",
      "\u001b[1;31mTypeError\u001b[0m                                 Traceback (most recent call last)",
      "\u001b[1;32m<ipython-input-8-b1116a85c1ac>\u001b[0m in \u001b[0;36m<module>\u001b[1;34m\u001b[0m\n\u001b[0;32m      3\u001b[0m \u001b[1;33m\u001b[0m\u001b[0m\n\u001b[0;32m      4\u001b[0m \u001b[0mfunct\u001b[0m\u001b[1;33m(\u001b[0m\u001b[1;36m10\u001b[0m\u001b[1;33m)\u001b[0m\u001b[1;33m\u001b[0m\u001b[1;33m\u001b[0m\u001b[0m\n\u001b[1;32m----> 5\u001b[1;33m \u001b[0mfunct\u001b[0m\u001b[1;33m(\u001b[0m\u001b[1;36m1\u001b[0m\u001b[1;33m,\u001b[0m\u001b[1;36m2\u001b[0m\u001b[1;33m)\u001b[0m\u001b[1;33m\u001b[0m\u001b[1;33m\u001b[0m\u001b[0m\n\u001b[0m",
      "\u001b[1;31mTypeError\u001b[0m: funct() takes 1 positional argument but 2 were given"
     ]
    }
   ],
   "source": [
    "def funct(x):\n",
    "    print(x)\n",
    "    \n",
    "funct(10)\n",
    "funct(1,2)"
   ]
  },
  {
   "cell_type": "code",
   "execution_count": 10,
   "metadata": {},
   "outputs": [
    {
     "name": "stdout",
     "output_type": "stream",
     "text": [
      "abcd\n",
      "100\n"
     ]
    }
   ],
   "source": [
    "def funct(x = 'abcd'):\n",
    "    print(x)\n",
    "    \n",
    "funct()\n",
    "funct(100)"
   ]
  },
  {
   "cell_type": "code",
   "execution_count": 12,
   "metadata": {},
   "outputs": [
    {
     "name": "stdout",
     "output_type": "stream",
     "text": [
      "abcd 100\n",
      "10000 100\n",
      "10000 -1111\n"
     ]
    }
   ],
   "source": [
    "def funct(x = 'abcd',y = 100):\n",
    "    print(x, y)\n",
    "    \n",
    "funct()\n",
    "funct(10000)\n",
    "funct(10000, -1111)"
   ]
  },
  {
   "cell_type": "code",
   "execution_count": 14,
   "metadata": {},
   "outputs": [
    {
     "name": "stdout",
     "output_type": "stream",
     "text": [
      "1 abcd 100\n",
      "10000 111111 111111111\n",
      "10000 -1111 100\n"
     ]
    }
   ],
   "source": [
    "def funct(a, x = 'abcd',y = 100):\n",
    "    print(a, x, y)\n",
    "    \n",
    "funct(1)\n",
    "funct(10000, 111111, 111111111)\n",
    "funct(10000, -1111)"
   ]
  },
  {
   "cell_type": "code",
   "execution_count": 15,
   "metadata": {},
   "outputs": [
    {
     "ename": "SyntaxError",
     "evalue": "non-default argument follows default argument (<ipython-input-15-85e671416c2a>, line 2)",
     "output_type": "error",
     "traceback": [
      "\u001b[1;36m  File \u001b[1;32m\"<ipython-input-15-85e671416c2a>\"\u001b[1;36m, line \u001b[1;32m2\u001b[0m\n\u001b[1;33m    def funct(a, x = 'abcd',y = 100, z):\u001b[0m\n\u001b[1;37m             ^\u001b[0m\n\u001b[1;31mSyntaxError\u001b[0m\u001b[1;31m:\u001b[0m non-default argument follows default argument\n"
     ]
    }
   ],
   "source": [
    "# for a default arg..all args on its right should also have a default value\n",
    "def funct(x = 'abcd',y = 100, a):\n",
    "    print(a, x, y)\n",
    "    \n",
    "funct(10,20)"
   ]
  },
  {
   "cell_type": "code",
   "execution_count": 36,
   "metadata": {},
   "outputs": [
    {
     "name": "stdout",
     "output_type": "stream",
     "text": [
      "1 abcd 100\n",
      "1 2 100\n",
      "1 2 3\n",
      "1 3 2\n"
     ]
    },
    {
     "ename": "TypeError",
     "evalue": "funct() missing 1 required positional argument: 'a'",
     "output_type": "error",
     "traceback": [
      "\u001b[1;31m---------------------------------------------------------------------------\u001b[0m",
      "\u001b[1;31mTypeError\u001b[0m                                 Traceback (most recent call last)",
      "\u001b[1;32m<ipython-input-36-eee27a1eac0f>\u001b[0m in \u001b[0;36m<module>\u001b[1;34m\u001b[0m\n\u001b[0;32m      7\u001b[0m \u001b[0mfunct\u001b[0m\u001b[1;33m(\u001b[0m\u001b[1;36m1\u001b[0m\u001b[1;33m,\u001b[0m\u001b[1;36m2\u001b[0m\u001b[1;33m,\u001b[0m\u001b[1;36m3\u001b[0m\u001b[1;33m)\u001b[0m\u001b[1;33m\u001b[0m\u001b[1;33m\u001b[0m\u001b[0m\n\u001b[0;32m      8\u001b[0m \u001b[0mfunct\u001b[0m\u001b[1;33m(\u001b[0m\u001b[0ma\u001b[0m \u001b[1;33m=\u001b[0m \u001b[1;36m1\u001b[0m\u001b[1;33m,\u001b[0m\u001b[0msep\u001b[0m \u001b[1;33m=\u001b[0m \u001b[1;36m2\u001b[0m\u001b[1;33m,\u001b[0m\u001b[0mx\u001b[0m \u001b[1;33m=\u001b[0m \u001b[1;36m3\u001b[0m\u001b[1;33m)\u001b[0m\u001b[1;33m\u001b[0m\u001b[1;33m\u001b[0m\u001b[0m\n\u001b[1;32m----> 9\u001b[1;33m \u001b[0mfunct\u001b[0m\u001b[1;33m(\u001b[0m\u001b[1;33m)\u001b[0m\u001b[1;33m\u001b[0m\u001b[1;33m\u001b[0m\u001b[0m\n\u001b[0m",
      "\u001b[1;31mTypeError\u001b[0m: funct() missing 1 required positional argument: 'a'"
     ]
    }
   ],
   "source": [
    "# for a default arg..all args on its right should also have a default value\n",
    "def funct(a, x = 'abcd',sep = 100):\n",
    "    print(a, x, sep)\n",
    "    \n",
    "funct(1)\n",
    "funct(1,2)\n",
    "funct(1,2,3)\n",
    "funct(a = 1,sep = 2,x = 3)\n",
    "funct()"
   ]
  },
  {
   "cell_type": "code",
   "execution_count": 24,
   "metadata": {},
   "outputs": [
    {
     "name": "stdout",
     "output_type": "stream",
     "text": [
      "1\n",
      "11#111\n",
      "1111\n"
     ]
    }
   ],
   "source": [
    "print(1, end = '\\n')\n",
    "print(11, end = '#')\n",
    "print(111)\n",
    "print(1111)"
   ]
  },
  {
   "cell_type": "code",
   "execution_count": 35,
   "metadata": {},
   "outputs": [
    {
     "name": "stdout",
     "output_type": "stream",
     "text": [
      "1 10 20 30 40,1_10_20_30_40\n",
      "1...10...20...30...40abcd\n",
      "1 10 20 30 40\n",
      "abc - # - True - 10.5\n"
     ]
    }
   ],
   "source": [
    "print(1,10,20,30,40, end = ',')\n",
    "print(1,10,20,30,40, sep = '_')\n",
    "print(1,10,20,30,40, sep = '...', end = 'abcd\\n')\n",
    "print(1,10,20,30,40, sep = ' ')\n",
    "print('abc', '#', True, 10.5, sep = ' - ')"
   ]
  },
  {
   "cell_type": "code",
   "execution_count": 39,
   "metadata": {},
   "outputs": [
    {
     "name": "stdout",
     "output_type": "stream",
     "text": [
      "x + y = 30\n",
      "\n",
      "10 + 20 = 30\n",
      "10+20=30\n"
     ]
    }
   ],
   "source": [
    "x = 10\n",
    "y = 20\n",
    "z = x+y\n",
    "print(\"x + y =\", z)\n",
    "\n",
    "print()\n",
    "print(x,'+',y,'=',z)# 1\n",
    "\n",
    "s = str(x) + '+' + str(y) + '=' + str(z) # 2\n",
    "print(s)"
   ]
  },
  {
   "cell_type": "code",
   "execution_count": 41,
   "metadata": {},
   "outputs": [
    {
     "name": "stdout",
     "output_type": "stream",
     "text": [
      " x = %i y = %s z = %f \n",
      " x = 10 y = AB z = 10.660000 \n"
     ]
    }
   ],
   "source": [
    "x = 10;y = 'AB';z=10.66\n",
    "# \"x = 10 y = AB z = 10.66\" this should be the result.\n",
    "#\"x = \" + str(x) + \" y = \" + str(y)...\n",
    "\n",
    "print( \" x = %i y = %s z = %f \")\n",
    "s = \" x = %i y = %s z = %f \" % (x,y,z)\n",
    "print(s)"
   ]
  },
  {
   "cell_type": "code",
   "execution_count": 45,
   "metadata": {},
   "outputs": [
    {
     "ename": "IndexError",
     "evalue": "tuple index out of range",
     "output_type": "error",
     "traceback": [
      "\u001b[1;31m---------------------------------------------------------------------------\u001b[0m",
      "\u001b[1;31mIndexError\u001b[0m                                Traceback (most recent call last)",
      "\u001b[1;32m<ipython-input-45-b439b7834ed0>\u001b[0m in \u001b[0;36m<module>\u001b[1;34m\u001b[0m\n\u001b[0;32m      3\u001b[0m \u001b[1;31m#\"x = \" + str(x) + \" y = \" + str(y)...\u001b[0m\u001b[1;33m\u001b[0m\u001b[1;33m\u001b[0m\u001b[1;33m\u001b[0m\u001b[0m\n\u001b[0;32m      4\u001b[0m \u001b[1;31m#   |--- format string----|        |-values-|\u001b[0m\u001b[1;33m\u001b[0m\u001b[1;33m\u001b[0m\u001b[1;33m\u001b[0m\u001b[0m\n\u001b[1;32m----> 5\u001b[1;33m \u001b[0ms\u001b[0m \u001b[1;33m=\u001b[0m \u001b[1;34m\" x = {} y = {} z = {}\"\u001b[0m\u001b[1;33m.\u001b[0m\u001b[0mformat\u001b[0m\u001b[1;33m(\u001b[0m\u001b[0mx\u001b[0m\u001b[1;33m,\u001b[0m\u001b[0my\u001b[0m\u001b[1;33m)\u001b[0m\u001b[1;33m\u001b[0m\u001b[1;33m\u001b[0m\u001b[0m\n\u001b[0m\u001b[0;32m      6\u001b[0m \u001b[0mprint\u001b[0m\u001b[1;33m(\u001b[0m\u001b[0ms\u001b[0m\u001b[1;33m)\u001b[0m\u001b[1;33m\u001b[0m\u001b[1;33m\u001b[0m\u001b[0m\n",
      "\u001b[1;31mIndexError\u001b[0m: tuple index out of range"
     ]
    }
   ],
   "source": [
    "x = 10;y = 'AB';z=10.66\n",
    "# \"x = 10 y = AB z = 10.66\" this should be the result.\n",
    "#\"x = \" + str(x) + \" y = \" + str(y)...\n",
    "#   |--- format string----|        |-values-|\n",
    "s = \" x = {} y = {} z = {}\".format(x,y,100000)\n",
    "print(s)"
   ]
  },
  {
   "cell_type": "code",
   "execution_count": null,
   "metadata": {},
   "outputs": [],
   "source": [
    "a = int(input(\"Enter age : \"))\n",
    "sal = 1000000\n",
    "\"SELECT * from emp where age > {} and salary < {} ; \".format(a,sal)\n",
    "\"SELECT * from emp where age > \" + str(a) + \" and salary < \" + str(sal) + \";\""
   ]
  },
  {
   "cell_type": "code",
   "execution_count": null,
   "metadata": {},
   "outputs": [],
   "source": [
    "int x;\n",
    "x = ['abcd']"
   ]
  },
  {
   "cell_type": "code",
   "execution_count": null,
   "metadata": {},
   "outputs": [],
   "source": []
  },
  {
   "cell_type": "code",
   "execution_count": null,
   "metadata": {},
   "outputs": [],
   "source": []
  }
 ],
 "metadata": {
  "kernelspec": {
   "display_name": "Python 3",
   "language": "python",
   "name": "python3"
  },
  "language_info": {
   "codemirror_mode": {
    "name": "ipython",
    "version": 3
   },
   "file_extension": ".py",
   "mimetype": "text/x-python",
   "name": "python",
   "nbconvert_exporter": "python",
   "pygments_lexer": "ipython3",
   "version": "3.7.3"
  }
 },
 "nbformat": 4,
 "nbformat_minor": 2
}
