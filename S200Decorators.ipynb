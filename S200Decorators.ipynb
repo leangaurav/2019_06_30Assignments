{
 "cells": [
  {
   "cell_type": "code",
   "execution_count": 1,
   "metadata": {},
   "outputs": [
    {
     "name": "stdout",
     "output_type": "stream",
     "text": [
      "10\n",
      "10\n",
      "20\n"
     ]
    }
   ],
   "source": [
    "def funct(x):\n",
    "    def inner():\n",
    "        print(x)\n",
    "        \n",
    "    return inner\n",
    "\n",
    "f1 = funct(10)\n",
    "f2 = funct(20)\n",
    "\n",
    "f1()\n",
    "f1()\n",
    "f2()\n",
    "    "
   ]
  },
  {
   "cell_type": "code",
   "execution_count": 6,
   "metadata": {},
   "outputs": [
    {
     "name": "stdout",
     "output_type": "stream",
     "text": [
      "Calling  add\n",
      "30\n",
      "-10\n",
      "Calling  mul\n",
      "200\n",
      "<function sub at 0x000002121F53A598> <function funct.<locals>.inner at 0x000002121F53AB70>\n"
     ]
    }
   ],
   "source": [
    "def funct(f):\n",
    "    def inner(x,y):\n",
    "        print(\"Calling \", f.__name__)\n",
    "        return f(x,y)\n",
    "    \n",
    "    return inner\n",
    "\n",
    "\n",
    "def add(x,y):\n",
    "    return x + y\n",
    "\n",
    "def sub(x,y):\n",
    "    return x - y\n",
    "\n",
    "@funct\n",
    "def mul(x,y):\n",
    "    return x * y\n",
    "\n",
    "\n",
    "add = funct(add)\n",
    "print( add(10,20) ) # decorated explicitly\n",
    "\n",
    "print(sub(10,20)) # normal\n",
    "print(mul(10,20)) # decorated : using decorator syntax\n",
    "\n",
    "print(sub, mul)"
   ]
  },
  {
   "cell_type": "code",
   "execution_count": 11,
   "metadata": {},
   "outputs": [
    {
     "name": "stdout",
     "output_type": "stream",
     "text": [
      "Applying Decorator to  add\n",
      "Applying Decorator to  sub\n",
      "30\n",
      "-10\n",
      "10\n"
     ]
    }
   ],
   "source": [
    "def loggingDecorator(funct):\n",
    "    print('Applying Decorator to ', funct.__name__)\n",
    "    def inner(x,y):\n",
    "        with open('log.txt', 'a') as f:\n",
    "            print(\"Calling\" , funct.__name__, x, y, file = f)\n",
    "        return funct(x,y)\n",
    "    \n",
    "    return inner\n",
    "        \n",
    "@loggingDecorator\n",
    "@loggingDecorator\n",
    "def add(x,y): # add = loggingDecorator(add)\n",
    "    return x + y\n",
    "\n",
    "@loggingDecorator\n",
    "def sub(x,y):\n",
    "    return x - y\n",
    "\n",
    "print(add(10,20))\n",
    "print(sub(10,20))\n",
    "print(sub(30,20))"
   ]
  },
  {
   "cell_type": "code",
   "execution_count": 17,
   "metadata": {},
   "outputs": [
    {
     "name": "stdout",
     "output_type": "stream",
     "text": [
      "Applying Decorator to  add\n",
      "Applying Decorator to  sub\n",
      "Applying Decorator to  square\n",
      "Applying Decorator to  my_pow\n",
      "30\n",
      "-10\n",
      "10\n",
      "100\n",
      "100\n",
      "1000\n"
     ]
    }
   ],
   "source": [
    "def loggingDecorator(funct):\n",
    "    print('Applying Decorator to ', funct.__name__)\n",
    "    def inner(*args, **kwargs):\n",
    "        with open('log.txt', 'a') as f:\n",
    "            print(\"Calling\" , funct.__name__, args , kwargs , file = f)\n",
    "        return funct(*args, **kwargs)\n",
    "    \n",
    "    return inner\n",
    "        \n",
    "        \n",
    "@loggingDecorator\n",
    "def add(x,y): # add = loggingDecorator(add)\n",
    "    return x + y\n",
    "\n",
    "@loggingDecorator\n",
    "def sub(x,y):\n",
    "    return x - y\n",
    "\n",
    "@loggingDecorator\n",
    "def square(x):\n",
    "    return x * x\n",
    "\n",
    "\n",
    "@loggingDecorator\n",
    "def my_pow(x, exp = 2, **kwargs):\n",
    "    return x ** exp\n",
    "\n",
    "\n",
    "print(add(10,20))\n",
    "print(sub(10,20))\n",
    "print(sub(30,20))\n",
    "print(square(10))\n",
    "print(my_pow(10))\n",
    "print(my_pow(10,3, val = 100))"
   ]
  },
  {
   "cell_type": "code",
   "execution_count": 33,
   "metadata": {},
   "outputs": [
    {
     "name": "stdout",
     "output_type": "stream",
     "text": [
      "Applying Decorator to  add\n",
      "Applying Decorator to  sub\n",
      "Applying Decorator to  square\n",
      "Applying Decorator to  my_pow\n",
      "<function add at 0x000002121F5B3A60>\n",
      "add\n",
      "\n",
      "    add: takes 2 arguments and gives sum\n",
      "    \n",
      "30\n",
      "100\n"
     ]
    }
   ],
   "source": [
    "from functools import wraps\n",
    "\n",
    "def loggingDecorator(funct):\n",
    "    print('Applying Decorator to ', funct.__name__)\n",
    "    \n",
    "    @wraps(funct)\n",
    "    def inner(*args, **kwargs):\n",
    "        r = funct(*args, **kwargs)\n",
    "        \n",
    "        # custom logic\n",
    "        with open('log.txt', 'a') as f:\n",
    "            print(\"Calling\" , funct.__name__, args , kwargs , \"Result : \", r, file = f)\n",
    "\n",
    "        return r\n",
    "    \n",
    "    return inner\n",
    "        \n",
    "        \n",
    "@loggingDecorator\n",
    "def add(x,y): # add = loggingDecorator(add)\n",
    "    \"\"\"\n",
    "    add: takes 2 arguments and gives sum\n",
    "    \"\"\"\n",
    "    return x + y\n",
    "\n",
    "@loggingDecorator\n",
    "def sub(x,y):\n",
    "    return x - y\n",
    "\n",
    "@loggingDecorator\n",
    "def square(x):\n",
    "    return x * x\n",
    "\n",
    "\n",
    "@loggingDecorator\n",
    "def my_pow(x, exp = 2, **kwargs):\n",
    "    return x ** exp\n",
    "\n",
    "print(add)\n",
    "print(add.__name__)\n",
    "print(add.__doc__)\n",
    "print(add(10,20))\n",
    "print(my_pow(10))"
   ]
  },
  {
   "cell_type": "code",
   "execution_count": 35,
   "metadata": {},
   "outputs": [
    {
     "name": "stdout",
     "output_type": "stream",
     "text": [
      "Applying Decorator to  add\n",
      "Applying Decorator to  my_pow\n",
      "30\n",
      "100\n",
      "100\n"
     ]
    }
   ],
   "source": [
    "from functools import wraps\n",
    "\n",
    "def loggingDecorator(file_name):\n",
    "    def loggingDecoratorInner(funct):\n",
    "        print('Applying Decorator to ', funct.__name__)\n",
    "\n",
    "        @wraps(funct)\n",
    "        def inner(*args, **kwargs):\n",
    "            r = funct(*args, **kwargs)\n",
    "\n",
    "            # custom logic\n",
    "            with open(file_name, 'a') as f:\n",
    "                print(\"Calling\" , funct.__name__, args , kwargs , \"Result : \", r, file = f)\n",
    "\n",
    "            return r\n",
    "\n",
    "        return inner\n",
    "    \n",
    "    return loggingDecoratorInner\n",
    "        \n",
    "        \n",
    "@loggingDecorator('add.txt')\n",
    "def add(x,y): # add = loggingDecorator(add)\n",
    "    \"\"\"\n",
    "    add: takes 2 arguments and gives sum\n",
    "    \"\"\"\n",
    "    return x + y\n",
    "\n",
    "@loggingDecorator('pow.txt')\n",
    "def my_pow(x, exp = 2, **kwargs):\n",
    "    return x ** exp\n",
    "\n",
    "def sub(x,y):\n",
    "    return x - y\n",
    "\n",
    "sub = loggingDecorator('log.txt')(sub)\n",
    "\n",
    "print(add(10,20))\n",
    "print(my_pow(10))\n",
    "print(my_pow(10))"
   ]
  },
  {
   "cell_type": "code",
   "execution_count": null,
   "metadata": {},
   "outputs": [],
   "source": []
  },
  {
   "cell_type": "code",
   "execution_count": 37,
   "metadata": {},
   "outputs": [
    {
     "name": "stdout",
     "output_type": "stream",
     "text": [
      "Square 10000\n",
      "Square 10000\n",
      "Square 10000\n",
      "Square 10000\n",
      "Square 10000\n",
      "[100000000, 100000000, 100000000, 100000000, 100000000]\n"
     ]
    }
   ],
   "source": [
    "from functools import wraps\n",
    "\n",
    "def call_5(funct):\n",
    "    \n",
    "    @wraps(funct)\n",
    "    def inner(*args, **kwargs):\n",
    "        \n",
    "        r = []\n",
    "        for i in range(5):\n",
    "            r.append(funct(*args, **kwargs))\n",
    "        \n",
    "        return r\n",
    "    \n",
    "    return inner\n",
    "        \n",
    "@call_5    \n",
    "def someFunct(x):\n",
    "    print('Square', x**2)\n",
    "    \n",
    "    return x **4\n",
    "\n",
    "print(someFunct(100))\n",
    "\n",
    "    \n"
   ]
  },
  {
   "cell_type": "code",
   "execution_count": null,
   "metadata": {},
   "outputs": [],
   "source": []
  },
  {
   "cell_type": "code",
   "execution_count": 38,
   "metadata": {},
   "outputs": [
    {
     "name": "stdout",
     "output_type": "stream",
     "text": [
      "Calling...... add\n",
      "Calling...... add\n",
      "Calling...... add\n",
      "Calling...... add\n",
      "Calling...... add\n",
      "[30, 30, 30, 30, 30]\n"
     ]
    }
   ],
   "source": [
    "\n",
    "\n",
    "def call_5(f):\n",
    "    def inner(x,y):\n",
    "        result =[]\n",
    "        for i in range(5):\n",
    "            print(\"Calling......\", f.__name__)\n",
    "            result.append(f(x,y))\n",
    "        return result\n",
    "        \n",
    "    return inner\n",
    "\n",
    "@call_5\n",
    "def add(x,y):\n",
    "    return x + y\n",
    "print(add(10,20))\n",
    "\n",
    "\n"
   ]
  }
 ],
 "metadata": {
  "kernelspec": {
   "display_name": "Python 3",
   "language": "python",
   "name": "python3"
  },
  "language_info": {
   "codemirror_mode": {
    "name": "ipython",
    "version": 3
   },
   "file_extension": ".py",
   "mimetype": "text/x-python",
   "name": "python",
   "nbconvert_exporter": "python",
   "pygments_lexer": "ipython3",
   "version": "3.7.3"
  }
 },
 "nbformat": 4,
 "nbformat_minor": 2
}
