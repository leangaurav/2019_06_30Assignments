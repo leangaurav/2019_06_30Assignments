{
 "cells": [
  {
   "cell_type": "markdown",
   "metadata": {},
   "source": [
    "### Overloading vs Overriding\n",
    "\n",
    "- overloading: means methond name with different signature(no. or type of args is different)\n",
    "\n",
    "- overriding: same name, same signature, but different behavior; used in class hierarchy"
   ]
  },
  {
   "cell_type": "code",
   "execution_count": 1,
   "metadata": {},
   "outputs": [
    {
     "name": "stdout",
     "output_type": "stream",
     "text": [
      "abcd\n"
     ]
    }
   ],
   "source": [
    "x = 10\n",
    "x = 'abcd'\n",
    "\n",
    "print(x)"
   ]
  },
  {
   "cell_type": "code",
   "execution_count": 4,
   "metadata": {},
   "outputs": [
    {
     "name": "stdout",
     "output_type": "stream",
     "text": [
      "<function funct at 0x000001C6B239C1E0>\n",
      "100\n",
      "<function funct at 0x000001C6B239C400>\n"
     ]
    }
   ],
   "source": [
    "def funct():\n",
    "    print('FUnct zero arg')\n",
    "    \n",
    "print(funct)\n",
    "\n",
    "funct = 100\n",
    "\n",
    "print(funct)\n",
    "\n",
    "def funct(x,y):\n",
    "    print('Funct with 2 args')\n",
    "    \n",
    "print(funct)"
   ]
  },
  {
   "cell_type": "code",
   "execution_count": 6,
   "metadata": {},
   "outputs": [
    {
     "name": "stdout",
     "output_type": "stream",
     "text": [
      "<function funct at 0x000001C6B239C510>\n",
      "<function funct at 0x000001C6B239C730>\n"
     ]
    },
    {
     "ename": "TypeError",
     "evalue": "funct() missing 2 required positional arguments: 'x' and 'y'",
     "output_type": "error",
     "traceback": [
      "\u001b[1;31m---------------------------------------------------------------------------\u001b[0m",
      "\u001b[1;31mTypeError\u001b[0m                                 Traceback (most recent call last)",
      "\u001b[1;32m<ipython-input-6-f52f12caa995>\u001b[0m in \u001b[0;36m<module>\u001b[1;34m\u001b[0m\n\u001b[0;32m      8\u001b[0m \u001b[1;33m\u001b[0m\u001b[0m\n\u001b[0;32m      9\u001b[0m \u001b[0mprint\u001b[0m\u001b[1;33m(\u001b[0m\u001b[0mfunct\u001b[0m\u001b[1;33m)\u001b[0m\u001b[1;33m\u001b[0m\u001b[1;33m\u001b[0m\u001b[0m\n\u001b[1;32m---> 10\u001b[1;33m \u001b[0mfunct\u001b[0m\u001b[1;33m(\u001b[0m\u001b[1;33m)\u001b[0m\u001b[1;33m\u001b[0m\u001b[1;33m\u001b[0m\u001b[0m\n\u001b[0m",
      "\u001b[1;31mTypeError\u001b[0m: funct() missing 2 required positional arguments: 'x' and 'y'"
     ]
    }
   ],
   "source": [
    "def funct():\n",
    "    print('FUnct zero arg')\n",
    "    \n",
    "print(funct)\n",
    "\n",
    "def funct(x,y):\n",
    "    print('Funct with 2 args')\n",
    "    \n",
    "print(funct)\n",
    "funct()"
   ]
  },
  {
   "cell_type": "code",
   "execution_count": null,
   "metadata": {},
   "outputs": [],
   "source": []
  }
 ],
 "metadata": {
  "kernelspec": {
   "display_name": "Python 3",
   "language": "python",
   "name": "python3"
  },
  "language_info": {
   "codemirror_mode": {
    "name": "ipython",
    "version": 3
   },
   "file_extension": ".py",
   "mimetype": "text/x-python",
   "name": "python",
   "nbconvert_exporter": "python",
   "pygments_lexer": "ipython3",
   "version": "3.7.3"
  }
 },
 "nbformat": 4,
 "nbformat_minor": 2
}
