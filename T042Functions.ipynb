{
 "cells": [
  {
   "cell_type": "code",
   "execution_count": 12,
   "metadata": {},
   "outputs": [
    {
     "name": "stdout",
     "output_type": "stream",
     "text": [
      "['In', 'Out', '_', '_10', '_11', '__', '___', '__builtin__', '__builtins__', '__doc__', '__loader__', '__name__', '__package__', '__spec__', '_dh', '_i', '_i1', '_i10', '_i11', '_i12', '_i2', '_i3', '_i4', '_i5', '_i6', '_i7', '_i8', '_i9', '_ih', '_ii', '_iii', '_oh', 'exit', 'gaurav', 'get_ipython', 'quit']\n",
      "ABC\n",
      "PYthon\n",
      "Gaurav 100\n",
      "PYthon\n",
      "Gaurav 100\n",
      "PYthon\n",
      "Gaurav 100\n"
     ]
    }
   ],
   "source": [
    "def gaurav():\n",
    "    print(\"PYthon\")\n",
    "    x = 10**2\n",
    "    print(\"Gaurav\", x)\n",
    "    \n",
    "print(dir())\n",
    "print(\"ABC\")\n",
    "gaurav()\n",
    "gaurav()\n",
    "gaurav()"
   ]
  },
  {
   "cell_type": "code",
   "execution_count": 21,
   "metadata": {},
   "outputs": [
    {
     "name": "stdout",
     "output_type": "stream",
     "text": [
      "Enter a number - 10\n",
      "Enter a number - 20\n",
      "30\n"
     ]
    }
   ],
   "source": [
    "def add():\n",
    "    x = int(input(\"Enter a number - \"))\n",
    "    y = int(input(\"Enter a number - \"))\n",
    "    s = x + y\n",
    "    print(s)\n",
    "    \n",
    "add()"
   ]
  },
  {
   "cell_type": "code",
   "execution_count": null,
   "metadata": {},
   "outputs": [],
   "source": [
    "x = 10\n",
    "y = 20\n",
    "z = pow(x,y) + pow(y,x)\n",
    "print(z)\n"
   ]
  },
  {
   "cell_type": "code",
   "execution_count": 22,
   "metadata": {},
   "outputs": [
    {
     "name": "stdout",
     "output_type": "stream",
     "text": [
      "Enter a number - 10\n",
      "Enter a number - 20\n",
      "30\n"
     ]
    }
   ],
   "source": [
    "def add(n1,n2):\n",
    "    s = n1 + n2\n",
    "    print(s)\n",
    "\n",
    "x = int(input(\"Enter a number - \"))\n",
    "y = int(input(\"Enter a number - \"))\n",
    "add(x,y)"
   ]
  },
  {
   "cell_type": "code",
   "execution_count": 24,
   "metadata": {},
   "outputs": [
    {
     "name": "stdout",
     "output_type": "stream",
     "text": [
      "30\n",
      "None\n"
     ]
    }
   ],
   "source": [
    "def add(n1,n2):\n",
    "    s = n1 + n2\n",
    "    print(s)\n",
    "\n",
    "r = add(10,20)\n",
    "print(r)"
   ]
  },
  {
   "cell_type": "code",
   "execution_count": 29,
   "metadata": {},
   "outputs": [
    {
     "name": "stdout",
     "output_type": "stream",
     "text": [
      "None\n"
     ]
    }
   ],
   "source": [
    "def funct():\n",
    "    pass\n",
    "\n",
    "r = funct()\n",
    "pass\n",
    "print(r)"
   ]
  },
  {
   "cell_type": "code",
   "execution_count": 31,
   "metadata": {},
   "outputs": [
    {
     "name": "stdout",
     "output_type": "stream",
     "text": [
      "Funct\n",
      "None\n"
     ]
    }
   ],
   "source": [
    "def funct(x):\n",
    "    pass\n",
    "    print(\"Funct\")\n",
    "\n",
    "r = funct(10)\n",
    "pass\n",
    "print(r)"
   ]
  },
  {
   "cell_type": "code",
   "execution_count": 34,
   "metadata": {},
   "outputs": [
    {
     "name": "stdout",
     "output_type": "stream",
     "text": [
      "<function funct at 0x00000201F542C730>\n",
      "None\n",
      "<function funct at 0x00000201F542C730>\n",
      "None\n"
     ]
    }
   ],
   "source": [
    "def funct():\n",
    "    pass\n",
    "\n",
    "print(funct)\n",
    "print(funct())\n",
    "r = funct\n",
    "print(r)\n",
    "r = funct()\n",
    "print(r)"
   ]
  },
  {
   "cell_type": "code",
   "execution_count": 37,
   "metadata": {},
   "outputs": [
    {
     "name": "stdout",
     "output_type": "stream",
     "text": [
      "abcd\n"
     ]
    }
   ],
   "source": [
    "def funct():\n",
    "    return 'abcd'\n",
    "\n",
    "r = funct()\n",
    "print(r)"
   ]
  },
  {
   "cell_type": "code",
   "execution_count": 40,
   "metadata": {},
   "outputs": [
    {
     "name": "stdout",
     "output_type": "stream",
     "text": [
      "30\n",
      "1040430\n"
     ]
    }
   ],
   "source": [
    "def add(n1,n2):\n",
    "    s = n1 + n2\n",
    "    return s\n",
    "\n",
    "r = add(10,20)\n",
    "print(r)\n",
    "\n",
    "r = add(10,20) + add(1000,20)**2\n",
    "print(r)"
   ]
  },
  {
   "cell_type": "code",
   "execution_count": 42,
   "metadata": {},
   "outputs": [
    {
     "name": "stdout",
     "output_type": "stream",
     "text": [
      "None\n"
     ]
    }
   ],
   "source": [
    "def add(n1,n2):\n",
    "    return\n",
    "    return 10\n",
    "\n",
    "r = add(10,20)\n",
    "print(r)\n"
   ]
  },
  {
   "cell_type": "code",
   "execution_count": 44,
   "metadata": {},
   "outputs": [
    {
     "name": "stdout",
     "output_type": "stream",
     "text": [
      "1000\n"
     ]
    }
   ],
   "source": [
    "def add(n1,n2):\n",
    "    return 1000\n",
    "    print(\"After first return\")\n",
    "    return 10\n",
    "    return 'abcd'\n",
    "    return None\n",
    "\n",
    "r = add(10,20)\n",
    "print(r)\n"
   ]
  },
  {
   "cell_type": "code",
   "execution_count": null,
   "metadata": {},
   "outputs": [],
   "source": []
  }
 ],
 "metadata": {
  "kernelspec": {
   "display_name": "Python 3",
   "language": "python",
   "name": "python3"
  },
  "language_info": {
   "codemirror_mode": {
    "name": "ipython",
    "version": 3
   },
   "file_extension": ".py",
   "mimetype": "text/x-python",
   "name": "python",
   "nbconvert_exporter": "python",
   "pygments_lexer": "ipython3",
   "version": "3.7.3"
  }
 },
 "nbformat": 4,
 "nbformat_minor": 2
}
