{
 "cells": [
  {
   "cell_type": "code",
   "execution_count": 2,
   "metadata": {},
   "outputs": [
    {
     "name": "stdout",
     "output_type": "stream",
     "text": [
      "0\n",
      "1\n",
      "1\n",
      "2\n",
      "3\n",
      "5\n",
      "8\n",
      "13\n"
     ]
    }
   ],
   "source": [
    "def gen_fibb(n):\n",
    "    a = 0\n",
    "    b = 1\n",
    "    while a <= n:\n",
    "        yield a\n",
    "        a,b = b, a + b # a,b = 1,1\n",
    "        \n",
    "for i in gen_fibb(13):\n",
    "    print(i)\n",
    "\n",
    "# 0 1 1 2 3 5 8 13\n",
    " n 13\n",
    "# a 0 1 1 2 3\n",
    "# b 1 1 2 3 5\n",
    "# 0 1 2 3 8"
   ]
  },
  {
   "cell_type": "code",
   "execution_count": 4,
   "metadata": {},
   "outputs": [
    {
     "name": "stdout",
     "output_type": "stream",
     "text": [
      "1\n",
      "4\n",
      "27\n",
      "[1, 2, 3]\n"
     ]
    }
   ],
   "source": [
    "\n",
    "fl=lambda x:x**x\n",
    "def apply_lambda(data,fn):\n",
    "    for x in data:\n",
    "        yield fn(x)\n",
    "\n",
    "a = [1,2,3]\n",
    "g=apply_lambda(a,fl)    \n",
    "for i in g:\n",
    "    print(i)\n",
    "\n",
    "print(a)"
   ]
  },
  {
   "cell_type": "code",
   "execution_count": 9,
   "metadata": {},
   "outputs": [
    {
     "name": "stdout",
     "output_type": "stream",
     "text": [
      "(<class 'object'>,)\n",
      "<class 'object'>\n",
      "()\n",
      "(<class 'BaseException'>,)\n",
      "(<class 'object'>,)\n"
     ]
    }
   ],
   "source": [
    "# object is by default the parent of all classes in python\n",
    "class Base:\n",
    "    pass\n",
    "\n",
    "print(Base.__bases__)\n",
    "print(object)\n",
    "print(object.__bases__)\n",
    "print(Exception.__bases__)\n",
    "print(Exception.__bases__[0].__bases__)"
   ]
  },
  {
   "cell_type": "code",
   "execution_count": 15,
   "metadata": {},
   "outputs": [
    {
     "name": "stdout",
     "output_type": "stream",
     "text": [
      "(<class '__main__.Base'>,)\n",
      "Base __init__ \n",
      "10\n"
     ]
    }
   ],
   "source": [
    "# if not redefined, functions from base class are used\n",
    "class Base:\n",
    "    def __init__(self):\n",
    "        print('Base __init__ ')\n",
    "        self.b = 10\n",
    "        \n",
    "class Derived(Base):\n",
    "    pass\n",
    "\n",
    "print(Derived.__bases__)\n",
    "d = Derived()\n",
    "print(d.b)"
   ]
  },
  {
   "cell_type": "code",
   "execution_count": 18,
   "metadata": {},
   "outputs": [
    {
     "name": "stdout",
     "output_type": "stream",
     "text": [
      "(<class '__main__.Base'>,)\n",
      "Derived __init__\n",
      "100\n"
     ]
    }
   ],
   "source": [
    "# constructor in derived do not automatically call that of parent\n",
    "class Base:\n",
    "    def __init__(self):\n",
    "        print('Base __init__ ')\n",
    "        self.b = 10\n",
    "        \n",
    "class Derived(Base):\n",
    "    def __init__(self):\n",
    "        print('Derived __init__')\n",
    "        self.d = 100\n",
    "\n",
    "print(Derived.__bases__)\n",
    "obj = Derived()\n",
    "print(obj.d)\n",
    "#print(obj.b)"
   ]
  },
  {
   "cell_type": "code",
   "execution_count": 20,
   "metadata": {},
   "outputs": [
    {
     "name": "stdout",
     "output_type": "stream",
     "text": [
      "(<class '__main__.Base'>,)\n",
      "Base __init__ \n",
      "Derived __init__\n",
      "100\n",
      "10\n"
     ]
    }
   ],
   "source": [
    "# constructor in derived do not automatically call that of parent\n",
    "class Base:\n",
    "    def __init__(self):\n",
    "        print('Base __init__ ')\n",
    "        self.b = 10\n",
    "        \n",
    "    def funct1(self):\n",
    "        print('funct1')\n",
    "\n",
    "    def funct2(self):\n",
    "        print('funct2')\n",
    "        \n",
    "class Derived(Base):\n",
    "    def __init__(self):\n",
    "        super().__init__()\n",
    "        print('Derived __init__')\n",
    "        self.d = 100\n",
    "\n",
    "print(Derived.__bases__)\n",
    "obj = Derived()\n",
    "print(obj.d)\n",
    "print(obj.b)"
   ]
  },
  {
   "cell_type": "code",
   "execution_count": 32,
   "metadata": {},
   "outputs": [
    {
     "name": "stdout",
     "output_type": "stream",
     "text": [
      "Opened\n",
      "Closed\n",
      "Locking\n",
      "Door locked, cannot open\n",
      "UnLocking\n",
      "Opened\n",
      "Cannot Lock!! First close\n"
     ]
    }
   ],
   "source": [
    "class Door:\n",
    "    def __init__(self):\n",
    "        self.open = False\n",
    "        \n",
    "    def open_d(self):\n",
    "        self.open = True\n",
    "        print('Opened')\n",
    "        \n",
    "    def close(self):\n",
    "        self.open = False\n",
    "        print('Closed')\n",
    "        \n",
    "class LockDoor(Door):\n",
    "    def __init__(self):\n",
    "        super().__init__()\n",
    "        self.locked = False\n",
    "    \n",
    "    def lock_d(self):\n",
    "        if self.open:\n",
    "            print('Cannot Lock!! First close')\n",
    "        else:\n",
    "            self.locked = True\n",
    "            print('Locking')\n",
    "        \n",
    "    def unlock_d(self):\n",
    "        self.locked = False\n",
    "        print('UnLocking')\n",
    "    \n",
    "    def open_d(self): # overriding\n",
    "        if self.locked:\n",
    "            print('Door locked, cannot open')\n",
    "        else:\n",
    "            super().open_d()\n",
    "        \n",
    "d1 = Door()\n",
    "d1.open_d()\n",
    "d1.close()\n",
    "\n",
    "ld1 = LockDoor()\n",
    "ld1.lock_d()\n",
    "ld1.open_d()\n",
    "ld1.unlock_d()\n",
    "ld1.open_d()\n",
    "\n",
    "ld1.lock_d()"
   ]
  },
  {
   "cell_type": "code",
   "execution_count": 50,
   "metadata": {},
   "outputs": [
    {
     "name": "stdout",
     "output_type": "stream",
     "text": [
      "Locking\n",
      "Door locked, cannot open\n",
      "UnLocking\n",
      "Sliding Opened\n",
      "Cannot Lock!! First close\n",
      "<class '__main__.SlidingLockDoor'>\n"
     ]
    }
   ],
   "source": [
    "class Door:\n",
    "    def __init__(self):\n",
    "        self.open = False\n",
    "        \n",
    "    def open_d(self):\n",
    "        self.open = True\n",
    "        self._open_d_impl()\n",
    "        \n",
    "    def _open_d_impl(self):\n",
    "        print('Opened')\n",
    "\n",
    "    def close(self):\n",
    "        self.open = False\n",
    "        print('Closed')\n",
    "\n",
    "class LockDoor(Door):\n",
    "    def __init__(self):\n",
    "        super().__init__() #Door.__init__(self)\n",
    "        self.locked = False\n",
    "\n",
    "    def lock_d(self):\n",
    "        if self.open:\n",
    "            print('Cannot Lock!! First close')\n",
    "        else:\n",
    "            self.locked = True\n",
    "            print('Locking')\n",
    "        \n",
    "    def unlock_d(self):\n",
    "        self.locked = False\n",
    "        print('UnLocking')\n",
    "    \n",
    "    def open_d(self): # overriding\n",
    "        if self.locked:\n",
    "            print('Door locked, cannot open')\n",
    "        else:\n",
    "            super().open_d()\n",
    "            \n",
    "class SlidingLockDoor(LockDoor):\n",
    "    def _open_d_impl(self):\n",
    "        print('Sliding Opened')\n",
    "\n",
    "\n",
    "ld1 = SlidingLockDoor()\n",
    "ld1.lock_d()\n",
    "ld1.open_d()\n",
    "ld1.unlock_d()\n",
    "ld1.open_d()\n",
    "\n",
    "ld1.lock_d()\n",
    "print(ld1.__class__)"
   ]
  },
  {
   "cell_type": "code",
   "execution_count": 58,
   "metadata": {},
   "outputs": [
    {
     "name": "stdout",
     "output_type": "stream",
     "text": [
      "Base 1\n",
      "[<class '__main__.Derived1'>, <class '__main__.Base1'>, <class '__main__.Base2'>, <class 'object'>]\n",
      "Base 2\n",
      "[<class '__main__.Derived2'>, <class '__main__.Base2'>, <class '__main__.Base1'>, <class 'object'>]\n"
     ]
    }
   ],
   "source": [
    "class Base1:\n",
    "    def __init__(self):\n",
    "        print(\"Base 1\")\n",
    "class Base2:\n",
    "    def __init__(self):\n",
    "        print(\"Base 2\")\n",
    "        \n",
    "class Derived1(Base1, Base2):\n",
    "    pass\n",
    "class Derived2(Base2, Base1):\n",
    "    pass\n",
    "\n",
    "d1 = Derived1()\n",
    "print( Derived1.mro() )\n",
    "d2 = Derived2()\n",
    "print( Derived2.mro() )\n"
   ]
  },
  {
   "cell_type": "code",
   "execution_count": 59,
   "metadata": {},
   "outputs": [
    {
     "name": "stdout",
     "output_type": "stream",
     "text": [
      "Base 2\n",
      "Base 1\n",
      "[<class '__main__.Derived1'>, <class '__main__.Base1'>, <class '__main__.Base2'>, <class 'object'>]\n",
      "\n",
      "Base 2\n",
      "[<class '__main__.Derived2'>, <class '__main__.Base2'>, <class '__main__.Base1'>, <class 'object'>]\n"
     ]
    }
   ],
   "source": [
    "class Base1:\n",
    "    def __init__(self):\n",
    "        super().__init__()\n",
    "        print(\"Base 1\")\n",
    "class Base2:\n",
    "    def __init__(self):\n",
    "        print(\"Base 2\")\n",
    "        \n",
    "class Derived1(Base1, Base2):\n",
    "    pass\n",
    "class Derived2(Base2, Base1):\n",
    "    pass\n",
    "\n",
    "d1 = Derived1()\n",
    "print( Derived1.mro() )\n",
    "\n",
    "print()\n",
    "d2 = Derived2()\n",
    "print( Derived2.mro() )\n"
   ]
  },
  {
   "cell_type": "code",
   "execution_count": 70,
   "metadata": {},
   "outputs": [
    {
     "name": "stdout",
     "output_type": "stream",
     "text": [
      "funct <__main__.Dummy object at 0x0000026A15F309E8>\n",
      "funct1\n",
      "funct1\n",
      "\n",
      "funct2  <class '__main__.Dummy'>\n",
      "funct2  <class '__main__.Dummy'>\n"
     ]
    }
   ],
   "source": [
    "class Dummy:\n",
    "    def funct(self):\n",
    "        print('funct', self)\n",
    "\n",
    "    @staticmethod\n",
    "    def funct1():\n",
    "        print('funct1')\n",
    "\n",
    "    @classmethod\n",
    "    def funct2(cls):\n",
    "        print('funct2 ', cls)\n",
    "\n",
    "d1 = Dummy()\n",
    "d1.funct()\n",
    "d1.funct1()\n",
    "Dummy.funct1()\n",
    "\n",
    "print()\n",
    "d1.funct2()\n",
    "Dummy.funct2()"
   ]
  }
 ],
 "metadata": {
  "kernelspec": {
   "display_name": "Python 3",
   "language": "python",
   "name": "python3"
  },
  "language_info": {
   "codemirror_mode": {
    "name": "ipython",
    "version": 3
   },
   "file_extension": ".py",
   "mimetype": "text/x-python",
   "name": "python",
   "nbconvert_exporter": "python",
   "pygments_lexer": "ipython3",
   "version": "3.7.3"
  }
 },
 "nbformat": 4,
 "nbformat_minor": 2
}
