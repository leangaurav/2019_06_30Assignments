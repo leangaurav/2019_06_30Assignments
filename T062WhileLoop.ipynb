{
 "cells": [
  {
   "cell_type": "code",
   "execution_count": 2,
   "metadata": {},
   "outputs": [
    {
     "name": "stdout",
     "output_type": "stream",
     "text": [
      "0\n",
      "1\n",
      "2\n",
      "3\n",
      "4\n",
      "5\n",
      "6\n",
      "7\n",
      "8\n",
      "9\n",
      "abcd\n"
     ]
    }
   ],
   "source": [
    "i = 0 # initialization\n",
    "while i < 10: # condition\n",
    "    print(i)\n",
    "    i += 1 # update\n",
    "    \n",
    "print('abcd')"
   ]
  },
  {
   "cell_type": "code",
   "execution_count": 3,
   "metadata": {},
   "outputs": [
    {
     "name": "stdout",
     "output_type": "stream",
     "text": [
      "1\n",
      "2\n",
      "3\n",
      "4\n",
      "5\n",
      "6\n",
      "7\n",
      "8\n",
      "9\n",
      "10\n",
      "abcd\n"
     ]
    }
   ],
   "source": [
    "i = 0 # initialization\n",
    "while i < 10: # condition\n",
    "    i += 1 # update\n",
    "    print(i)\n",
    "    \n",
    "print('abcd')"
   ]
  },
  {
   "cell_type": "code",
   "execution_count": 4,
   "metadata": {},
   "outputs": [
    {
     "name": "stdout",
     "output_type": "stream",
     "text": [
      "10\n",
      "9\n",
      "8\n",
      "7\n",
      "6\n",
      "5\n",
      "4\n",
      "3\n",
      "2\n",
      "1\n"
     ]
    }
   ],
   "source": [
    "i = 10\n",
    "while i > 0:\n",
    "    print(i)\n",
    "    i -= 1"
   ]
  },
  {
   "cell_type": "code",
   "execution_count": 5,
   "metadata": {},
   "outputs": [
    {
     "name": "stdout",
     "output_type": "stream",
     "text": [
      "10\n",
      "9\n",
      "8\n",
      "7\n",
      "6\n",
      "5\n",
      "4\n",
      "3\n",
      "2\n",
      "1\n"
     ]
    }
   ],
   "source": [
    "i = 10\n",
    "while i:\n",
    "    print(i)\n",
    "    i -= 1"
   ]
  },
  {
   "cell_type": "code",
   "execution_count": 7,
   "metadata": {},
   "outputs": [
    {
     "name": "stdout",
     "output_type": "stream",
     "text": [
      "[10, 20, 30, 40, 50, 60, 70, 80, 90, 100]\n"
     ]
    }
   ],
   "source": [
    "a = []\n",
    "\n",
    "x = 10\n",
    "while x <= 100:\n",
    "    a.append(x)\n",
    "    x += 10\n",
    "# x   10    20       30\n",
    "# []  [10]  [10,20]  [10,20,30]\n",
    "print(a)"
   ]
  },
  {
   "cell_type": "code",
   "execution_count": 18,
   "metadata": {},
   "outputs": [
    {
     "name": "stdout",
     "output_type": "stream",
     "text": [
      "Enter num:5\n",
      "1,2,3,4,5,\n",
      "\n",
      "5,4,3,2,1,"
     ]
    }
   ],
   "source": [
    "# WAP to input a no.. and print numbers from 1-n and from n to 1\n",
    "# ex:  if n = 5\n",
    "# output:   1,2,3,4,5,\n",
    "#           5,4,3,2,1,\n",
    "\n",
    "n = int(input(\"Enter num:\"))\n",
    "i = 1\n",
    "while i <= n:\n",
    "    print(i, end = ',')\n",
    "    i += 1\n",
    "    \n",
    "print('\\n')\n",
    "i = n\n",
    "while i >= 1:\n",
    "    print(i, end = ',')\n",
    "    i -= 1"
   ]
  },
  {
   "cell_type": "code",
   "execution_count": 17,
   "metadata": {},
   "outputs": [
    {
     "name": "stdout",
     "output_type": "stream",
     "text": [
      "1,2,3,4,5\n",
      "5,4,3,2,1\n"
     ]
    }
   ],
   "source": [
    "a = []\n",
    "b = []\n",
    "x = 1\n",
    "while x <= 5:\n",
    "    a.append(str(x))\n",
    "    x +=1\n",
    "\n",
    "print(','.join(a))\n",
    "a.reverse()\n",
    "print(','.join(a))\n"
   ]
  },
  {
   "cell_type": "code",
   "execution_count": 19,
   "metadata": {},
   "outputs": [
    {
     "name": "stdout",
     "output_type": "stream",
     "text": [
      "Enter strng:abc\n",
      "abc\n",
      "abc\n",
      "abc\n",
      "abc\n",
      "abc\n"
     ]
    }
   ],
   "source": [
    "# input a string and print it 5 times on screen\n",
    "\n",
    "s = input(\"Enter strng:\")\n",
    "i = 0\n",
    "while i < 5:\n",
    "    print(s)\n",
    "    i+=1"
   ]
  },
  {
   "cell_type": "code",
   "execution_count": 21,
   "metadata": {},
   "outputs": [
    {
     "name": "stdout",
     "output_type": "stream",
     "text": [
      "Enter a string:abc\n",
      "abc\n",
      "abc\n",
      "abc\n"
     ]
    }
   ],
   "source": [
    "s = input(\"Enter a string:\")\n",
    "i = 0\n",
    "while i < len(s):\n",
    "    print(s)\n",
    "    i+=1"
   ]
  },
  {
   "cell_type": "code",
   "execution_count": 23,
   "metadata": {},
   "outputs": [
    {
     "name": "stdout",
     "output_type": "stream",
     "text": [
      "Enter a string:abc123$\n",
      "a 97\n",
      "b 98\n",
      "c 99\n",
      "1 49\n",
      "2 50\n",
      "3 51\n",
      "$ 36\n"
     ]
    }
   ],
   "source": [
    "s = input(\"Enter a string:\")\n",
    "i = 0\n",
    "while i < len(s):\n",
    "    print(s[i], ord(s[i]))\n",
    "    i+=1"
   ]
  },
  {
   "cell_type": "code",
   "execution_count": 24,
   "metadata": {},
   "outputs": [
    {
     "name": "stdout",
     "output_type": "stream",
     "text": [
      "h\n",
      "f\n",
      "d\n",
      "b\n"
     ]
    }
   ],
   "source": [
    "s = 'abcdefgh'\n",
    "i = len(s) - 1\n",
    "while i >= 0:\n",
    "    print(s[i])\n",
    "    i -= 2# i = i - 2\n"
   ]
  },
  {
   "cell_type": "code",
   "execution_count": 27,
   "metadata": {},
   "outputs": [
    {
     "name": "stdout",
     "output_type": "stream",
     "text": [
      "Enter numbers separated by , : 10,20,30,40\n",
      "['10', '20', '30', '40']\n",
      "[10, 20, 30, 40]\n"
     ]
    }
   ],
   "source": [
    "s = input(\"Enter numbers separated by , : \")\n",
    "a = s.split(',')\n",
    "print(a)\n",
    "\n",
    "a1 = []\n",
    "i = 0\n",
    "while i < len(a):\n",
    "    a1.append(int(a[i]))\n",
    "    i += 1\n",
    "    \n",
    "print(a1)"
   ]
  },
  {
   "cell_type": "code",
   "execution_count": 28,
   "metadata": {},
   "outputs": [
    {
     "name": "stdout",
     "output_type": "stream",
     "text": [
      "100\n"
     ]
    }
   ],
   "source": [
    "l = [10,20,30,40]\n",
    "\n",
    "s = 0\n",
    "i = 0\n",
    "while i < len(l):\n",
    "    s += l[i]\n",
    "    i+=1\n",
    "    \n",
    "# i 0  :   0  1   2   3   4\n",
    "# s 0  : 10   30  60  100 X\n",
    "\n",
    "print(s)"
   ]
  }
 ],
 "metadata": {
  "kernelspec": {
   "display_name": "Python 3",
   "language": "python",
   "name": "python3"
  },
  "language_info": {
   "codemirror_mode": {
    "name": "ipython",
    "version": 3
   },
   "file_extension": ".py",
   "mimetype": "text/x-python",
   "name": "python",
   "nbconvert_exporter": "python",
   "pygments_lexer": "ipython3",
   "version": "3.7.3"
  }
 },
 "nbformat": 4,
 "nbformat_minor": 2
}
