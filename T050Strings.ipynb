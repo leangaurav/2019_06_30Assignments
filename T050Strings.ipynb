{
 "cells": [
  {
   "cell_type": "code",
   "execution_count": 7,
   "metadata": {},
   "outputs": [
    {
     "name": "stdout",
     "output_type": "stream",
     "text": [
      "Enter a string:abcde\n",
      "c\n",
      "c\n"
     ]
    }
   ],
   "source": [
    "s = input(\"Enter a string:\")\n",
    "i = len(s)//2\n",
    "print(s[i])\n",
    "\n",
    "x = len(s)\n",
    "st = (x-1)//2\n",
    "ed = x//2\n",
    "print(s[st:ed + 1])"
   ]
  },
  {
   "cell_type": "code",
   "execution_count": null,
   "metadata": {},
   "outputs": [],
   "source": [
    "x = 5\n",
    "x = 6\n",
    "2\n",
    "3\n",
    "\n",
    "\n",
    "s[st:ed + 1]"
   ]
  },
  {
   "cell_type": "code",
   "execution_count": 15,
   "metadata": {},
   "outputs": [
    {
     "name": "stdout",
     "output_type": "stream",
     "text": [
      "97\n",
      "98\n",
      "32\n",
      "48\n",
      "65\n"
     ]
    }
   ],
   "source": [
    "print(ord('a'))\n",
    "print(ord('b'))\n",
    "print(ord(' '))\n",
    "print(ord('0'))\n",
    "print(ord('A'))"
   ]
  },
  {
   "cell_type": "code",
   "execution_count": 16,
   "metadata": {},
   "outputs": [
    {
     "name": "stdout",
     "output_type": "stream",
     "text": [
      "True\n"
     ]
    }
   ],
   "source": [
    "print( 'A' < 'b' )"
   ]
  },
  {
   "cell_type": "code",
   "execution_count": 17,
   "metadata": {},
   "outputs": [
    {
     "name": "stdout",
     "output_type": "stream",
     "text": [
      "d\n"
     ]
    }
   ],
   "source": [
    "print(chr(100))"
   ]
  },
  {
   "cell_type": "code",
   "execution_count": 20,
   "metadata": {},
   "outputs": [
    {
     "name": "stdout",
     "output_type": "stream",
     "text": [
      "ABCDPQRT1223 #$%\n",
      "abcdpqrt1223 #$%\n",
      "ABCDpqrt1223 #$%\n",
      "ABCDPQRT1223 #$%\n"
     ]
    }
   ],
   "source": [
    "s = 'ABCDpqrt1223 #$%'\n",
    "\n",
    "print(s.upper())\n",
    "print(s.lower())\n",
    "print(s)\n",
    "s = s.upper()\n",
    "print(s)"
   ]
  },
  {
   "cell_type": "code",
   "execution_count": 21,
   "metadata": {},
   "outputs": [
    {
     "name": "stdout",
     "output_type": "stream",
     "text": [
      "4\n"
     ]
    }
   ],
   "source": [
    "s = '1234'\n",
    "print(len(s))"
   ]
  },
  {
   "cell_type": "code",
   "execution_count": 22,
   "metadata": {},
   "outputs": [
    {
     "name": "stdout",
     "output_type": "stream",
     "text": [
      "False\n",
      "False\n"
     ]
    }
   ],
   "source": [
    "s = 'ABCDpqrt1223 #$%'\n",
    "\n",
    "print(s.isupper())\n",
    "print(s.islower())"
   ]
  },
  {
   "cell_type": "code",
   "execution_count": 25,
   "metadata": {},
   "outputs": [
    {
     "name": "stdout",
     "output_type": "stream",
     "text": [
      "True\n",
      "False\n",
      "\n",
      "False\n",
      "True\n"
     ]
    }
   ],
   "source": [
    "s = 'ABCD1223 #$%'\n",
    "\n",
    "print(s.isupper())\n",
    "print(s.islower())\n",
    "\n",
    "print()\n",
    "s = 'abcd1223 #$%'\n",
    "print(s.isupper())\n",
    "print(s.islower())"
   ]
  },
  {
   "cell_type": "code",
   "execution_count": 29,
   "metadata": {},
   "outputs": [
    {
     "name": "stdout",
     "output_type": "stream",
     "text": [
      "False\n",
      "True\n",
      "\n",
      "True\n",
      "True\n",
      "False\n"
     ]
    }
   ],
   "source": [
    "print('abcd123'.isdigit())\n",
    "print('123'.isdigit())\n",
    "\n",
    "print()\n",
    "print('\\n'.isspace())\n",
    "print('\\n\\t '.isspace())\n",
    "print('\\n\\t a'.isspace())"
   ]
  },
  {
   "cell_type": "code",
   "execution_count": 32,
   "metadata": {},
   "outputs": [
    {
     "name": "stdout",
     "output_type": "stream",
     "text": [
      "  abc   d \n",
      " \n",
      "abc   d\n"
     ]
    }
   ],
   "source": [
    "s = '  abc   d \\n '\n",
    "print(s)\n",
    "s = s.strip()\n",
    "print(s)"
   ]
  },
  {
   "cell_type": "code",
   "execution_count": 34,
   "metadata": {},
   "outputs": [
    {
     "name": "stdout",
     "output_type": "stream",
     "text": [
      "3\n",
      "0\n"
     ]
    }
   ],
   "source": [
    "s1 = 'abcd 123 abc ab'\n",
    "\n",
    "print(s1.count('ab'))\n",
    "print(s1.count('Ab'))"
   ]
  },
  {
   "cell_type": "code",
   "execution_count": 35,
   "metadata": {},
   "outputs": [
    {
     "name": "stdout",
     "output_type": "stream",
     "text": [
      "Enter a stringabcdABCAA\n",
      "4\n"
     ]
    }
   ],
   "source": [
    "# WAP to input a string and print how many times alphabet 'A' /'a'\n",
    "s = input(\"Enter a string\")\n",
    "print(s.lower().count('a'))"
   ]
  },
  {
   "cell_type": "code",
   "execution_count": 37,
   "metadata": {},
   "outputs": [
    {
     "name": "stdout",
     "output_type": "stream",
     "text": [
      "Enter a string:abcdABC123\n",
      "2\n"
     ]
    }
   ],
   "source": [
    "# WAP to input a string and print how many vowels are there\n",
    "a = input(\"Enter a string:\")\n",
    "s = a.lower()\n",
    "c = s.count('a') + s.count('e') + s.count('i') + s.count('o') + s.count('u')\n",
    "print(c)"
   ]
  },
  {
   "cell_type": "code",
   "execution_count": 43,
   "metadata": {},
   "outputs": [
    {
     "name": "stdout",
     "output_type": "stream",
     "text": [
      "0\n",
      "-1\n",
      "5\n",
      "12\n",
      "-1\n",
      "-1\n"
     ]
    }
   ],
   "source": [
    "s = 'abcd abc123 ab'\n",
    "#    0123456789\n",
    "\n",
    "print(s.find('ab'))\n",
    "print(s.find('Ab'))\n",
    "print(s.find('ab', 4))\n",
    "print(s.find('ab', 6))\n",
    "print(s.find('ab', 6, 10))\n",
    "print(s.find('ab', 1, 6))"
   ]
  },
  {
   "cell_type": "code",
   "execution_count": 47,
   "metadata": {},
   "outputs": [
    {
     "name": "stdout",
     "output_type": "stream",
     "text": [
      "True\n",
      "True\n",
      "False\n"
     ]
    }
   ],
   "source": [
    "print('abcd' in '123abcdpqr')\n",
    "#print(123 in '123abcdpqr') # exception\n",
    "print('23' in '123abcdpqr')\n",
    "print('AB' in '123abcdpqr')"
   ]
  },
  {
   "cell_type": "code",
   "execution_count": 49,
   "metadata": {},
   "outputs": [
    {
     "name": "stdout",
     "output_type": "stream",
     "text": [
      "False\n",
      "True\n"
     ]
    }
   ],
   "source": [
    "print('abcd123'.startswith('12'))\n",
    "print('abcd123'.startswith('ab'))"
   ]
  },
  {
   "cell_type": "code",
   "execution_count": 52,
   "metadata": {},
   "outputs": [
    {
     "name": "stdout",
     "output_type": "stream",
     "text": [
      "acbd\n",
      "123abcd\n",
      "ab\n",
      "acbd 123Acd A\n"
     ]
    }
   ],
   "source": [
    "s = 'acbd 123abcd ab'\n",
    "s1 = s.replace(' ', '\\n')\n",
    "print(s1)\n",
    "s = 'acbd 123abcd ab'\n",
    "s1 = s.replace('ab', 'A')\n",
    "print(s1)"
   ]
  },
  {
   "cell_type": "code",
   "execution_count": 59,
   "metadata": {},
   "outputs": [
    {
     "name": "stdout",
     "output_type": "stream",
     "text": [
      "10\\2\n",
      "a\n",
      "\t\n",
      "a\\n\\t\n",
      "a\\n\\t\n"
     ]
    }
   ],
   "source": [
    "s = \"10\\\\2\"\n",
    "print(s)\n",
    "s = \"a\\n\\t\"\n",
    "print(s)\n",
    "s = \"a\\\\n\\\\t\"\n",
    "print(s)\n",
    "s = r\"a\\n\\t\"\n",
    "print(s)"
   ]
  },
  {
   "cell_type": "code",
   "execution_count": 64,
   "metadata": {},
   "outputs": [
    {
     "name": "stdout",
     "output_type": "stream",
     "text": [
      "0\n",
      "0.5\n",
      "0.0\n",
      "2.0\n",
      "5\n"
     ]
    }
   ],
   "source": [
    "print(1//2)\n",
    "print(1/2)\n",
    "print(1//2.0)\n",
    "print(5.0//2)\n",
    "print(11//2)"
   ]
  },
  {
   "cell_type": "code",
   "execution_count": 68,
   "metadata": {},
   "outputs": [
    {
     "name": "stdout",
     "output_type": "stream",
     "text": [
      "D\n",
      "DE\n",
      "ACEG\n",
      "ABCD\n",
      "EFGH\n",
      "HGFEDCBA\n"
     ]
    }
   ],
   "source": [
    "s = 'ABCDEFGH'\n",
    "#    01234567\n",
    "print(s[3])\n",
    "print(s[3:5])\n",
    "print(s[: : 2])\n",
    "print(s[:4])\n",
    "print(s[4:])\n",
    "print(s[ : :-1])"
   ]
  },
  {
   "cell_type": "code",
   "execution_count": 1,
   "metadata": {},
   "outputs": [
    {
     "name": "stdout",
     "output_type": "stream",
     "text": [
      "H\n",
      "A\n",
      "ABCDE\n",
      "ABC\n"
     ]
    }
   ],
   "source": [
    "s = 'ABCDEFGH'\n",
    "#    01234567\n",
    "#    87654321\n",
    "print(s[-1])\n",
    "print(s[-8])\n",
    "print(s[-8: -3])\n",
    "print(s[-8: 3])"
   ]
  },
  {
   "cell_type": "code",
   "execution_count": 70,
   "metadata": {},
   "outputs": [
    {
     "name": "stdout",
     "output_type": "stream",
     "text": [
      "ABC\n"
     ]
    }
   ],
   "source": [
    "a = 'A'\n",
    "a += 'B'\n",
    "a += 'C'\n",
    "print(a)"
   ]
  },
  {
   "cell_type": "code",
   "execution_count": 80,
   "metadata": {},
   "outputs": [
    {
     "name": "stdout",
     "output_type": "stream",
     "text": [
      "Enter a number:10\n",
      "0\n",
      "a\n"
     ]
    }
   ],
   "source": [
    "n = int(input(\"Enter a number:\"))\n",
    "print(n%2)\n",
    "s = \"ab\"\n",
    "print(s[n%2])"
   ]
  },
  {
   "cell_type": "code",
   "execution_count": 79,
   "metadata": {},
   "outputs": [
    {
     "name": "stdout",
     "output_type": "stream",
     "text": [
      "Enter a number:21\n",
      "odd\n"
     ]
    }
   ],
   "source": [
    "l = ['even', 'odd']\n",
    "#      0       1\n",
    "n = int(input(\"Enter a number:\"))\n",
    "print(l[n%2])"
   ]
  },
  {
   "cell_type": "code",
   "execution_count": 81,
   "metadata": {},
   "outputs": [
    {
     "name": "stdout",
     "output_type": "stream",
     "text": [
      "Enter a number:10\n",
      "even\n"
     ]
    }
   ],
   "source": [
    "n = int(input(\"Enter a number:\"))\n",
    "print(['even', 'odd'][n%2])"
   ]
  },
  {
   "cell_type": "code",
   "execution_count": 89,
   "metadata": {},
   "outputs": [
    {
     "name": "stdout",
     "output_type": "stream",
     "text": [
      "abcddba\n",
      "not palindrome\n"
     ]
    }
   ],
   "source": [
    "# Palindrome...\n",
    "\n",
    "s = input()\n",
    "s1 = s[::-1] # reversing\n",
    "\n",
    "l = [\"not palindrome\", \"its a palindrome\"]\n",
    "#          0                  1\n",
    "print( l[s1 == s] )"
   ]
  },
  {
   "cell_type": "code",
   "execution_count": null,
   "metadata": {},
   "outputs": [],
   "source": []
  },
  {
   "cell_type": "code",
   "execution_count": null,
   "metadata": {},
   "outputs": [],
   "source": []
  }
 ],
 "metadata": {
  "kernelspec": {
   "display_name": "Python 3",
   "language": "python",
   "name": "python3"
  },
  "language_info": {
   "codemirror_mode": {
    "name": "ipython",
    "version": 3
   },
   "file_extension": ".py",
   "mimetype": "text/x-python",
   "name": "python",
   "nbconvert_exporter": "python",
   "pygments_lexer": "ipython3",
   "version": "3.7.3"
  }
 },
 "nbformat": 4,
 "nbformat_minor": 2
}
