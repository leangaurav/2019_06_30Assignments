{
 "cells": [
  {
   "cell_type": "code",
   "execution_count": 5,
   "metadata": {},
   "outputs": [
    {
     "name": "stdout",
     "output_type": "stream",
     "text": [
      "Cube : 10 Cube : 20\n",
      "1000\n",
      "8000\n"
     ]
    }
   ],
   "source": [
    "class Cube:\n",
    "    def __init__(self, s):\n",
    "        self.side = s\n",
    "        \n",
    "    def __str__(self):\n",
    "        return \"Cube : {}\".format(self.side)\n",
    "    \n",
    "    def volume(self):\n",
    "        return self.side ** 3\n",
    "    \n",
    "c1 = Cube(10)\n",
    "c2 = Cube(20)\n",
    "print(c1, c2)\n",
    "\n",
    "print(c1.volume())\n",
    "print(c2.volume())\n"
   ]
  },
  {
   "cell_type": "code",
   "execution_count": 7,
   "metadata": {},
   "outputs": [
    {
     "name": "stdout",
     "output_type": "stream",
     "text": [
      "10 20 30 40\n",
      "100\n"
     ]
    }
   ],
   "source": [
    "#s = input()\n",
    "\n",
    "def get_list_nums():\n",
    "    s = input()\n",
    "    res = [ int(data)  for data in s.split() ]\n",
    "    return res\n",
    "    \n",
    "    \n",
    " #   [10,20,30,40]\n",
    "    \n",
    "print(sum(get_list_nums()))"
   ]
  },
  {
   "cell_type": "markdown",
   "metadata": {},
   "source": [
    "### Variable lenght arguments and keyword arguments\n"
   ]
  },
  {
   "cell_type": "code",
   "execution_count": 12,
   "metadata": {},
   "outputs": [
    {
     "name": "stdout",
     "output_type": "stream",
     "text": [
      "(10, 20, 30)\n",
      "10 20 30\n"
     ]
    }
   ],
   "source": [
    "x = 10\n",
    "y = 20\n",
    "z = 30\n",
    "r = x,y,z\n",
    "print(r)\n",
    "\n",
    "def funct(a1,a2,a3):\n",
    "    print(a1,a2,a3)\n",
    "    \n",
    "#funct(r) # error\n",
    "funct(*r) # unpacking a tuple"
   ]
  },
  {
   "cell_type": "code",
   "execution_count": 13,
   "metadata": {},
   "outputs": [
    {
     "name": "stdout",
     "output_type": "stream",
     "text": [
      "() <class 'tuple'>\n",
      "(1,) <class 'tuple'>\n",
      "(1, 2, True, False) <class 'tuple'>\n"
     ]
    }
   ],
   "source": [
    "# variable lenght arguments\n",
    "def funct(*args): # args is just a notation, we can name it something else as well\n",
    "    print(args, type(args))\n",
    "    \n",
    "    \n",
    "funct()\n",
    "funct(1)\n",
    "funct(1,2, True, False)\n"
   ]
  },
  {
   "cell_type": "code",
   "execution_count": 16,
   "metadata": {},
   "outputs": [
    {
     "name": "stdout",
     "output_type": "stream",
     "text": [
      "10 20\n",
      "20 10\n",
      "100 200\n"
     ]
    }
   ],
   "source": [
    "def funct(x,y):\n",
    "    print(x,y)\n",
    "    \n",
    "funct(10,20) # positional arguments\n",
    "funct(y = 10, x = 20) # arguments by name\n",
    "d = {'x' :100, 'y' : 200}\n",
    "funct(**d)"
   ]
  },
  {
   "cell_type": "code",
   "execution_count": 22,
   "metadata": {},
   "outputs": [
    {
     "name": "stdout",
     "output_type": "stream",
     "text": [
      "{}\n",
      "{'x': 10}\n",
      "{'x': 10, 'abc': 'ABCD'}\n",
      "{'x': 10, 'y': 1000}\n"
     ]
    }
   ],
   "source": [
    "# keyword arguments\n",
    "def funct(**kwargs): # kwargs is again notation\n",
    "    print(kwargs)\n",
    "    \n",
    "#funct(10)\n",
    "funct()\n",
    "funct(x = 10)\n",
    "funct(x = 10, abc = 'ABCD')\n",
    "\n",
    "d = dict(x = 10, y =1000)\n",
    "print(d)"
   ]
  },
  {
   "cell_type": "code",
   "execution_count": 23,
   "metadata": {},
   "outputs": [
    {
     "name": "stdout",
     "output_type": "stream",
     "text": [
      "() {}\n",
      "(10,) {}\n",
      "(10, 20) {}\n",
      "() {'x': 100}\n",
      "(10, 20) {'x': 100}\n"
     ]
    }
   ],
   "source": [
    "def funct(*args, **kwargs):\n",
    "    print(args, kwargs)\n",
    "\n",
    "funct()\n",
    "funct(10)\n",
    "funct(10,20)\n",
    "funct(x= 100)\n",
    "funct(10,20, x= 100)"
   ]
  },
  {
   "cell_type": "code",
   "execution_count": 32,
   "metadata": {},
   "outputs": [
    {
     "name": "stdout",
     "output_type": "stream",
     "text": [
      "10 20 () 10\n",
      "10 20 (True, 'a', [1, 2, 3]) 10\n",
      "10 20 (30, 40) 1000\n",
      "\n",
      "10 20 () 10\n",
      "10 20 ('a', [1, 2, 3]) True\n"
     ]
    }
   ],
   "source": [
    "def funct1(a,b, *args, x = 10): # requires minimum 2 args\n",
    "    print(a,b, args, x)\n",
    "    \n",
    "def funct2(a,b, x = 10, *args): # requires minimum 2 args\n",
    "    print(a,b, args, x)\n",
    "    \n",
    "#funct(10)\n",
    "funct1(10,20) \n",
    "funct1(10,20,True, 'a',[1,2,3]) \n",
    "funct1(10,20,30,40, x = 1000)\n",
    "print()\n",
    "funct2(10,20) \n",
    "funct2(10,20,True, 'a',[1,2,3]) "
   ]
  },
  {
   "cell_type": "markdown",
   "metadata": {},
   "source": [
    "### Iterators\n"
   ]
  },
  {
   "cell_type": "code",
   "execution_count": 42,
   "metadata": {},
   "outputs": [
    {
     "name": "stdout",
     "output_type": "stream",
     "text": [
      "['__add__', '__class__', '__contains__', '__delattr__', '__delitem__', '__dir__', '__doc__', '__eq__', '__format__', '__ge__', '__getattribute__', '__getitem__', '__gt__', '__hash__', '__iadd__', '__imul__', '__init__', '__init_subclass__', '__iter__', '__le__', '__len__', '__lt__', '__mul__', '__ne__', '__new__', '__reduce__', '__reduce_ex__', '__repr__', '__reversed__', '__rmul__', '__setattr__', '__setitem__', '__sizeof__', '__str__', '__subclasshook__', 'append', 'clear', 'copy', 'count', 'extend', 'index', 'insert', 'pop', 'remove', 'reverse', 'sort']\n",
      "\n",
      "\n",
      "Iterator : : :  <list_iterator object at 0x0000029152361128>\n",
      "['__class__', '__delattr__', '__dir__', '__doc__', '__eq__', '__format__', '__ge__', '__getattribute__', '__gt__', '__hash__', '__init__', '__init_subclass__', '__iter__', '__le__', '__length_hint__', '__lt__', '__ne__', '__new__', '__next__', '__reduce__', '__reduce_ex__', '__repr__', '__setattr__', '__setstate__', '__sizeof__', '__str__', '__subclasshook__']\n",
      "1\n",
      "2\n",
      "3\n"
     ]
    },
    {
     "ename": "StopIteration",
     "evalue": "",
     "output_type": "error",
     "traceback": [
      "\u001b[1;31m---------------------------------------------------------------------------\u001b[0m",
      "\u001b[1;31mStopIteration\u001b[0m                             Traceback (most recent call last)",
      "\u001b[1;32m<ipython-input-42-78e45d6bfe79>\u001b[0m in \u001b[0;36m<module>\u001b[1;34m\u001b[0m\n\u001b[0;32m      9\u001b[0m \u001b[0mprint\u001b[0m\u001b[1;33m(\u001b[0m\u001b[0mnext\u001b[0m\u001b[1;33m(\u001b[0m\u001b[0mit\u001b[0m\u001b[1;33m)\u001b[0m\u001b[1;33m)\u001b[0m\u001b[1;33m\u001b[0m\u001b[1;33m\u001b[0m\u001b[0m\n\u001b[0;32m     10\u001b[0m \u001b[0mprint\u001b[0m\u001b[1;33m(\u001b[0m\u001b[0mnext\u001b[0m\u001b[1;33m(\u001b[0m\u001b[0mit\u001b[0m\u001b[1;33m)\u001b[0m\u001b[1;33m)\u001b[0m\u001b[1;33m\u001b[0m\u001b[1;33m\u001b[0m\u001b[0m\n\u001b[1;32m---> 11\u001b[1;33m \u001b[0mprint\u001b[0m\u001b[1;33m(\u001b[0m\u001b[0mnext\u001b[0m\u001b[1;33m(\u001b[0m\u001b[0mit\u001b[0m\u001b[1;33m)\u001b[0m\u001b[1;33m)\u001b[0m\u001b[1;33m\u001b[0m\u001b[1;33m\u001b[0m\u001b[0m\n\u001b[0m",
      "\u001b[1;31mStopIteration\u001b[0m: "
     ]
    }
   ],
   "source": [
    "a = [1,2,3]\n",
    "print(dir(a))\n",
    "\n",
    "it = a.__iter__() # it = iter(a)\n",
    "print(\"\\n\\nIterator : : : \",  it)\n",
    "print(dir(it))\n",
    "\n",
    "print(next(it))\n",
    "print(next(it))\n",
    "print(next(it))\n",
    "print(next(it))"
   ]
  },
  {
   "cell_type": "code",
   "execution_count": 39,
   "metadata": {},
   "outputs": [
    {
     "name": "stdout",
     "output_type": "stream",
     "text": [
      "a\n",
      "b\n",
      "c\n",
      "d\n",
      "e\n",
      "f\n"
     ]
    }
   ],
   "source": [
    "s = 'abcdef'\n",
    "\n",
    "try:\n",
    "    it = iter(s)\n",
    "    while True:\n",
    "        data = next(it)\n",
    "        print(data)\n",
    "except StopIteration:\n",
    "    pass"
   ]
  },
  {
   "cell_type": "code",
   "execution_count": 40,
   "metadata": {},
   "outputs": [
    {
     "name": "stdout",
     "output_type": "stream",
     "text": [
      "a\n",
      "b\n",
      "c\n",
      "d\n",
      "e\n",
      "f\n"
     ]
    }
   ],
   "source": [
    "for data in s:\n",
    "    print(data)"
   ]
  },
  {
   "cell_type": "code",
   "execution_count": null,
   "metadata": {},
   "outputs": [],
   "source": []
  },
  {
   "cell_type": "code",
   "execution_count": null,
   "metadata": {},
   "outputs": [],
   "source": []
  }
 ],
 "metadata": {
  "kernelspec": {
   "display_name": "Python 3",
   "language": "python",
   "name": "python3"
  },
  "language_info": {
   "codemirror_mode": {
    "name": "ipython",
    "version": 3
   },
   "file_extension": ".py",
   "mimetype": "text/x-python",
   "name": "python",
   "nbconvert_exporter": "python",
   "pygments_lexer": "ipython3",
   "version": "3.7.3"
  }
 },
 "nbformat": 4,
 "nbformat_minor": 2
}
