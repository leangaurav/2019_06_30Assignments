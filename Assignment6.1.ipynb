{
 "cells": [
  {
   "cell_type": "code",
   "execution_count": 1,
   "metadata": {},
   "outputs": [
    {
     "name": "stdout",
     "output_type": "stream",
     "text": [
      "Enter the string:aneesh\n",
      "a\n",
      "n\n",
      "e\n",
      "e\n",
      "s\n",
      "h\n"
     ]
    }
   ],
   "source": [
    "s = input(\"Enter the string:\")\n",
    "for i in s:\n",
    "    print (i)"
   ]
  },
  {
   "cell_type": "code",
   "execution_count": 3,
   "metadata": {},
   "outputs": [
    {
     "name": "stdout",
     "output_type": "stream",
     "text": [
      "Enter the string:Aneesh\n",
      "65\n",
      "110\n",
      "101\n",
      "101\n",
      "115\n",
      "104\n"
     ]
    }
   ],
   "source": [
    "s = input(\"Enter the string:\")\n",
    "for i in s:\n",
    "    print (ord(i))"
   ]
  },
  {
   "cell_type": "code",
   "execution_count": 25,
   "metadata": {},
   "outputs": [
    {
     "name": "stdout",
     "output_type": "stream",
     "text": [
      " Enter the numbers separated by space12 13 15\n",
      "28\n"
     ]
    }
   ],
   "source": [
    "a = input(\" Enter the numbers separated by space\")\n",
    "a = a.split(' ')\n",
    "add = 0\n",
    "for i in a:\n",
    "    i = int(i)\n",
    "    for _ in range(0,i%2):\n",
    "        add += i\n",
    "print (add)"
   ]
  },
  {
   "cell_type": "code",
   "execution_count": 33,
   "metadata": {},
   "outputs": [
    {
     "name": "stdout",
     "output_type": "stream",
     "text": [
      " Enter the numbers separated by space12 12 30 20 45 34 \n",
      "['12', '12', '30', '20', '45', '34', '']\n",
      "('12', '12', '30', '20', '45', '34', '')\n",
      "3\n"
     ]
    }
   ],
   "source": [
    "a = input(\" Enter the numbers separated by space\")\n",
    "a = a.split(' ')\n",
    "print (a)\n",
    "t = tuple(a)\n",
    "print (t)\n",
    "print (t.index('20'))\n",
    "\n"
   ]
  },
  {
   "cell_type": "code",
   "execution_count": 49,
   "metadata": {},
   "outputs": [
    {
     "name": "stdout",
     "output_type": "stream",
     "text": [
      "List is: [48, 20, 17, 54, 48, 73, 20, 81, 38, 39]\n",
      "Sum of all number is: 438\n",
      "Average of all number is: 43.8\n",
      "List at even index is: [48, 17, 48, 20, 38]\n"
     ]
    }
   ],
   "source": [
    "import random\n",
    "l = []\n",
    "add = 0\n",
    "for i in range(0,10):\n",
    "    x = random.randrange(1,100)\n",
    "    add += x\n",
    "    l.append(x)\n",
    "    \n",
    "print (\"List is:\" ,l)\n",
    "print (\"Sum of all number is:\", (add))\n",
    "print (\"Average of all number is:\" ,(add/10))\n",
    "print (\"List at even index is:\" ,(l[::2]))"
   ]
  },
  {
   "cell_type": "code",
   "execution_count": 50,
   "metadata": {},
   "outputs": [
    {
     "name": "stdout",
     "output_type": "stream",
     "text": [
      "Enter the number:12\n",
      "Enter the number:12\n",
      "Enter the number:23\n",
      "Enter the number:34\n",
      "Enter the number:32\n",
      "Enter the number:33\n",
      "Enter the number:22\n",
      "Enter the number:22\n",
      "Enter the number:22\n",
      "Enter the number:4\n",
      "list is: [12, 12, 23, 34, 32, 33, 22, 22, 22, 4]\n",
      "Sum is: 654\n"
     ]
    }
   ],
   "source": [
    "l = []\n",
    "for i in range(0,10):\n",
    "    a = int (input (\"Enter the number:\"))\n",
    "    l.append(a)\n",
    "    add += a\n",
    "print (\"list is:\",l)\n",
    "print (\"Sum is:\",add)"
   ]
  },
  {
   "cell_type": "code",
   "execution_count": 67,
   "metadata": {},
   "outputs": [
    {
     "name": "stdout",
     "output_type": "stream",
     "text": [
      "Enter the number:5\n",
      "5  x 1  =  5\n",
      "5  x 2  =  10\n",
      "5  x 3  =  15\n",
      "5  x 4  =  20\n",
      "5  x 5  =  25\n",
      "5  x 6  =  30\n",
      "5  x 7  =  35\n",
      "5  x 8  =  40\n",
      "5  x 9  =  45\n",
      "5  x 10  =  50\n"
     ]
    }
   ],
   "source": [
    "n = int (input (\"Enter the number:\"))\n",
    "for i in range(1,11):\n",
    "    #z = n* i\n",
    "    print (n , ' x', i, ' = ', n*i )"
   ]
  },
  {
   "cell_type": "code",
   "execution_count": 76,
   "metadata": {},
   "outputs": [
    {
     "name": "stdout",
     "output_type": "stream",
     "text": [
      "Enter the string:ane jfhf dddh    hg\n",
      "6\n"
     ]
    }
   ],
   "source": [
    "s = input (\"Enter the string:\")\n",
    "count = 0\n",
    "for i in s:\n",
    "    if i == ' ':\n",
    "        count += 1\n",
    "print (count)"
   ]
  },
  {
   "cell_type": "code",
   "execution_count": null,
   "metadata": {},
   "outputs": [],
   "source": [
    "a = input(\"Enter a string:\")\n",
    "s = a.lower()\n",
    "c = s.count('a') + s.count('e') + s.count('i') + s.count('o') + s.count('u')\n",
    "print(c)\n"
   ]
  },
  {
   "cell_type": "code",
   "execution_count": null,
   "metadata": {},
   "outputs": [],
   "source": [
    "a = input(\"Enter a string:\")\n",
    "s = a.lower()\n",
    "s = s.replace('a','_').replace('e','_').replace('i','_').replace('o','_').replace('u','_')\n",
    "print (s)"
   ]
  },
  {
   "cell_type": "code",
   "execution_count": null,
   "metadata": {},
   "outputs": [],
   "source": [
    "for num in range(5):\n",
    "    print (\"Num :\", num)\n",
    "    if num%2 == 0:\n",
    "        break\n",
    "print (\"Loop ends\")"
   ]
  },
  {
   "cell_type": "code",
   "execution_count": null,
   "metadata": {},
   "outputs": [],
   "source": []
  },
  {
   "cell_type": "code",
   "execution_count": null,
   "metadata": {},
   "outputs": [],
   "source": []
  },
  {
   "cell_type": "code",
   "execution_count": null,
   "metadata": {},
   "outputs": [],
   "source": []
  }
 ],
 "metadata": {
  "kernelspec": {
   "display_name": "Python 3",
   "language": "python",
   "name": "python3"
  },
  "language_info": {
   "codemirror_mode": {
    "name": "ipython",
    "version": 3
   },
   "file_extension": ".py",
   "mimetype": "text/x-python",
   "name": "python",
   "nbconvert_exporter": "python",
   "pygments_lexer": "ipython3",
   "version": "3.7.3"
  }
 },
 "nbformat": 4,
 "nbformat_minor": 2
}
