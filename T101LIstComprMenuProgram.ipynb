{
 "cells": [
  {
   "cell_type": "code",
   "execution_count": null,
   "metadata": {},
   "outputs": [],
   "source": [
    "# Command Line args\n",
    "# Menu program"
   ]
  },
  {
   "cell_type": "code",
   "execution_count": 2,
   "metadata": {},
   "outputs": [
    {
     "name": "stdout",
     "output_type": "stream",
     "text": [
      "Enter string : abc,pqr\n",
      "abc pqr\n"
     ]
    }
   ],
   "source": [
    "\n",
    "import string\n",
    "s=input(\"Enter string : \")\n",
    "l_word=[]\n",
    "l_chars=[]\n",
    "punc=list(string.punctuation)\n",
    "spac=list(string.whitespace)\n",
    "\n",
    "for i in range(len(s)):\n",
    "    if s[i] in punc or s[i] in spac:\n",
    "        l_chars.append(s[i])\n",
    "        l_word.append(\" \")\n",
    "    \n",
    "    else:\n",
    "        l_word.append(s[i])\n",
    "fin_str=\"\".join(l_word)\n",
    "print(fin_str)"
   ]
  },
  {
   "cell_type": "code",
   "execution_count": 3,
   "metadata": {},
   "outputs": [
    {
     "name": "stdout",
     "output_type": "stream",
     "text": [
      "{1: -1, 2: -2, 3: -3, 4: -4, 5: -5}\n"
     ]
    }
   ],
   "source": [
    "d = {}\n",
    "for i in range(1,6):\n",
    "    d[i] = -i\n",
    "print(d)"
   ]
  },
  {
   "cell_type": "code",
   "execution_count": 5,
   "metadata": {},
   "outputs": [
    {
     "name": "stdout",
     "output_type": "stream",
     "text": [
      "[1, 2, 3, 4, 5, 6, 7, 8, 9, 10]\n",
      "[1, 2, 3, 4, 5, 6, 7, 8, 9, 10]\n"
     ]
    }
   ],
   "source": [
    "# WAP to create a list of no.s  from 1-10\n",
    "a = []\n",
    "for i in range(1,11):\n",
    "    a.append(i)\n",
    "print(a)\n",
    "\n",
    "print(list(range(1,11)))"
   ]
  },
  {
   "cell_type": "code",
   "execution_count": 6,
   "metadata": {},
   "outputs": [
    {
     "name": "stdout",
     "output_type": "stream",
     "text": [
      "[1, 4, 9, 16, 25, 36, 49, 64, 81, 100]\n"
     ]
    }
   ],
   "source": [
    "# WAP to create a list square of no.s  from 1-10\n",
    "a = []\n",
    "for i in range(1,11):\n",
    "    a.append(i*i)\n",
    "print(a)\n"
   ]
  },
  {
   "cell_type": "markdown",
   "metadata": {},
   "source": [
    "## List Comprehension"
   ]
  },
  {
   "cell_type": "code",
   "execution_count": null,
   "metadata": {},
   "outputs": [],
   "source": [
    "[ exp for var in seq ] # transformation\n",
    "[ exp for var in seq    if <condition>] # filtering"
   ]
  },
  {
   "cell_type": "code",
   "execution_count": 7,
   "metadata": {},
   "outputs": [
    {
     "name": "stdout",
     "output_type": "stream",
     "text": [
      "[1, 4, 9, 16, 25, 36, 49, 64, 81, 100]\n"
     ]
    }
   ],
   "source": [
    "a = [i*i  for i in range(1,11)]\n",
    "print(a)"
   ]
  },
  {
   "cell_type": "code",
   "execution_count": 9,
   "metadata": {},
   "outputs": [
    {
     "name": "stdout",
     "output_type": "stream",
     "text": [
      "Enter a string:abcAA\n",
      "[97, 98, 99, 65, 65]\n"
     ]
    }
   ],
   "source": [
    "s = input(\"Enter a string:\")\n",
    "a = []\n",
    "for i in s:\n",
    "    a.append(ord(i))\n",
    "print(a)"
   ]
  },
  {
   "cell_type": "code",
   "execution_count": 12,
   "metadata": {},
   "outputs": [
    {
     "name": "stdout",
     "output_type": "stream",
     "text": [
      "Enter the stringfsdfds\n",
      "[102, 115, 100, 102, 100, 115]\n",
      "[]\n"
     ]
    }
   ],
   "source": [
    "s = input(\"Enter the string\")\n",
    "r = [ord(i) for i in s]\n",
    "print(r)"
   ]
  },
  {
   "cell_type": "code",
   "execution_count": 14,
   "metadata": {},
   "outputs": [
    {
     "name": "stdout",
     "output_type": "stream",
     "text": [
      "this is a string\n",
      "[4, 2, 1, 6]\n",
      "[4, 2, 1, 6]\n"
     ]
    }
   ],
   "source": [
    "# WAP to input a string and convert it to a list \n",
    "# list contains length of each word.\n",
    "s = input()\n",
    "\n",
    "r = []\n",
    "for word in s.split():\n",
    "    r.append(len(word))\n",
    "print(r)\n",
    "\n",
    "r = [ len(word)   for word in s.split() ]\n",
    "print(r)"
   ]
  },
  {
   "cell_type": "code",
   "execution_count": 15,
   "metadata": {},
   "outputs": [
    {
     "name": "stdout",
     "output_type": "stream",
     "text": [
      "some words in this string\n",
      "[4, 5, 2, 4, 6]\n"
     ]
    }
   ],
   "source": [
    "r = [ len(word)    for word in input().split() ]\n",
    "print(r)"
   ]
  },
  {
   "cell_type": "code",
   "execution_count": 16,
   "metadata": {},
   "outputs": [
    {
     "name": "stdout",
     "output_type": "stream",
     "text": [
      "Enter a string: some voweLS HERE\n",
      "s_m_ v_w_LS H_R_\n"
     ]
    }
   ],
   "source": [
    "s = input(\"Enter a string: \")\n",
    "vowels = 'aeiouAEIOU'\n",
    "\n",
    "r = []\n",
    "for c in s:\n",
    "    if c in vowels:\n",
    "        r.append('_')\n",
    "    else:\n",
    "        r.append(c)\n",
    "        \n",
    "ss = ''.join(r)\n",
    "\n",
    "\n",
    "r = list(s)\n",
    "for i in range(len(r)):\n",
    "    if r[i] in vowels:\n",
    "        r[i] = '_'\n",
    "\n",
    "        \n",
    "print(ss)"
   ]
  },
  {
   "cell_type": "code",
   "execution_count": 18,
   "metadata": {},
   "outputs": [
    {
     "name": "stdout",
     "output_type": "stream",
     "text": [
      "Enter a string: this is tring\n",
      "['t', 'h', '_', 's', ' ', '_', 's', ' ', 't', 'r', '_', 'n', 'g']\n",
      "th_s _s tr_ng\n"
     ]
    }
   ],
   "source": [
    "s = input(\"Enter a string: \")\n",
    "vowels = 'aeiouAEIOU'\n",
    "r = [   '_' if c in vowels else c      for c in s ]\n",
    "\n",
    "print(r)\n",
    "ss = ''.join(r)\n",
    "print(ss)\n"
   ]
  },
  {
   "cell_type": "code",
   "execution_count": 19,
   "metadata": {},
   "outputs": [
    {
     "name": "stdout",
     "output_type": "stream",
     "text": [
      "this is a string with \n",
      "['this', 'string', 'with']\n"
     ]
    }
   ],
   "source": [
    "# WAP to keep only words with length atleast 3\n",
    "r = [ word       for word in input().split()      if len(word) >=3 ]\n",
    "print(r)\n",
    "\n",
    "# input()        :       this is a string with \n",
    "#input().split() :   ['this', 'is', 'a', 'string', 'with']\n",
    "# word : 'this': True  is : False  'a':False  'string': True      'with': True\n",
    "# []   :  ['this']     ['this']     ['this']  ['this', 'string']  ['this', 'string', 'with']"
   ]
  },
  {
   "cell_type": "code",
   "execution_count": 22,
   "metadata": {},
   "outputs": [
    {
     "name": "stdout",
     "output_type": "stream",
     "text": [
      "[10, 18, 11, 17, 18, 20, 10, 16, 10, 19, 13]\n",
      "[100, 324, 22, 34, 324, 400, 100, 256, 100, 38, 26]\n",
      "[11, 17, 19, 13]\n"
     ]
    }
   ],
   "source": [
    "# List comprehension to generate a list of 10 random numbers (10-20).\n",
    "import random\n",
    "a=[random.randrange(10,21) for i in range(11)]\n",
    "print(a)\n",
    "\n",
    "# if random number is even .. then square it otherwise multiply it by 2.\n",
    "def trans(x):\n",
    "    if x%2 == 0:\n",
    "        return x*x\n",
    "    else:\n",
    "        return x*2\n",
    "\n",
    "a1 = [ trans(num)   for num in a ]\n",
    "print(a1)\n",
    "\n",
    "# filter out all the even no's from the list a\n",
    "a2 = [ num for num in a if num%2 == 1 ]\n",
    "print(a2)"
   ]
  },
  {
   "cell_type": "code",
   "execution_count": 23,
   "metadata": {},
   "outputs": [
    {
     "name": "stdout",
     "output_type": "stream",
     "text": [
      "[(0, 4), (0, 5), (0, 6), (1, 4), (1, 5), (1, 6), (2, 4), (2, 5), (2, 6), (3, 4), (3, 5), (3, 6), (4, 4), (4, 5), (4, 6)]\n"
     ]
    }
   ],
   "source": [
    "r = [ (i,j)     for i in range(5)  for j in range(4,7) ]\n",
    "print(r)"
   ]
  },
  {
   "cell_type": "code",
   "execution_count": 24,
   "metadata": {},
   "outputs": [
    {
     "name": "stdout",
     "output_type": "stream",
     "text": [
      "['a', 'b', 'c', 'd', 'p', 'q', 'r', '1', '2', '3']\n"
     ]
    }
   ],
   "source": [
    "a = ['abcd' ,'pqr', '123']\n",
    "\n",
    "r = [c    for s in a     for c in s]\n",
    "print(r)"
   ]
  },
  {
   "cell_type": "code",
   "execution_count": 26,
   "metadata": {},
   "outputs": [
    {
     "name": "stdout",
     "output_type": "stream",
     "text": [
      "[10, 20, 304, 40, 1, 2, 3]\n"
     ]
    }
   ],
   "source": [
    "a = [ [10,20,304] , [40] , [1,2,3]]\n",
    "\n",
    "r = [c    for s in a     for c in s  ]\n",
    "print(r)"
   ]
  },
  {
   "cell_type": "code",
   "execution_count": 28,
   "metadata": {},
   "outputs": [
    {
     "name": "stdout",
     "output_type": "stream",
     "text": [
      "{1: 2, 10: 20}\n",
      "{1: -1, 2: -2, 3: -3, 4: -4, 5: -5}\n"
     ]
    }
   ],
   "source": [
    "d = dict( [(1,2), (10,20) ] )\n",
    "print(d)\n",
    "\n",
    "d = dict( [ (i,-i) for i in range(1,6)  ]  )\n",
    "print(d)"
   ]
  },
  {
   "cell_type": "markdown",
   "metadata": {},
   "source": [
    "## Dictionary Comprehension\n",
    "\n",
    "{ key:value for data in seq  }"
   ]
  },
  {
   "cell_type": "code",
   "execution_count": 31,
   "metadata": {},
   "outputs": [
    {
     "name": "stdout",
     "output_type": "stream",
     "text": [
      "{1: -1, 2: -2, 3: -3, 4: -4, 5: -5}\n"
     ]
    }
   ],
   "source": [
    "d = { i:-i for i in range(1,6) }\n",
    "print(d)"
   ]
  },
  {
   "cell_type": "code",
   "execution_count": null,
   "metadata": {},
   "outputs": [],
   "source": []
  },
  {
   "cell_type": "code",
   "execution_count": 41,
   "metadata": {},
   "outputs": [
    {
     "name": "stdout",
     "output_type": "stream",
     "text": [
      "Enter the option(+,-,/,*) Press e for exit:fdf\n",
      "Invalid option !!\n",
      "Enter the option(+,-,/,*) Press e for exit:s\n",
      "Invalid option !!\n",
      "Enter the option(+,-,/,*) Press e for exit:+\n",
      "Enter the number 1:343\n",
      "Enter the number 2:343\n",
      "686\n",
      "Enter the option(+,-,/,*) Press e for exit:e\n"
     ]
    }
   ],
   "source": [
    "# Input an option from user : +,-,/,*\n",
    "# take 2 numbers from user and apply the operation entered\n",
    "\n",
    "\n",
    "while True:\n",
    "    n = input(\"Enter the option(+,-,/,*) Press e for exit:\")\n",
    "    if n in list('+-/*'):\n",
    "        num1=int(input(\"Enter the number 1:\"))\n",
    "        num2=int(input(\"Enter the number 2:\"))\n",
    "\n",
    "        if n=='+':\n",
    "            print(num1+num2)\n",
    "        elif n=='-':\n",
    "            print(num1-num2)\n",
    "        elif n=='/':\n",
    "            print(num1//num2)\n",
    "        elif n=='*':\n",
    "            print(num1*num2)\n",
    "    elif n == 'e':\n",
    "        break\n",
    "    else:\n",
    "        print(\"Invalid option !!\")"
   ]
  },
  {
   "cell_type": "code",
   "execution_count": null,
   "metadata": {},
   "outputs": [],
   "source": [
    "hangman\n",
    "\n",
    "_ _ _ _ _ _ _  9\n",
    "\n",
    "a\n",
    "_ a _ _ _ a _  9\n",
    "\n",
    "e\n",
    "_ a _ _ _ a _  8\n",
    "\n",
    "h\n",
    "h a _ _ _ a _  7\n",
    "\n"
   ]
  },
  {
   "cell_type": "code",
   "execution_count": 43,
   "metadata": {},
   "outputs": [
    {
     "name": "stdout",
     "output_type": "stream",
     "text": [
      "Enter a number:sdd\n",
      "Enter a number:dsf\n",
      "Enter a number:3\n"
     ]
    }
   ],
   "source": [
    "from my_lib import *\n",
    "n = input_a_number()"
   ]
  }
 ],
 "metadata": {
  "kernelspec": {
   "display_name": "Python 3",
   "language": "python",
   "name": "python3"
  },
  "language_info": {
   "codemirror_mode": {
    "name": "ipython",
    "version": 3
   },
   "file_extension": ".py",
   "mimetype": "text/x-python",
   "name": "python",
   "nbconvert_exporter": "python",
   "pygments_lexer": "ipython3",
   "version": "3.7.3"
  }
 },
 "nbformat": 4,
 "nbformat_minor": 2
}
