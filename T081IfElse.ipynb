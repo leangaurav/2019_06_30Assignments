{
 "cells": [
  {
   "cell_type": "code",
   "execution_count": 80,
   "metadata": {},
   "outputs": [
    {
     "name": "stdout",
     "output_type": "stream",
     "text": [
      "Enter time in sec: 11\n"
     ]
    },
    {
     "ename": "KeyError",
     "evalue": "'h'",
     "output_type": "error",
     "traceback": [
      "\u001b[1;31m---------------------------------------------------------------------------\u001b[0m",
      "\u001b[1;31mKeyError\u001b[0m                                  Traceback (most recent call last)",
      "\u001b[1;32m<ipython-input-80-c40b32d3146a>\u001b[0m in \u001b[0;36m<module>\u001b[1;34m\u001b[0m\n\u001b[0;32m     13\u001b[0m \u001b[0mh\u001b[0m \u001b[1;33m%=\u001b[0m \u001b[1;36m24\u001b[0m\u001b[1;33m\u001b[0m\u001b[1;33m\u001b[0m\u001b[0m\n\u001b[0;32m     14\u001b[0m \u001b[1;33m\u001b[0m\u001b[0m\n\u001b[1;32m---> 15\u001b[1;33m \u001b[0mprint\u001b[0m\u001b[1;33m(\u001b[0m \u001b[1;34m\"{h}days {d}hrs {}minutes {}sec\"\u001b[0m\u001b[1;33m.\u001b[0m\u001b[0mformat\u001b[0m\u001b[1;33m(\u001b[0m\u001b[0md\u001b[0m\u001b[1;33m,\u001b[0m\u001b[0mh\u001b[0m\u001b[1;33m,\u001b[0m\u001b[0mm\u001b[0m\u001b[1;33m,\u001b[0m\u001b[0ms\u001b[0m\u001b[1;33m)\u001b[0m \u001b[1;33m)\u001b[0m\u001b[1;33m\u001b[0m\u001b[1;33m\u001b[0m\u001b[0m\n\u001b[0m",
      "\u001b[1;31mKeyError\u001b[0m: 'h'"
     ]
    }
   ],
   "source": [
    "s = int(input(\"Enter time in sec: \"))\n",
    "\n",
    "# sec to min\n",
    "m = s // 60\n",
    "s = s % 60\n",
    "\n",
    "# min to hrs\n",
    "h = m // 60\n",
    "m = m %60\n",
    "\n",
    "# hrs to days\n",
    "d = h//24\n",
    "h %= 24\n",
    "\n",
    "print( \"{}days {}hrs {}minutes {}sec\".format(d,h,m,s) )"
   ]
  },
  {
   "cell_type": "code",
   "execution_count": 8,
   "metadata": {},
   "outputs": [
    {
     "name": "stdout",
     "output_type": "stream",
     "text": [
      "*\n",
      "**\n",
      "***\n",
      "****\n",
      "*****\n"
     ]
    }
   ],
   "source": [
    "for i in range(5):\n",
    "  for j in range(i+1):\n",
    "    print('*', end = '')\n",
    "  print()"
   ]
  },
  {
   "cell_type": "code",
   "execution_count": 12,
   "metadata": {},
   "outputs": [
    {
     "name": "stdout",
     "output_type": "stream",
     "text": [
      "     * \n",
      "    * * \n",
      "   * * * \n",
      "  * * * * \n",
      " * * * * * \n"
     ]
    }
   ],
   "source": [
    "for i in range(5):\n",
    "  for j in range(5 -i):\n",
    "    print(' ',end = '')\n",
    "  for j in range(i+1):\n",
    "    print('* ', end = '')\n",
    "  print()"
   ]
  },
  {
   "cell_type": "code",
   "execution_count": 25,
   "metadata": {},
   "outputs": [
    {
     "name": "stdout",
     "output_type": "stream",
     "text": [
      "['abc', 'abc']\n",
      "Abc Abc\n",
      "['abc', '12abc']\n",
      "Abc 12abc\n",
      "['abc']\n",
      "Abc\n",
      "[]\n",
      "\n",
      "['abcabc']\n",
      "Abcabc\n",
      "['a', 'b', 'c', '12abc']\n",
      "A B C 12abc\n",
      "['123', '123']\n",
      "123 123\n",
      "['abc', 'a12abc']\n",
      "Abc A12abc\n",
      "['ABC', '12abc']\n",
      "Abc 12abc\n"
     ]
    }
   ],
   "source": [
    "\n",
    "def solve(s):\n",
    "    a = s.split()\n",
    "    print(a)\n",
    "    res = []\n",
    "    for data in a:\n",
    "        res.append(data.capitalize())\n",
    "    return ' '.join( res )\n",
    "\n",
    "print(solve('abc abc'))\n",
    "print(solve('abc 12abc'))\n",
    "print(solve('abc'))\n",
    "print(solve(''))\n",
    "print(solve('abcabc'))\n",
    "print(solve('a b c 12abc'))\n",
    "print(solve('123 123'))\n",
    "print(solve('abc a12abc'))\n",
    "print(solve('ABC   12abc'))"
   ]
  },
  {
   "cell_type": "code",
   "execution_count": 26,
   "metadata": {},
   "outputs": [
    {
     "name": "stdout",
     "output_type": "stream",
     "text": [
      "Enter a base:3\n",
      "Enter a power:5\n",
      "243\n"
     ]
    }
   ],
   "source": [
    "# n , e n^e using a for/ while loop\n",
    "n=int(input(\"Enter a base:\"))\n",
    "e=int(input(\"Enter a power:\"))\n",
    "mul=1\n",
    "for _ in range(e):\n",
    "    mul *= n    \n",
    "print(mul)\n",
    "\n",
    "# n = 3, e = 5\n",
    "# mul 1  3 9  27  81 243\n",
    "#  _     0 1  2   3   4\n",
    "# (((3) * 3) * 3) * 3 * 3"
   ]
  },
  {
   "cell_type": "code",
   "execution_count": null,
   "metadata": {
    "collapsed": true
   },
   "outputs": [],
   "source": [
    "if <condition>:\n",
    "    # code\n",
    "else:\n",
    "    # code for else"
   ]
  },
  {
   "cell_type": "code",
   "execution_count": 28,
   "metadata": {},
   "outputs": [
    {
     "name": "stdout",
     "output_type": "stream",
     "text": [
      "Enter number:11\n",
      "Odd\n",
      "Odd\n",
      "Odd\n"
     ]
    }
   ],
   "source": [
    "n = int(input(\"Enter number:\"))\n",
    "\n",
    "if n%2:\n",
    "    print(\"Odd\")\n",
    "else:\n",
    "    print(\"Even\")\n",
    "    \n",
    "\n",
    "if n%2 == 1:\n",
    "    print(\"Odd\")\n",
    "else:\n",
    "    print(\"Even\")\n",
    "    \n",
    "if n%2 ==0 :\n",
    "    print(\"EVen\")\n",
    "else:\n",
    "    print(\"Odd\")\n",
    "    \n",
    "\n",
    "if not n%2:\n",
    "    print(\"EVen\")\n",
    "else:\n",
    "    print(\"Odd\")"
   ]
  },
  {
   "cell_type": "code",
   "execution_count": 31,
   "metadata": {},
   "outputs": [
    {
     "name": "stdout",
     "output_type": "stream",
     "text": [
      "abbA\n",
      "Yes\n"
     ]
    }
   ],
   "source": [
    "# WAP to input a string and print pallindrome or not\n",
    "# 'abc' : Not\n",
    "# 'aba' : Yes\n",
    "# 'aBcbA': yes\n",
    "\n",
    "s = input().upper()\n",
    "\n",
    "s1 = s[::-1]\n",
    "\n",
    "if s1 == s:\n",
    "    print(\"Yes\")\n",
    "else:\n",
    "    print(\"No\")"
   ]
  },
  {
   "cell_type": "code",
   "execution_count": 35,
   "metadata": {},
   "outputs": [
    {
     "name": "stdout",
     "output_type": "stream",
     "text": [
      "12 ab ABC\n",
      "3 2\n"
     ]
    }
   ],
   "source": [
    "# WAP to input a string and count no of capital and small alphabets\n",
    "uc = 0\n",
    "lc = 0\n",
    "s = input()\n",
    "\n",
    "for c in s:\n",
    "    uc += (c.isupper())\n",
    "    lc += (c.islower()) # True=>1 False=>0\n",
    "    \n",
    "print(uc, lc)"
   ]
  },
  {
   "cell_type": "code",
   "execution_count": 34,
   "metadata": {},
   "outputs": [
    {
     "name": "stdout",
     "output_type": "stream",
     "text": [
      "N1:3\n",
      "N2:6\n",
      "N3:7\n",
      "7\n"
     ]
    }
   ],
   "source": [
    "n1 = int(input(\"N1:\"))\n",
    "n2 = int(input(\"N2:\"))\n",
    "n3 = int(input(\"N3:\"))\n",
    "\n",
    "if n1 > n2:\n",
    "    if n1 > n3:\n",
    "        print(n1)\n",
    "    else:\n",
    "        print(n3)\n",
    "else:\n",
    "    if n2 > n3:\n",
    "        print(n2)\n",
    "    else:\n",
    "        print(n3)\n"
   ]
  },
  {
   "cell_type": "code",
   "execution_count": null,
   "metadata": {},
   "outputs": [],
   "source": [
    "n = int(input())\n",
    "\n",
    "if n == 0:\n",
    "    print(\"Zero\")\n",
    "else:\n",
    "    if n >0:\n",
    "        print(\"Positive\")\n",
    "    else:\n",
    "        print(\"NEgative\")"
   ]
  },
  {
   "cell_type": "code",
   "execution_count": null,
   "metadata": {},
   "outputs": [],
   "source": [
    "if <condition>:\n",
    "    # code\n",
    "elif <condition>:\n",
    "    # code\n",
    "    ..\n",
    "    ..\n",
    "    ..\n",
    "else: # optional\n",
    "    # code"
   ]
  },
  {
   "cell_type": "code",
   "execution_count": null,
   "metadata": {},
   "outputs": [],
   "source": [
    "n = int(input())\n",
    "\n",
    "if n == 0:\n",
    "    print(\"Zero\")\n",
    "elif n >0:\n",
    "    print(\"Positive\")\n",
    "else:\n",
    "    print(\"NEgative\")"
   ]
  },
  {
   "cell_type": "markdown",
   "metadata": {},
   "source": [
    "### Logical operators\n",
    "- and\n",
    "- or\n",
    "- not"
   ]
  },
  {
   "cell_type": "code",
   "execution_count": 39,
   "metadata": {},
   "outputs": [
    {
     "name": "stdout",
     "output_type": "stream",
     "text": [
      "False\n",
      "True\n",
      "\n",
      "False\n",
      "True\n",
      "\n",
      "False\n",
      "True\n",
      "False\n",
      "\n",
      "False\n",
      "True\n"
     ]
    }
   ],
   "source": [
    "print( not True)\n",
    "print( not False)\n",
    "\n",
    "print()\n",
    "print( not 1)\n",
    "print( not 0)\n",
    "\n",
    "print()\n",
    "print( not 'abcd')\n",
    "print( not '')\n",
    "print( not ' ')\n",
    "\n",
    "print()\n",
    "x = 10\n",
    "print(x > 10)\n",
    "print(not x > 10)"
   ]
  },
  {
   "cell_type": "code",
   "execution_count": 42,
   "metadata": {},
   "outputs": [
    {
     "name": "stdout",
     "output_type": "stream",
     "text": [
      "False\n",
      "True\n",
      "False\n",
      "True\n"
     ]
    }
   ],
   "source": [
    "print(True and False) # First false value or last True\n",
    "print(True and True)\n",
    "print(True and False and True)\n",
    "print(True and True and True)"
   ]
  },
  {
   "cell_type": "code",
   "execution_count": 46,
   "metadata": {},
   "outputs": [
    {
     "name": "stdout",
     "output_type": "stream",
     "text": [
      "2\n",
      "0\n",
      "0\n",
      "2\n"
     ]
    }
   ],
   "source": [
    "print( 1 and 2 )\n",
    "print( 1 and 0 )\n",
    "print( 1 and 0 and 2)\n",
    "print( 1 and 3 and 2)"
   ]
  },
  {
   "cell_type": "code",
   "execution_count": 48,
   "metadata": {},
   "outputs": [
    {
     "name": "stdout",
     "output_type": "stream",
     "text": [
      "1\n",
      "1\n",
      "1\n",
      "1\n",
      "3\n",
      "[]\n"
     ]
    }
   ],
   "source": [
    "print( 1 or 2 )\n",
    "print( 1 or 0 )\n",
    "print( 1 or 0 or 2)\n",
    "print( 1 or 3 or 2)\n",
    "print( 0 or 3 or 2)\n",
    "print( 0 or False or [])"
   ]
  },
  {
   "cell_type": "code",
   "execution_count": 52,
   "metadata": {},
   "outputs": [
    {
     "name": "stdout",
     "output_type": "stream",
     "text": [
      "11\n",
      "Not\n"
     ]
    }
   ],
   "source": [
    "# WAP to input a no and print multiple of 3 or not\n",
    "n = int(input())\n",
    "\n",
    "if n%3 == 0:\n",
    "    print(\"Yes\")\n",
    "else:\n",
    "    print(\"Not\")"
   ]
  },
  {
   "cell_type": "code",
   "execution_count": 59,
   "metadata": {},
   "outputs": [
    {
     "name": "stdout",
     "output_type": "stream",
     "text": [
      "0\n",
      "Yes\n"
     ]
    }
   ],
   "source": [
    "# WAP to input a no and print multiple of both 3 and 5 or not\n",
    "n = int(input())\n",
    "\n",
    "if n%3 == 0 and n%5 == 0:\n",
    "    print(\"Yes\")\n",
    "else:\n",
    "    print(\"Not\")"
   ]
  },
  {
   "cell_type": "code",
   "execution_count": 62,
   "metadata": {},
   "outputs": [
    {
     "name": "stdout",
     "output_type": "stream",
     "text": [
      "30\n",
      "Yes\n"
     ]
    }
   ],
   "source": [
    "# WAP to input a no and print multiple of either 3 or 5 or not\n",
    "n = int(input())\n",
    "\n",
    "if n%3 == 0 or n%5 == 0:\n",
    "    print(\"Yes\")\n",
    "else:\n",
    "    print(\"Not\")"
   ]
  },
  {
   "cell_type": "code",
   "execution_count": 69,
   "metadata": {},
   "outputs": [
    {
     "name": "stdout",
     "output_type": "stream",
     "text": [
      "10\n",
      "1-100\n",
      "1-100\n"
     ]
    }
   ],
   "source": [
    "# WAP to input a no.. and check if it lies b/w 0-100 or not\n",
    "\n",
    "n = int(input())\n",
    "if n >= 0 and n <= 100:\n",
    "    print(\"1-100\")\n",
    "else:\n",
    "    print(\"Out of range\")\n",
    "    \n",
    "if 0 <= n <= 100:\n",
    "    print(\"1-100\")\n",
    "else:\n",
    "    print(\"Out of range\")"
   ]
  },
  {
   "cell_type": "code",
   "execution_count": 74,
   "metadata": {},
   "outputs": [
    {
     "name": "stdout",
     "output_type": "stream",
     "text": [
      "10\n",
      "True\n",
      "False\n"
     ]
    }
   ],
   "source": [
    "n = int(input())\n",
    "\n",
    "print( n >= 10 or n <= 100 ) # always True\n",
    "print( n >= 100 and n <= 10 ) # always False"
   ]
  },
  {
   "cell_type": "code",
   "execution_count": 77,
   "metadata": {},
   "outputs": [
    {
     "name": "stdout",
     "output_type": "stream",
     "text": [
      "Enter number:11\n",
      "Odd\n"
     ]
    }
   ],
   "source": [
    "# Ternary operator ?:\n",
    "# <Value1> if <condition> else <value2>\n",
    "\n",
    "\n",
    "n = int(input(\"Enter number:\"))\n",
    "\n",
    "r = \"even\" if n%2 ==0 else 'Odd'\n",
    "\n",
    "print(r)"
   ]
  },
  {
   "cell_type": "code",
   "execution_count": null,
   "metadata": {},
   "outputs": [],
   "source": []
  },
  {
   "cell_type": "code",
   "execution_count": null,
   "metadata": {},
   "outputs": [],
   "source": []
  }
 ],
 "metadata": {
  "kernelspec": {
   "display_name": "Python 3",
   "language": "python",
   "name": "python3"
  },
  "language_info": {
   "codemirror_mode": {
    "name": "ipython",
    "version": 3
   },
   "file_extension": ".py",
   "mimetype": "text/x-python",
   "name": "python",
   "nbconvert_exporter": "python",
   "pygments_lexer": "ipython3",
   "version": "3.7.3"
  }
 },
 "nbformat": 4,
 "nbformat_minor": 2
}
