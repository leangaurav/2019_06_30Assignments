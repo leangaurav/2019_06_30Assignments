{
 "cells": [
  {
   "cell_type": "code",
   "execution_count": 1,
   "metadata": {
    "collapsed": false
   },
   "outputs": [
    {
     "name": "stdout",
     "output_type": "stream",
     "text": [
      "Enter list of numbers separated by space : 12\n",
      "[12]\n"
     ]
    }
   ],
   "source": [
    "def input_list_numbers():\n",
    "    s = input(\"Enter list of numbers separated by space : \")\n",
    "    l = s.split()\n",
    "    res = []\n",
    "    for data in l:\n",
    "        res.append(int(data))\n",
    "    return res\n",
    "\n",
    "\n",
    "l = input_list_numbers()\n",
    "print(l)"
   ]
  },
  {
   "cell_type": "code",
   "execution_count": 2,
   "metadata": {
    "collapsed": false
   },
   "outputs": [
    {
     "name": "stdout",
     "output_type": "stream",
     "text": [
      "Enter n:123\n",
      "1\n",
      "3\n",
      "5\n",
      "7\n",
      "9\n",
      "11\n",
      "13\n",
      "15\n",
      "17\n",
      "19\n",
      "21\n",
      "23\n",
      "25\n",
      "27\n",
      "29\n",
      "31\n",
      "33\n",
      "35\n",
      "37\n",
      "39\n",
      "41\n",
      "43\n",
      "45\n",
      "47\n",
      "49\n",
      "51\n",
      "53\n",
      "55\n",
      "57\n",
      "59\n",
      "61\n",
      "63\n",
      "65\n",
      "67\n",
      "69\n",
      "71\n",
      "73\n",
      "75\n",
      "77\n",
      "79\n",
      "81\n",
      "83\n",
      "85\n",
      "87\n",
      "89\n",
      "91\n",
      "93\n",
      "95\n",
      "97\n",
      "99\n",
      "101\n",
      "103\n",
      "105\n",
      "107\n",
      "109\n",
      "111\n",
      "113\n",
      "115\n",
      "117\n",
      "119\n",
      "121\n",
      "123\n",
      "\n",
      "123\n",
      "122\n",
      "121\n",
      "120\n",
      "119\n",
      "118\n",
      "117\n",
      "116\n",
      "115\n",
      "114\n",
      "113\n",
      "112\n",
      "111\n",
      "110\n",
      "109\n",
      "108\n",
      "107\n",
      "106\n",
      "105\n",
      "104\n",
      "103\n",
      "102\n",
      "101\n",
      "100\n",
      "99\n",
      "98\n",
      "97\n",
      "96\n",
      "95\n",
      "94\n",
      "93\n",
      "92\n",
      "91\n",
      "90\n",
      "89\n",
      "88\n",
      "87\n",
      "86\n",
      "85\n",
      "84\n",
      "83\n",
      "82\n",
      "81\n",
      "80\n",
      "79\n",
      "78\n",
      "77\n",
      "76\n",
      "75\n",
      "74\n",
      "73\n",
      "72\n",
      "71\n",
      "70\n",
      "69\n",
      "68\n",
      "67\n",
      "66\n",
      "65\n",
      "64\n",
      "63\n",
      "62\n",
      "61\n",
      "60\n",
      "59\n",
      "58\n",
      "57\n",
      "56\n",
      "55\n",
      "54\n",
      "53\n",
      "52\n",
      "51\n",
      "50\n",
      "49\n",
      "48\n",
      "47\n",
      "46\n",
      "45\n",
      "44\n",
      "43\n",
      "42\n",
      "41\n",
      "40\n",
      "39\n",
      "38\n",
      "37\n",
      "36\n",
      "35\n",
      "34\n",
      "33\n",
      "32\n",
      "31\n",
      "30\n",
      "29\n",
      "28\n",
      "27\n",
      "26\n",
      "25\n",
      "24\n",
      "23\n",
      "22\n",
      "21\n",
      "20\n",
      "19\n",
      "18\n",
      "17\n",
      "16\n",
      "15\n",
      "14\n",
      "13\n",
      "12\n",
      "11\n",
      "10\n",
      "9\n",
      "8\n",
      "7\n",
      "6\n",
      "5\n",
      "4\n",
      "3\n",
      "2\n",
      "1\n"
     ]
    }
   ],
   "source": [
    "# WAP to print no.. 1,3,5...n\n",
    "n = int(input(\"Enter n:\"))\n",
    "for i in range(1, n + 1, 2):\n",
    "    print(i)\n",
    "# WAP to print no.. from n to 1  Ex: n= 10   10 9 8 7 ...1\n",
    "\n",
    "print()\n",
    "for i in range(n, 0, -1):\n",
    "    print(i)"
   ]
  },
  {
   "cell_type": "code",
   "execution_count": 3,
   "metadata": {
    "collapsed": false
   },
   "outputs": [
    {
     "name": "stdout",
     "output_type": "stream",
     "text": [
      "[30, 20, 10]\n"
     ]
    }
   ],
   "source": [
    "a = [10,20,30]\n",
    "\n",
    "t = a[0] #[10,20,30]  t:10\n",
    "a[0] = a[-1] # [30,20,30] t:10\n",
    "a[-1] = t  # [30,20,10]\n",
    "\n",
    "print(a)"
   ]
  },
  {
   "cell_type": "code",
   "execution_count": 4,
   "metadata": {
    "collapsed": false
   },
   "outputs": [
    {
     "name": "stdout",
     "output_type": "stream",
     "text": [
      "50\n",
      "40\n",
      "30\n",
      "20\n",
      "10\n",
      "\n",
      "50\n",
      "40\n",
      "30\n",
      "20\n",
      "10\n"
     ]
    }
   ],
   "source": [
    "# given a list. WAP to print list in reverse order\n",
    "a = [10,20,30,40,50]\n",
    "\n",
    "i = len(a) - 1\n",
    "while i >= 0:\n",
    "    print(a[i])\n",
    "    i -= 1\n",
    "    \n",
    "#4 3 2 1 0\n",
    "print()\n",
    "i = 1\n",
    "while i <= len(a):\n",
    "    print(a[-i])\n",
    "    i+=1"
   ]
  },
  {
   "cell_type": "markdown",
   "metadata": {},
   "source": [
    " ## for loop"
   ]
  },
  {
   "cell_type": "code",
   "execution_count": 5,
   "metadata": {
    "collapsed": false
   },
   "outputs": [
    {
     "name": "stdout",
     "output_type": "stream",
     "text": [
      "10\n",
      "20\n",
      "30\n",
      "abc\n",
      "True\n"
     ]
    }
   ],
   "source": [
    "a = [10,20,30, 'abc',True]\n",
    "\n",
    "for x in a: # correct way\n",
    "    print(x)\n",
    "    \n",
    "#for <var> in <seq/iterable>:\n",
    "    # some code"
   ]
  },
  {
   "cell_type": "code",
   "execution_count": 6,
   "metadata": {
    "collapsed": false
   },
   "outputs": [
    {
     "name": "stdout",
     "output_type": "stream",
     "text": [
      "A\n",
      "B\n",
      "C\n",
      "D\n"
     ]
    }
   ],
   "source": [
    "for s in 'ABCD':\n",
    "    print(s)"
   ]
  },
  {
   "cell_type": "code",
   "execution_count": 7,
   "metadata": {
    "collapsed": false
   },
   "outputs": [
    {
     "name": "stdout",
     "output_type": "stream",
     "text": [
      "range(0, 10)\n",
      "[0, 1, 2, 3, 4, 5, 6, 7, 8, 9]\n",
      "range(10, 20)\n",
      "[10, 11, 12, 13, 14, 15, 16, 17, 18, 19]\n",
      "range(10, 20, 2)\n",
      "[10, 12, 14, 16, 18]\n"
     ]
    }
   ],
   "source": [
    "r1 = range(10) # looks and behaves like a sequence\n",
    "print(r1)\n",
    "print(list(r1))\n",
    "r1 = range(10,20) # 10-19\n",
    "print(r1)\n",
    "\n",
    "print(list(r1))\n",
    "\n",
    "r1 = range(10,20,2) # 10,12,14... 18\n",
    "print(r1)\n",
    "print(list(r1))"
   ]
  },
  {
   "cell_type": "code",
   "execution_count": null,
   "metadata": {
    "collapsed": false
   },
   "outputs": [
    {
     "name": "stdout",
     "output_type": "stream",
     "text": [
      "1\n",
      "2\n",
      "3\n",
      "4\n",
      "5\n",
      "6\n",
      "7\n",
      "8\n",
      "9\n",
      "10\n",
      "11\n",
      "12\n",
      "13\n",
      "14\n",
      "15\n",
      "16\n",
      "17\n",
      "18\n",
      "19\n",
      "20\n"
     ]
    }
   ],
   "source": [
    "# WAP to print no. from 1-20\n",
    "for i in range(1,21):\n",
    "    print(i)"
   ]
  },
  {
   "cell_type": "code",
   "execution_count": null,
   "metadata": {
    "collapsed": false
   },
   "outputs": [],
   "source": [
    "# for loop cannot be used here.\n",
    "x = ''\n",
    "\n",
    "#while x != 'exit':\n",
    "#    x = input(\"Enter something(Type exit to exit):\")\n",
    "#    print(\"You entered : \", x)\n"
   ]
  },
  {
   "cell_type": "code",
   "execution_count": null,
   "metadata": {
    "collapsed": false
   },
   "outputs": [],
   "source": [
    "a = [10,20,'ab',10.444]\n",
    "\n",
    "for i in range(len(a)-1 , -1, -1):\n",
    "    print(a[i])\n",
    "    \n",
    "print()\n",
    "for x in reversed(a):\n",
    "    print(x)"
   ]
  },
  {
   "cell_type": "code",
   "execution_count": null,
   "metadata": {
    "collapsed": false
   },
   "outputs": [],
   "source": [
    "a = [10,20,30,40,]\n",
    "r = reversed(a)\n",
    "print(r, a)\n",
    "\n",
    "for data in r:\n",
    "    print(data)"
   ]
  },
  {
   "cell_type": "markdown",
   "metadata": {},
   "source": [
    "### Patterns"
   ]
  },
  {
   "cell_type": "code",
   "execution_count": null,
   "metadata": {
    "collapsed": false
   },
   "outputs": [],
   "source": [
    "#####\n",
    "for i in range(5):\n",
    "    print(\"#\" , end ='')"
   ]
  },
  {
   "cell_type": "code",
   "execution_count": null,
   "metadata": {
    "collapsed": false
   },
   "outputs": [],
   "source": [
    "#####  nested for loop\n",
    "for i in range(5):\n",
    "    for j in range(5):\n",
    "        print(\"#\" , end ='')"
   ]
  },
  {
   "cell_type": "code",
   "execution_count": null,
   "metadata": {
    "collapsed": false
   },
   "outputs": [],
   "source": [
    "#####  nested for loop\n",
    "for i in range(5): # outer\n",
    "    for j in range(5): # inner\n",
    "        print(\"#\" , end ='')\n",
    "    print()"
   ]
  },
  {
   "cell_type": "code",
   "execution_count": null,
   "metadata": {
    "collapsed": false
   },
   "outputs": [],
   "source": [
    "\n",
    "for i in range(5): # outer: lines\n",
    "    for j in range(i+1): # inner: no of symbols in a line\n",
    "        print(\"*\" , end ='')\n",
    "    print()\n",
    "# i  0    1         2\n",
    "# j  0 1x  0  1 2x  0  1  2 3x\n",
    "#*\n",
    "#**\n",
    "#***\n"
   ]
  },
  {
   "cell_type": "code",
   "execution_count": null,
   "metadata": {
    "collapsed": false
   },
   "outputs": [],
   "source": [
    "\n",
    "for i in range(5): # outer: lines\n",
    "    for j in range(5 - i): # inner: no of symbols in a line\n",
    "        print(\"*\" , end ='')\n",
    "    print()\n"
   ]
  },
  {
   "cell_type": "code",
   "execution_count": null,
   "metadata": {
    "collapsed": false
   },
   "outputs": [],
   "source": [
    "\n",
    "for i in range(5): # outer: lines\n",
    "    for j in range(5 - i): # inner: no of symbols in a line\n",
    "        print(\" \" , end ='')\n",
    "    for j in range(i+1): # inner: no of symbols in a line\n",
    "        print(\"*\" , end ='')\n",
    "    print()"
   ]
  },
  {
   "cell_type": "code",
   "execution_count": null,
   "metadata": {
    "collapsed": false
   },
   "outputs": [],
   "source": [
    "\n",
    "for i in range(5): # outer: lines\n",
    "    for j in range(i+1): # inner: no of symbols in a line\n",
    "        print(i+1, end ='')\n",
    "    print()\n"
   ]
  },
  {
   "cell_type": "code",
   "execution_count": null,
   "metadata": {
    "collapsed": false
   },
   "outputs": [],
   "source": [
    "\n",
    "for i in range(5): # outer: lines\n",
    "    for j in range(i+1): # inner: no of symbols in a line\n",
    "        print(j+1, end ='')\n",
    "    print()\n"
   ]
  },
  {
   "cell_type": "code",
   "execution_count": null,
   "metadata": {
    "collapsed": false
   },
   "outputs": [],
   "source": [
    "\n",
    "for i in range(5): # outer: lines\n",
    "    for j in range(i+1): # inner: no of symbols in a line\n",
    "        print(5- i, end ='')\n",
    "    print()\n"
   ]
  },
  {
   "cell_type": "code",
   "execution_count": null,
   "metadata": {
    "collapsed": false
   },
   "outputs": [],
   "source": [
    "a = [i for i in range(10,60,10)]\n",
    "print(a)\n",
    "\n",
    "for i in range(len(a)//2):\n",
    "    a[i],a[len(a) -i - 1] = a[len(a) -i - 1], a[i]\n",
    "print(a)"
   ]
  },
  {
   "cell_type": "code",
   "execution_count": null,
   "metadata": {
    "collapsed": false
   },
   "outputs": [],
   "source": [
    "a = [i for i in range(10,60,10)]# list comprehension\n",
    "print(a)\n",
    "\n",
    "i = 0\n",
    "j = len(a) - 1\n",
    "while i < j:\n",
    "    a[i], a[j] = a[j],a[i]\n",
    "    i+=1\n",
    "    j-=1\n",
    "\n",
    "print(a)"
   ]
  },
  {
   "cell_type": "code",
   "execution_count": null,
   "metadata": {
    "collapsed": false
   },
   "outputs": [],
   "source": [
    "import random\n",
    "l = [random.randint(10,100) for i in range(10)]\n",
    "print(l)"
   ]
  },
  {
   "cell_type": "code",
   "execution_count": null,
   "metadata": {
    "collapsed": false
   },
   "outputs": [],
   "source": [
    "a = [80, 42, 67, 21, 83, 16, 64, 87, 48, 53]\n",
    "\n",
    "m = a[0]\n",
    "\n",
    "for data in a:\n",
    "    if data > m:\n",
    "        m = data\n",
    "        \n",
    "print(m)"
   ]
  },
  {
   "cell_type": "code",
   "execution_count": 1,
   "metadata": {
    "collapsed": false
   },
   "outputs": [
    {
     "name": "stdout",
     "output_type": "stream",
     "text": [
      "7\n"
     ]
    }
   ],
   "source": [
    "a = [80, 42, 67, 21, 83, 16, 64, 87, 48, 53]\n",
    "#     0  1    2   3   4   5   6   7   8  9\n",
    "\n",
    "m = 0\n",
    "\n",
    "for i in range(len(a)):\n",
    "    if a[i] > a[m]:\n",
    "        m = i\n",
    "        \n",
    "print(m)\n",
    "# m 0  0  0  0  0->4  4  4  4->7  7  7\n",
    "# i 0  1  2  3  4     5  6  7     8  9\n",
    "\n"
   ]
  },
  {
   "cell_type": "code",
   "execution_count": 2,
   "metadata": {
    "collapsed": false
   },
   "outputs": [
    {
     "name": "stdout",
     "output_type": "stream",
     "text": [
      "87\n",
      "7\n"
     ]
    }
   ],
   "source": [
    "a = [80, 42, 67, 21, 83, 16, 64, 87, 48, 53]\n",
    "#     0  1    2   3   4   5   6   7   8  9\n",
    "\n",
    "m = a[0]\n",
    "m_idx = 0\n",
    "\n",
    "for i, data in enumerate(a):\n",
    "    if data > m:\n",
    "        m_idx = i\n",
    "        m = data\n",
    "        \n",
    "print(m)\n",
    "print(m_idx)\n",
    "# m 0  0  0  0  0->4  4  4  4->7  7  7\n",
    "# i 0  1  2  3  4     5  6  7     8  9\n",
    "\n",
    "\n"
   ]
  },
  {
   "cell_type": "code",
   "execution_count": 3,
   "metadata": {
    "collapsed": false
   },
   "outputs": [
    {
     "name": "stdout",
     "output_type": "stream",
     "text": [
      "1.0\n"
     ]
    }
   ],
   "source": [
    "def triangle(b, h ):\n",
    "    t = 1/2 * b * h\n",
    "    return t\n",
    "\n",
    "print(triangle(1,2))"
   ]
  },
  {
   "cell_type": "code",
   "execution_count": 4,
   "metadata": {
    "collapsed": false
   },
   "outputs": [
    {
     "name": "stdout",
     "output_type": "stream",
     "text": [
      "Python de\n"
     ]
    }
   ],
   "source": [
    "str = \"Python delimiters\"\n",
    "print(str[:-8])"
   ]
  },
  {
   "cell_type": "code",
   "execution_count": 5,
   "metadata": {
    "collapsed": false
   },
   "outputs": [
    {
     "name": "stdout",
     "output_type": "stream",
     "text": [
      "['this', 'is', 'a', 'string', 'to', 'practice']\n",
      "None\n"
     ]
    }
   ],
   "source": [
    "import re\n",
    "def pattern_find(str):\n",
    "    \n",
    "    pattern = re.sub(r\".,\", \" \", str)\n",
    "    print(pattern.split())\n",
    "\n",
    "    \n",
    "str = \"this is a string to.,practice\"\n",
    "print(pattern_find(str))"
   ]
  },
  {
   "cell_type": "code",
   "execution_count": null,
   "metadata": {
    "collapsed": false
   },
   "outputs": [],
   "source": [
    "def get_ci():\n",
    "        p= int(input())\n",
    "        r =int(input())\n",
    "        t =int(input())\n",
    "        ci = p*((1+(r/100))**t)\n",
    "        return ci\n",
    "\n",
    "print(get_ci())"
   ]
  },
  {
   "cell_type": "code",
   "execution_count": null,
   "metadata": {
    "collapsed": false
   },
   "outputs": [],
   "source": [
    "def get_q_r(a,b):\n",
    "    p=(a/b,a%b)\n",
    "    return p\n",
    "\n",
    "print(get_q_r(10,20))"
   ]
  },
  {
   "cell_type": "raw",
   "metadata": {},
   "source": []
  },
  {
   "cell_type": "markdown",
   "metadata": {},
   "source": [
    "###### "
   ]
  },
  {
   "cell_type": "code",
   "execution_count": null,
   "metadata": {
    "collapsed": true
   },
   "outputs": [],
   "source": []
  },
  {
   "cell_type": "code",
   "execution_count": null,
   "metadata": {
    "collapsed": true
   },
   "outputs": [],
   "source": []
  },
  {
   "cell_type": "code",
   "execution_count": null,
   "metadata": {
    "collapsed": true
   },
   "outputs": [],
   "source": []
  }
 ],
 "metadata": {
  "anaconda-cloud": {},
  "kernelspec": {
   "display_name": "Python [Root]",
   "language": "python",
   "name": "Python [Root]"
  },
  "language_info": {
   "codemirror_mode": {
    "name": "ipython",
    "version": 3
   },
   "file_extension": ".py",
   "mimetype": "text/x-python",
   "name": "python",
   "nbconvert_exporter": "python",
   "pygments_lexer": "ipython3",
   "version": "3.5.2"
  }
 },
 "nbformat": 4,
 "nbformat_minor": 2
}
