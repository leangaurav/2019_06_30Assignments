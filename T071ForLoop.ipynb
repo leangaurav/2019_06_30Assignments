{
 "cells": [
  {
   "cell_type": "code",
   "execution_count": 23,
   "metadata": {
    "collapsed": false
   },
   "outputs": [
    {
     "name": "stdout",
     "output_type": "stream",
     "text": [
      "Enter list of numbers separated by space : 10\n",
      "[10]\n"
     ]
    }
   ],
   "source": [
    "def input_list_numbers():\n",
    "    s = input(\"Enter list of numbers separated by space : \")\n",
    "    l = s.split()\n",
    "    res = []\n",
    "    for data in l:\n",
    "        res.append(int(data))\n",
    "    return res\n",
    "\n",
    "\n",
    "l = input_list_numbers()\n",
    "print(l)"
   ]
  },
  {
   "cell_type": "code",
   "execution_count": 28,
   "metadata": {
    "collapsed": false
   },
   "outputs": [
    {
     "name": "stdout",
     "output_type": "stream",
     "text": [
      "Enter n:9\n",
      "1\n",
      "3\n",
      "5\n",
      "7\n",
      "9\n",
      "\n",
      "9\n",
      "8\n",
      "7\n",
      "6\n",
      "5\n",
      "4\n",
      "3\n",
      "2\n",
      "1\n"
     ]
    }
   ],
   "source": [
    "# WAP to print no.. 1,3,5...n\n",
    "n = int(input(\"Enter n:\"))\n",
    "for i in range(1, n + 1, 2):\n",
    "    print(i)\n",
    "# WAP to print no.. from n to 1  Ex: n= 10   10 9 8 7 ...1\n",
    "\n",
    "print()\n",
    "for i in range(n, 0, -1):\n",
    "    print(i)"
   ]
  },
  {
   "cell_type": "code",
   "execution_count": 3,
   "metadata": {
    "collapsed": false
   },
   "outputs": [
    {
     "name": "stdout",
     "output_type": "stream",
     "text": [
      "[30, 20, 10]\n"
     ]
    }
   ],
   "source": [
    "a = [10,20,30]\n",
    "\n",
    "t = a[0] #[10,20,30]  t:10\n",
    "a[0] = a[-1] # [30,20,30] t:10\n",
    "a[-1] = t  # [30,20,10]\n",
    "\n",
    "print(a)"
   ]
  },
  {
   "cell_type": "code",
   "execution_count": 11,
   "metadata": {
    "collapsed": false
   },
   "outputs": [
    {
     "name": "stdout",
     "output_type": "stream",
     "text": [
      "50\n",
      "40\n",
      "30\n",
      "20\n",
      "10\n",
      "\n",
      "50\n",
      "40\n",
      "30\n",
      "20\n",
      "10\n"
     ]
    }
   ],
   "source": [
    "# given a list. WAP to print list in reverse order\n",
    "a = [10,20,30,40,50]\n",
    "\n",
    "i = len(a) - 1\n",
    "while i >= 0:\n",
    "    print(a[i])\n",
    "    i -= 1\n",
    "    \n",
    "#4 3 2 1 0\n",
    "print()\n",
    "i = 1\n",
    "while i <= len(a):\n",
    "    print(a[-i])\n",
    "    i+=1"
   ]
  },
  {
   "cell_type": "markdown",
   "metadata": {},
   "source": [
    " ## for loop"
   ]
  },
  {
   "cell_type": "code",
   "execution_count": 13,
   "metadata": {
    "collapsed": false
   },
   "outputs": [
    {
     "name": "stdout",
     "output_type": "stream",
     "text": [
      "10\n",
      "20\n",
      "30\n",
      "abc\n",
      "True\n"
     ]
    }
   ],
   "source": [
    "a = [10,20,30, 'abc',True]\n",
    "\n",
    "for x in a: # correct way\n",
    "    print(x)\n",
    "    \n",
    "#for <var> in <seq/iterable>:\n",
    "    # some code"
   ]
  },
  {
   "cell_type": "code",
   "execution_count": 15,
   "metadata": {
    "collapsed": false
   },
   "outputs": [
    {
     "name": "stdout",
     "output_type": "stream",
     "text": [
      "A\n",
      "B\n",
      "C\n",
      "D\n"
     ]
    }
   ],
   "source": [
    "for s in 'ABCD':\n",
    "    print(s)"
   ]
  },
  {
   "cell_type": "code",
   "execution_count": 20,
   "metadata": {
    "collapsed": false
   },
   "outputs": [
    {
     "name": "stdout",
     "output_type": "stream",
     "text": [
      "range(0, 10)\n",
      "[0, 1, 2, 3, 4, 5, 6, 7, 8, 9]\n",
      "range(10, 20)\n",
      "[10, 11, 12, 13, 14, 15, 16, 17, 18, 19]\n",
      "range(10, 20, 2)\n",
      "[10, 12, 14, 16, 18]\n"
     ]
    }
   ],
   "source": [
    "r1 = range(10) # looks and behaves like a sequence\n",
    "print(r1)\n",
    "print(list(r1))\n",
    "r1 = range(10,20) # 10-19\n",
    "print(r1)\n",
    "\n",
    "print(list(r1))\n",
    "\n",
    "r1 = range(10,20,2) # 10,12,14... 18\n",
    "print(r1)\n",
    "print(list(r1))"
   ]
  },
  {
   "cell_type": "code",
   "execution_count": 21,
   "metadata": {
    "collapsed": false
   },
   "outputs": [
    {
     "name": "stdout",
     "output_type": "stream",
     "text": [
      "1\n",
      "2\n",
      "3\n",
      "4\n",
      "5\n",
      "6\n",
      "7\n",
      "8\n",
      "9\n",
      "10\n",
      "11\n",
      "12\n",
      "13\n",
      "14\n",
      "15\n",
      "16\n",
      "17\n",
      "18\n",
      "19\n",
      "20\n"
     ]
    }
   ],
   "source": [
    "# WAP to print no. from 1-20\n",
    "for i in range(1,21):\n",
    "    print(i)"
   ]
  },
  {
   "cell_type": "code",
   "execution_count": 30,
   "metadata": {
    "collapsed": false
   },
   "outputs": [
    {
     "name": "stdout",
     "output_type": "stream",
     "text": [
      "Enter something(Type exit to exit):n\n",
      "You entered :  n\n",
      "Enter something(Type exit to exit):fdsf\n",
      "You entered :  fdsf\n",
      "Enter something(Type exit to exit):exit\n",
      "You entered :  exit\n"
     ]
    }
   ],
   "source": [
    "# for loop cannot be used here.\n",
    "x = ''\n",
    "\n",
    "while x != 'exit':\n",
    "    x = input(\"Enter something(Type exit to exit):\")\n",
    "    print(\"You entered : \", x)\n"
   ]
  },
  {
   "cell_type": "code",
   "execution_count": 40,
   "metadata": {
    "collapsed": false
   },
   "outputs": [
    {
     "name": "stdout",
     "output_type": "stream",
     "text": [
      "10.444\n",
      "ab\n",
      "20\n",
      "10\n",
      "\n",
      "10.444\n",
      "ab\n",
      "20\n",
      "10\n"
     ]
    }
   ],
   "source": [
    "a = [10,20,'ab',10.444]\n",
    "\n",
    "for i in range(len(a)-1 , -1, -1):\n",
    "    print(a[i])\n",
    "    \n",
    "print()\n",
    "for x in reversed(a):\n",
    "    print(x)"
   ]
  },
  {
   "cell_type": "code",
   "execution_count": 38,
   "metadata": {
    "collapsed": false
   },
   "outputs": [
    {
     "name": "stdout",
     "output_type": "stream",
     "text": [
      "<list_reverseiterator object at 0x000002C85CDD4CC0> [10, 20, 30, 40]\n",
      "40\n",
      "30\n",
      "20\n",
      "10\n"
     ]
    }
   ],
   "source": [
    "a = [10,20,30,40,]\n",
    "r = reversed(a)\n",
    "print(r, a)\n",
    "\n",
    "for data in r:\n",
    "    print(data)"
   ]
  },
  {
   "cell_type": "markdown",
   "metadata": {},
   "source": [
    "### Patterns"
   ]
  },
  {
   "cell_type": "code",
   "execution_count": 44,
   "metadata": {
    "collapsed": false
   },
   "outputs": [
    {
     "name": "stdout",
     "output_type": "stream",
     "text": [
      "#\n",
      "#\n",
      "#\n",
      "#\n",
      "#\n"
     ]
    }
   ],
   "source": [
    "#####\n",
    "for i in range(5):\n",
    "    print(\"#\" , end ='')"
   ]
  },
  {
   "cell_type": "code",
   "execution_count": 43,
   "metadata": {
    "collapsed": false
   },
   "outputs": [
    {
     "name": "stdout",
     "output_type": "stream",
     "text": [
      "#########################"
     ]
    }
   ],
   "source": [
    "#####  nested for loop\n",
    "for i in range(5):\n",
    "    for j in range(5):\n",
    "        print(\"#\" , end ='')"
   ]
  },
  {
   "cell_type": "code",
   "execution_count": 45,
   "metadata": {
    "collapsed": false
   },
   "outputs": [
    {
     "name": "stdout",
     "output_type": "stream",
     "text": [
      "#####\n",
      "#####\n",
      "#####\n",
      "#####\n",
      "#####\n"
     ]
    }
   ],
   "source": [
    "#####  nested for loop\n",
    "for i in range(5): # outer\n",
    "    for j in range(5): # inner\n",
    "        print(\"#\" , end ='')\n",
    "    print()"
   ]
  },
  {
   "cell_type": "code",
   "execution_count": 47,
   "metadata": {
    "collapsed": false
   },
   "outputs": [
    {
     "name": "stdout",
     "output_type": "stream",
     "text": [
      "*\n",
      "**\n",
      "***\n",
      "****\n",
      "*****\n"
     ]
    }
   ],
   "source": [
    "\n",
    "for i in range(5): # outer: lines\n",
    "    for j in range(i+1): # inner: no of symbols in a line\n",
    "        print(\"*\" , end ='')\n",
    "    print()\n",
    "# i  0    1         2\n",
    "# j  0 1x  0  1 2x  0  1  2 3x\n",
    "#*\n",
    "#**\n",
    "#***\n"
   ]
  },
  {
   "cell_type": "code",
   "execution_count": 49,
   "metadata": {
    "collapsed": false
   },
   "outputs": [
    {
     "name": "stdout",
     "output_type": "stream",
     "text": [
      "*****\n",
      "****\n",
      "***\n",
      "**\n",
      "*\n"
     ]
    }
   ],
   "source": [
    "\n",
    "for i in range(5): # outer: lines\n",
    "    for j in range(5 - i): # inner: no of symbols in a line\n",
    "        print(\"*\" , end ='')\n",
    "    print()\n"
   ]
  },
  {
   "cell_type": "code",
   "execution_count": 50,
   "metadata": {
    "collapsed": false
   },
   "outputs": [
    {
     "name": "stdout",
     "output_type": "stream",
     "text": [
      "     *\n",
      "    **\n",
      "   ***\n",
      "  ****\n",
      " *****\n"
     ]
    }
   ],
   "source": [
    "\n",
    "for i in range(5): # outer: lines\n",
    "    for j in range(5 - i): # inner: no of symbols in a line\n",
    "        print(\" \" , end ='')\n",
    "    for j in range(i+1): # inner: no of symbols in a line\n",
    "        print(\"*\" , end ='')\n",
    "    print()"
   ]
  },
  {
   "cell_type": "code",
   "execution_count": 51,
   "metadata": {
    "collapsed": false
   },
   "outputs": [
    {
     "name": "stdout",
     "output_type": "stream",
     "text": [
      "1\n",
      "22\n",
      "333\n",
      "4444\n",
      "55555\n"
     ]
    }
   ],
   "source": [
    "\n",
    "for i in range(5): # outer: lines\n",
    "    for j in range(i+1): # inner: no of symbols in a line\n",
    "        print(i+1, end ='')\n",
    "    print()\n"
   ]
  },
  {
   "cell_type": "code",
   "execution_count": 52,
   "metadata": {
    "collapsed": false
   },
   "outputs": [
    {
     "name": "stdout",
     "output_type": "stream",
     "text": [
      "1\n",
      "12\n",
      "123\n",
      "1234\n",
      "12345\n"
     ]
    }
   ],
   "source": [
    "\n",
    "for i in range(5): # outer: lines\n",
    "    for j in range(i+1): # inner: no of symbols in a line\n",
    "        print(j+1, end ='')\n",
    "    print()\n"
   ]
  },
  {
   "cell_type": "code",
   "execution_count": 53,
   "metadata": {
    "collapsed": false
   },
   "outputs": [
    {
     "name": "stdout",
     "output_type": "stream",
     "text": [
      "5\n",
      "44\n",
      "333\n",
      "2222\n",
      "11111\n"
     ]
    }
   ],
   "source": [
    "\n",
    "for i in range(5): # outer: lines\n",
    "    for j in range(i+1): # inner: no of symbols in a line\n",
    "        print(5- i, end ='')\n",
    "    print()\n"
   ]
  },
  {
   "cell_type": "code",
   "execution_count": 2,
   "metadata": {
    "collapsed": false
   },
   "outputs": [
    {
     "name": "stdout",
     "output_type": "stream",
     "text": [
      "[10, 20, 30, 40, 50]\n",
      "[50, 40, 30, 20, 10]\n"
     ]
    }
   ],
   "source": [
    "a = [i for i in range(10,60,10)]\n",
    "print(a)\n",
    "\n",
    "for i in range(len(a)//2):\n",
    "    a[i],a[len(a) -i - 1] = a[len(a) -i - 1], a[i]\n",
    "print(a)"
   ]
  },
  {
   "cell_type": "code",
   "execution_count": 6,
   "metadata": {
    "collapsed": false
   },
   "outputs": [
    {
     "name": "stdout",
     "output_type": "stream",
     "text": [
      "[10, 20, 30, 40, 50]\n",
      "[50, 40, 30, 20, 10]\n"
     ]
    }
   ],
   "source": [
    "a = [i for i in range(10,60,10)]# list comprehension\n",
    "print(a)\n",
    "\n",
    "i = 0\n",
    "j = len(a) - 1\n",
    "while i < j:\n",
    "    a[i], a[j] = a[j],a[i]\n",
    "    i+=1\n",
    "    j-=1\n",
    "\n",
    "print(a)"
   ]
  },
  {
   "cell_type": "code",
   "execution_count": 8,
   "metadata": {
    "collapsed": false
   },
   "outputs": [
    {
     "name": "stdout",
     "output_type": "stream",
     "text": [
      "[80, 42, 67, 21, 83, 16, 64, 87, 48, 53]\n"
     ]
    }
   ],
   "source": [
    "import random\n",
    "l = [random.randint(10,100) for i in range(10)]\n",
    "print(l)"
   ]
  },
  {
   "cell_type": "code",
   "execution_count": 10,
   "metadata": {
    "collapsed": false
   },
   "outputs": [
    {
     "name": "stdout",
     "output_type": "stream",
     "text": [
      "87\n"
     ]
    }
   ],
   "source": [
    "a = [80, 42, 67, 21, 83, 16, 64, 87, 48, 53]\n",
    "\n",
    "m = a[0]\n",
    "\n",
    "for data in a:\n",
    "    if data > m:\n",
    "        m = data\n",
    "        \n",
    "print(m)"
   ]
  },
  {
   "cell_type": "code",
   "execution_count": 3,
   "metadata": {
    "collapsed": false
   },
   "outputs": [
    {
     "name": "stdout",
     "output_type": "stream",
     "text": [
      "7\n"
     ]
    }
   ],
   "source": [
    "a = [80, 42, 67, 21, 83, 16, 64, 87, 48, 53]\n",
    "#     0  1    2   3   4   5   6   7   8  9\n",
    "\n",
    "m = 0\n",
    "\n",
    "for i in range(len(a)):\n",
    "    if a[i] > a[m]:\n",
    "        m = i\n",
    "        \n",
    "print(m)\n",
    "# m 0  0  0  0  0->4  4  4  4->7  7  7\n",
    "# i 0  1  2  3  4     5  6  7     8  9\n",
    "\n"
   ]
  },
  {
   "cell_type": "code",
   "execution_count": 4,
   "metadata": {
    "collapsed": false
   },
   "outputs": [
    {
     "name": "stdout",
     "output_type": "stream",
     "text": [
      "87\n",
      "7\n"
     ]
    }
   ],
   "source": [
    "a = [80, 42, 67, 21, 83, 16, 64, 87, 48, 53]\n",
    "#     0  1    2   3   4   5   6   7   8  9\n",
    "\n",
    "m = a[0]\n",
    "m_idx = 0\n",
    "\n",
    "for i, data in enumerate(a):\n",
    "    if data > m:\n",
    "        m_idx = i\n",
    "        m = data\n",
    "        \n",
    "print(m)\n",
    "print(m_idx)\n",
    "# m 0  0  0  0  0->4  4  4  4->7  7  7\n",
    "# i 0  1  2  3  4     5  6  7     8  9\n",
    "\n",
    "\n"
   ]
  },
  {
   "cell_type": "code",
   "execution_count": 7,
   "metadata": {
    "collapsed": false
   },
   "outputs": [
    {
     "name": "stdout",
     "output_type": "stream",
     "text": [
      "1.0\n"
     ]
    }
   ],
   "source": [
    "def triangle(b, h ):\n",
    "    t = 1/2 * b * h\n",
    "    return t\n",
    "\n",
    "print(triangle(1,2))"
   ]
  },
  {
   "cell_type": "code",
   "execution_count": 10,
   "metadata": {
    "collapsed": false
   },
   "outputs": [
    {
     "name": "stdout",
     "output_type": "stream",
     "text": [
      "Python de\n"
     ]
    }
   ],
   "source": [
    "str = \"Python delimiters\"\n",
    "print(str[:-8])"
   ]
  },
  {
   "cell_type": "code",
   "execution_count": 62,
   "metadata": {
    "collapsed": false
   },
   "outputs": [
    {
     "name": "stdout",
     "output_type": "stream",
     "text": [
      "['this', 'is', 'a', 'string', 'to', 'practice']\n",
      "None\n"
     ]
    }
   ],
   "source": [
    "import re\n",
    "def pattern_find(str):\n",
    "    \n",
    "    pattern = re.sub(r\".,\", \" \", str)\n",
    "    print(pattern.split())\n",
    "\n",
    "    \n",
    "str = \"this is a string to.,practice\"\n",
    "print(pattern_find(str))"
   ]
  },
  {
   "cell_type": "code",
   "execution_count": null,
   "metadata": {
    "collapsed": true
   },
   "outputs": [],
   "source": []
  },
  {
   "cell_type": "code",
   "execution_count": null,
   "metadata": {
    "collapsed": true
   },
   "outputs": [],
   "source": []
  }
 ],
 "metadata": {
  "anaconda-cloud": {},
  "kernelspec": {
   "display_name": "Python [Root]",
   "language": "python",
   "name": "Python [Root]"
  },
  "language_info": {
   "codemirror_mode": {
    "name": "ipython",
    "version": 3
   },
   "file_extension": ".py",
   "mimetype": "text/x-python",
   "name": "python",
   "nbconvert_exporter": "python",
   "pygments_lexer": "ipython3",
   "version": "3.5.2"
  }
 },
 "nbformat": 4,
 "nbformat_minor": 2
}
