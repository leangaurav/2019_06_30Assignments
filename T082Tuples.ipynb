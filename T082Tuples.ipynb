{
 "cells": [
  {
   "cell_type": "markdown",
   "metadata": {},
   "source": [
    "### Tuple\n",
    "- Immutable\n",
    "- Sequence\n",
    "- Heterogeneous"
   ]
  },
  {
   "cell_type": "code",
   "execution_count": 7,
   "metadata": {},
   "outputs": [
    {
     "name": "stdout",
     "output_type": "stream",
     "text": [
      "() <class 'tuple'>\n",
      "1.5\n",
      "0.75\n",
      "1 <class 'int'>\n",
      "(1,) <class 'tuple'>\n",
      "(1, 2) <class 'tuple'>\n"
     ]
    }
   ],
   "source": [
    "t = ()\n",
    "print(t, type(t))\n",
    "\n",
    "x = 1+2/4\n",
    "print(x)\n",
    "x = (1+2)/4\n",
    "print(x)\n",
    "x = (1)\n",
    "print(x, type(x))\n",
    "\n",
    "x = (1,)\n",
    "print(x, type(x))\n",
    "x = (1,2)\n",
    "print(x, type(x))\n"
   ]
  },
  {
   "cell_type": "code",
   "execution_count": 9,
   "metadata": {},
   "outputs": [
    {
     "name": "stdout",
     "output_type": "stream",
     "text": [
      "(1,) <class 'tuple'>\n",
      "(1, 2) <class 'tuple'>\n",
      "(1, 2) <class 'tuple'>\n"
     ]
    }
   ],
   "source": [
    "x = 1,\n",
    "print(x, type(x))\n",
    "x = 1,2\n",
    "print(x, type(x))\n",
    "x = 1,2,\n",
    "print(x, type(x))"
   ]
  },
  {
   "cell_type": "code",
   "execution_count": 10,
   "metadata": {},
   "outputs": [
    {
     "name": "stdout",
     "output_type": "stream",
     "text": [
      "(10, 20) <class 'tuple'>\n"
     ]
    }
   ],
   "source": [
    "x = 10\n",
    "y = 20\n",
    "r = x,y\n",
    "print(r, type(r))"
   ]
  },
  {
   "cell_type": "code",
   "execution_count": 12,
   "metadata": {},
   "outputs": [
    {
     "name": "stdout",
     "output_type": "stream",
     "text": [
      "('a', 'b') <class 'tuple'>\n",
      "ab <class 'str'>\n"
     ]
    }
   ],
   "source": [
    "x = 'a', 'b'\n",
    "print(x, type(x))\n",
    "x = 'a''b'\n",
    "print(x, type(x))"
   ]
  },
  {
   "cell_type": "code",
   "execution_count": 17,
   "metadata": {},
   "outputs": [
    {
     "name": "stdout",
     "output_type": "stream",
     "text": [
      "() <class 'tuple'>\n",
      "(1, 2, 3) <class 'tuple'>\n",
      "(1, 2, 3) <class 'tuple'>\n",
      "('a', 'b', 'c', 'd', ' ', '1', '2', '3') <class 'tuple'>\n"
     ]
    }
   ],
   "source": [
    "t = tuple()\n",
    "print(t, type(t))\n",
    "#t = tuple(1,2,3)\n",
    "#print(t, type(t))\n",
    "t = tuple( [1,2,3] )\n",
    "print(t, type(t))\n",
    "t = tuple( (1,2,3) )\n",
    "print(t, type(t))\n",
    "t = tuple( 'abcd 123' )\n",
    "print(t, type(t))"
   ]
  },
  {
   "cell_type": "code",
   "execution_count": 19,
   "metadata": {},
   "outputs": [
    {
     "name": "stdout",
     "output_type": "stream",
     "text": [
      "10\n",
      "20\n",
      "30\n",
      "ABC\n"
     ]
    }
   ],
   "source": [
    "for data in (10,20,30,'ABC'):\n",
    "    print(data)"
   ]
  },
  {
   "cell_type": "code",
   "execution_count": 22,
   "metadata": {},
   "outputs": [
    {
     "name": "stdout",
     "output_type": "stream",
     "text": [
      "20\n",
      "(10, 20, 30)\n"
     ]
    }
   ],
   "source": [
    "t = 10,20,30\n",
    "print(t[1])# indexing supported\n",
    "#t[0] = 1000 # item assignment not supported\n",
    "print(t)\n"
   ]
  },
  {
   "cell_type": "code",
   "execution_count": 24,
   "metadata": {},
   "outputs": [
    {
     "name": "stdout",
     "output_type": "stream",
     "text": [
      "(10, 11, 12, 13, 14)\n"
     ]
    }
   ],
   "source": [
    "t = tuple(range(10,15))\n",
    "print(t)"
   ]
  },
  {
   "cell_type": "code",
   "execution_count": null,
   "metadata": {},
   "outputs": [],
   "source": []
  },
  {
   "cell_type": "code",
   "execution_count": null,
   "metadata": {},
   "outputs": [],
   "source": []
  }
 ],
 "metadata": {
  "kernelspec": {
   "display_name": "Python 3",
   "language": "python",
   "name": "python3"
  },
  "language_info": {
   "codemirror_mode": {
    "name": "ipython",
    "version": 3
   },
   "file_extension": ".py",
   "mimetype": "text/x-python",
   "name": "python",
   "nbconvert_exporter": "python",
   "pygments_lexer": "ipython3",
   "version": "3.7.3"
  }
 },
 "nbformat": 4,
 "nbformat_minor": 2
}
