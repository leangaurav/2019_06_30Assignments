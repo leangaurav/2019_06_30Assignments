{
 "cells": [
  {
   "cell_type": "code",
   "execution_count": 16,
   "metadata": {},
   "outputs": [
    {
     "name": "stdout",
     "output_type": "stream",
     "text": [
      "2\n",
      "2\n",
      "2\n",
      "2\n",
      "[[0, 0, 0], [0, 0, 1], [0, 1, 0], [0, 1, 2], [0, 2, 1], [0, 2, 2], [1, 0, 0], [1, 0, 2], [1, 1, 1], [1, 1, 2], [1, 2, 0], [1, 2, 1], [1, 2, 2], [2, 0, 1], [2, 0, 2], [2, 1, 0], [2, 1, 1], [2, 1, 2], [2, 2, 0], [2, 2, 1], [2, 2, 2]]\n"
     ]
    }
   ],
   "source": [
    "x = int(input())\n",
    "y = int(input())\n",
    "z = int(input())\n",
    "n = int(input())\n",
    "a = [ [ i , j, k ]   for i in range ( x + 1 ) for j in range( y + 1) for k in range(z + 1) if i+j+k != n  ]\n",
    "print (a)"
   ]
  },
  {
   "cell_type": "code",
   "execution_count": 39,
   "metadata": {},
   "outputs": [
    {
     "name": "stdout",
     "output_type": "stream",
     "text": [
      "2\n",
      "3 4\n",
      "[3, 4]\n"
     ]
    }
   ],
   "source": [
    "n = int(input())\n",
    "arr = map(int, input().split())\n",
    "#l = len(n) - 1\n",
    "a = list (arr)\n",
    "print (a)\n",
    "\n",
    "    "
   ]
  },
  {
   "cell_type": "code",
   "execution_count": 54,
   "metadata": {},
   "outputs": [
    {
     "name": "stdout",
     "output_type": "stream",
     "text": [
      "[1, 5, 7, 4, 6, 7]\n",
      "[1, 5, 4, 6, 7, 7]\n",
      "[1, 4, 5, 6, 7, 7]\n",
      "6\n"
     ]
    }
   ],
   "source": [
    "a = [1,5,7,4,6,7]\n",
    "print (a)\n",
    "x = []\n",
    "for i in range(0,len(a)-1):\n",
    "        if a[i] >= a [i + 1]:\n",
    "            t = a[i]\n",
    "            a[i] = a[i+1]\n",
    "            a[i + 1] = t\n",
    "print (a) \n",
    "for i in range(0,len(a)-1):\n",
    "        if a[i] >= a [i + 1]:\n",
    "            t = a[i]\n",
    "            a[i] = a[i+1]\n",
    "            a[i + 1] = t\n",
    "print (a) \n",
    "if a[len(a)-1] == a[len(a)-2]:\n",
    "    print (a[len(a)-3])\n",
    "else:\n",
    "    print (a[len(a)-2])\n",
    "\n",
    "        "
   ]
  },
  {
   "cell_type": "code",
   "execution_count": null,
   "metadata": {},
   "outputs": [],
   "source": [
    "if __name__ == '__main__':\n",
    "    n = int(input())\n",
    "    arr = map(int, input().split())\n",
    "    a = list(arr)\n",
    "    i = 1\n",
    "    while i <3:\n",
    "    for i in range(0,len(a)-1):\n",
    "        if a[i] >= a [i + 1]:\n",
    "            t = a[i]\n",
    "            a[i] = a[i+1]\n",
    "            a[i + 1] = t\n",
    "    for i in range(0,len(a)-1):\n",
    "        if a[i] >= a [i + 1]:\n",
    "            t = a[i]\n",
    "            a[i] = a[i+1]\n",
    "            a[i + 1] = t\n",
    "\n",
    "    if a[len(a)-1] == a[len(a)-2]:\n",
    "        print (a[len(a)-3])\n",
    "    else:\n",
    "        print (a[len(a)-2])"
   ]
  },
  {
   "cell_type": "code",
   "execution_count": 56,
   "metadata": {},
   "outputs": [
    {
     "name": "stdout",
     "output_type": "stream",
     "text": [
      "[1, 7, 8, 6]\n",
      "7\n"
     ]
    }
   ],
   "source": [
    "    a = [1, 7, 7, 8, 6, 7]\n",
    "    a = list( dict.fromkeys(a) )\n",
    "    print (a)\n",
    "    j = 1\n",
    "    if 2<= n <=10: \n",
    "        while j <len(a) - 1:\n",
    "            for i in range(0,len(a)-1):\n",
    "                if -100<=a[i]<=100:\n",
    "                    if a[i] >= a [i + 1]:\n",
    "                        t = a[i]\n",
    "                        a[i] = a[i+1]\n",
    "                        a[i + 1] = t\n",
    "                        j += 1\n",
    "\n",
    "    \n",
    "        print (a[len(a)-2])\n"
   ]
  },
  {
   "cell_type": "code",
   "execution_count": 58,
   "metadata": {},
   "outputs": [
    {
     "name": "stdout",
     "output_type": "stream",
     "text": [
      "[8, 1, 6, 7]\n",
      "7\n"
     ]
    }
   ],
   "source": [
    "    a = [1, 7, 7, 8, 6, 7]\n",
    "    a = list(set(a))\n",
    "    print (a)\n",
    "    j = 1\n",
    "    if 2<= n <=10: \n",
    "        while j <len(a) - 1:\n",
    "            for i in range(0,len(a)-1):\n",
    "                if -100<=a[i]<=100:\n",
    "                    if a[i] >= a [i + 1]:\n",
    "                        t = a[i]\n",
    "                        a[i] = a[i+1]\n",
    "                        a[i + 1] = t\n",
    "                        j += 1\n",
    "\n",
    "    \n",
    "        print (a[len(a)-2])"
   ]
  },
  {
   "cell_type": "code",
   "execution_count": 63,
   "metadata": {},
   "outputs": [
    {
     "data": {
      "text/plain": [
       "'['"
      ]
     },
     "execution_count": 63,
     "metadata": {},
     "output_type": "execute_result"
    }
   ],
   "source": [
    "ord('Z')\n",
    "chr(91)"
   ]
  },
  {
   "cell_type": "code",
   "execution_count": 64,
   "metadata": {},
   "outputs": [
    {
     "name": "stdout",
     "output_type": "stream",
     "text": [
      "['aneesh', 'narain ', 'Singh']\n"
     ]
    }
   ],
   "source": [
    "f = '''aneesh\n",
    "narain \n",
    "Singh'''\n",
    "f1 = f.split('\\n')\n",
    "print (f1)"
   ]
  },
  {
   "cell_type": "code",
   "execution_count": 69,
   "metadata": {},
   "outputs": [
    {
     "name": "stdout",
     "output_type": "stream",
     "text": [
      "aneesh\n",
      "narain sin gh\n",
      "ans adf\n",
      "a\n",
      "n\n",
      "e\n",
      "e\n",
      "s\n",
      "h\n",
      "\n",
      "\n",
      "n\n",
      "a\n",
      "r\n",
      "a\n",
      "i\n",
      "n\n",
      " \n",
      "s\n",
      "i\n",
      "n\n",
      " \n",
      "g\n",
      "h\n",
      "\n",
      "\n",
      "a\n",
      "n\n",
      "s\n",
      " \n",
      "a\n",
      "d\n",
      "f\n"
     ]
    }
   ],
   "source": [
    "f = '''aneesh\n",
    "narain sin gh\n",
    "ans adf'''\n",
    "word = 0\n",
    "print (f)\n",
    "for line in f:\n",
    "    print (line)\n"
   ]
  },
  {
   "cell_type": "code",
   "execution_count": 75,
   "metadata": {},
   "outputs": [
    {
     "data": {
      "text/plain": [
       "122"
      ]
     },
     "execution_count": 75,
     "metadata": {},
     "output_type": "execute_result"
    }
   ],
   "source": [
    "ord('z')"
   ]
  }
 ],
 "metadata": {
  "kernelspec": {
   "display_name": "Python 3",
   "language": "python",
   "name": "python3"
  },
  "language_info": {
   "codemirror_mode": {
    "name": "ipython",
    "version": 3
   },
   "file_extension": ".py",
   "mimetype": "text/x-python",
   "name": "python",
   "nbconvert_exporter": "python",
   "pygments_lexer": "ipython3",
   "version": "3.7.3"
  }
 },
 "nbformat": 4,
 "nbformat_minor": 2
}
