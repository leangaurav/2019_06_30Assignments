{
 "cells": [
  {
   "cell_type": "code",
   "execution_count": 1,
   "metadata": {},
   "outputs": [
    {
     "name": "stdout",
     "output_type": "stream",
     "text": [
      "Enter name of person:sfdfds\n",
      "Enter Age:23\n",
      "sfdfds 23\n"
     ]
    }
   ],
   "source": [
    "# INput name of person\n",
    "# input their age \n",
    "# and print both on screen\n",
    "\n",
    "n = input('Enter name of person:')\n",
    "a = int(input('Enter Age:')) # Exception handling\n",
    "\n",
    "\n",
    "n1 = input('Enter name of person:')\n",
    "a1 = int(input('Enter Age:')) # Exception handling\n",
    "\n",
    "\n",
    "print(n,a1)\n",
    "\n"
   ]
  },
  {
   "cell_type": "code",
   "execution_count": null,
   "metadata": {},
   "outputs": [],
   "source": [
    "# class\n",
    "# object\n",
    "# behavior / functions / methods\n",
    "# property / attribute / data-variable / state"
   ]
  },
  {
   "cell_type": "code",
   "execution_count": 8,
   "metadata": {},
   "outputs": [
    {
     "name": "stdout",
     "output_type": "stream",
     "text": [
      "<class '__main__.Dummy'>\n",
      "<__main__.Dummy object at 0x0000026A5CEC30F0>\n",
      "<__main__.Dummy object at 0x0000026A5CEC30B8>\n",
      "<__main__.Dummy object at 0x0000026A5CEC30F0>\n",
      "['__class__', '__delattr__', '__dict__', '__dir__', '__doc__', '__eq__', '__format__', '__ge__', '__getattribute__', '__gt__', '__hash__', '__init__', '__init_subclass__', '__le__', '__lt__', '__module__', '__ne__', '__new__', '__reduce__', '__reduce_ex__', '__repr__', '__setattr__', '__sizeof__', '__str__', '__subclasshook__', '__weakref__']\n"
     ]
    }
   ],
   "source": [
    "class Dummy: # create custom data types\n",
    "    pass\n",
    "\n",
    "print(Dummy)\n",
    "print(Dummy())\n",
    "print(Dummy())\n",
    "d1 = Dummy()\n",
    "print(d1)\n",
    "\n",
    "print(dir(Dummy))"
   ]
  },
  {
   "cell_type": "code",
   "execution_count": 13,
   "metadata": {},
   "outputs": [
    {
     "name": "stdout",
     "output_type": "stream",
     "text": [
      "Creating Object <__main__.Test object at 0x0000026A5CEC3C50>\n",
      "Creating Object <__main__.Test object at 0x0000026A5CEC3BE0>\n"
     ]
    }
   ],
   "source": [
    "class Test:\n",
    "    def __init__(gaurav): # constructor\n",
    "        print('Creating Object', gaurav)\n",
    "        \n",
    "# constructor is called automatically when we create an object of class\n",
    "t1 = Test()\n",
    "t2 = Test()"
   ]
  },
  {
   "cell_type": "code",
   "execution_count": 15,
   "metadata": {},
   "outputs": [
    {
     "name": "stdout",
     "output_type": "stream",
     "text": [
      "Creating Object <__main__.Test object at 0x0000026A5CED1550>\n",
      "<__main__.Test object at 0x0000026A5CED1550>\n",
      "Creating Object <__main__.Test object at 0x0000026A5CED1278>\n",
      "<__main__.Test object at 0x0000026A5CED1278>\n"
     ]
    }
   ],
   "source": [
    "class Test:\n",
    "    def __init__(self): # constructor\n",
    "        print('Creating Object', self)\n",
    "        \n",
    "# constructor is called automatically when we create an object of class\n",
    "t1 = Test()\n",
    "print(t1)\n",
    "\n",
    "t2 = Test()\n",
    "print(t2)"
   ]
  },
  {
   "cell_type": "code",
   "execution_count": 18,
   "metadata": {},
   "outputs": [
    {
     "name": "stdout",
     "output_type": "stream",
     "text": [
      "90 Gaurav\n"
     ]
    },
    {
     "ename": "AttributeError",
     "evalue": "'Person' object has no attribute 'age'",
     "output_type": "error",
     "traceback": [
      "\u001b[1;31m---------------------------------------------------------------------------\u001b[0m",
      "\u001b[1;31mAttributeError\u001b[0m                            Traceback (most recent call last)",
      "\u001b[1;32m<ipython-input-18-004394e2f37b>\u001b[0m in \u001b[0;36m<module>\u001b[1;34m\u001b[0m\n\u001b[0;32m     11\u001b[0m \u001b[1;33m\u001b[0m\u001b[0m\n\u001b[0;32m     12\u001b[0m \u001b[0mp2\u001b[0m \u001b[1;33m=\u001b[0m \u001b[0mPerson\u001b[0m\u001b[1;33m(\u001b[0m\u001b[1;33m)\u001b[0m\u001b[1;33m\u001b[0m\u001b[1;33m\u001b[0m\u001b[0m\n\u001b[1;32m---> 13\u001b[1;33m \u001b[0mprint\u001b[0m\u001b[1;33m(\u001b[0m\u001b[0mp2\u001b[0m\u001b[1;33m.\u001b[0m\u001b[0mage\u001b[0m\u001b[1;33m)\u001b[0m\u001b[1;33m\u001b[0m\u001b[1;33m\u001b[0m\u001b[0m\n\u001b[0m",
      "\u001b[1;31mAttributeError\u001b[0m: 'Person' object has no attribute 'age'"
     ]
    }
   ],
   "source": [
    "class Person:\n",
    "    pass\n",
    "\n",
    "\n",
    "p1 = Person()\n",
    "p1.age = 100\n",
    "p1.name = 'Gaurav'\n",
    "p1.age = 90\n",
    "\n",
    "print(p1.age, p1.name)\n",
    "\n",
    "p2 = Person()\n",
    "print(p2.age)"
   ]
  },
  {
   "cell_type": "code",
   "execution_count": 20,
   "metadata": {},
   "outputs": [
    {
     "name": "stdout",
     "output_type": "stream",
     "text": [
      "100 Gaurav\n",
      "100\n"
     ]
    }
   ],
   "source": [
    "class PersonV1:\n",
    "    def __init__(self):\n",
    "        self.age = 100\n",
    "        self.name = 'Gaurav'\n",
    "\n",
    "\n",
    "p1 = PersonV1()\n",
    "print(p1.age, p1.name)\n",
    "\n",
    "p2 = PersonV1()\n",
    "print(p2.age)"
   ]
  },
  {
   "cell_type": "code",
   "execution_count": 29,
   "metadata": {},
   "outputs": [
    {
     "name": "stdout",
     "output_type": "stream",
     "text": [
      "Name: Gaurav Age: 10\n",
      "Name: Gaurav Age: 10\n",
      "Name: Atul Age: 5\n"
     ]
    }
   ],
   "source": [
    "class PersonV2:\n",
    "    def __init__(self, age, n): # constructor method\n",
    "        self.age = age\n",
    "        self.name = n\n",
    "        #self.print_person()\n",
    "        \n",
    "    def print_person(self): # method\n",
    "        print(\"Name: {} Age: {}\" .format( self.name, self.age )  )\n",
    "\n",
    "\n",
    "p1 = PersonV2(10, 'Gaurav')\n",
    "p1.print_person()\n",
    "p1.print_person()\n",
    "\n",
    "p2 = PersonV2(5, 'Atul')\n",
    "p2.print_person()\n",
    "\n",
    "\n",
    "p3 = PersonV2(10000, 'Gaurav')"
   ]
  },
  {
   "cell_type": "code",
   "execution_count": null,
   "metadata": {},
   "outputs": [],
   "source": []
  },
  {
   "cell_type": "code",
   "execution_count": null,
   "metadata": {},
   "outputs": [],
   "source": []
  }
 ],
 "metadata": {
  "kernelspec": {
   "display_name": "Python 3",
   "language": "python",
   "name": "python3"
  },
  "language_info": {
   "codemirror_mode": {
    "name": "ipython",
    "version": 3
   },
   "file_extension": ".py",
   "mimetype": "text/x-python",
   "name": "python",
   "nbconvert_exporter": "python",
   "pygments_lexer": "ipython3",
   "version": "3.7.3"
  }
 },
 "nbformat": 4,
 "nbformat_minor": 2
}
